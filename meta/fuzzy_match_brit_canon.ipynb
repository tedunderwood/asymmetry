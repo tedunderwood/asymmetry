{
 "cells": [
  {
   "cell_type": "markdown",
   "metadata": {},
   "source": [
    "# Fuzzy-matching canonical volumes\n",
    "\n",
    "Richard So provided a list of American novels canonized by Norton or Heath. This notebook does some fuzzy matching to identify corresponding Hathi volumes. We use deduplicated metadata in order to get the earliest available copy."
   ]
  },
  {
   "cell_type": "code",
   "execution_count": 3,
   "metadata": {},
   "outputs": [],
   "source": [
    "import pandas as pd\n",
    "from difflib import SequenceMatcher\n",
    "from collections import Counter"
   ]
  },
  {
   "cell_type": "code",
   "execution_count": 4,
   "metadata": {},
   "outputs": [
    {
     "data": {
      "text/html": [
       "<div>\n",
       "<style scoped>\n",
       "    .dataframe tbody tr th:only-of-type {\n",
       "        vertical-align: middle;\n",
       "    }\n",
       "\n",
       "    .dataframe tbody tr th {\n",
       "        vertical-align: top;\n",
       "    }\n",
       "\n",
       "    .dataframe thead th {\n",
       "        text-align: right;\n",
       "    }\n",
       "</style>\n",
       "<table border=\"1\" class=\"dataframe\">\n",
       "  <thead>\n",
       "    <tr style=\"text-align: right;\">\n",
       "      <th></th>\n",
       "      <th>author</th>\n",
       "      <th>title</th>\n",
       "      <th>firstpub</th>\n",
       "    </tr>\n",
       "  </thead>\n",
       "  <tbody>\n",
       "    <tr>\n",
       "      <th>0</th>\n",
       "      <td>Conrad, Joseph</td>\n",
       "      <td>The secret Agent</td>\n",
       "      <td>1907</td>\n",
       "    </tr>\n",
       "    <tr>\n",
       "      <th>1</th>\n",
       "      <td>Conrad, Joseph</td>\n",
       "      <td>Heart of Darkness</td>\n",
       "      <td>1899</td>\n",
       "    </tr>\n",
       "    <tr>\n",
       "      <th>2</th>\n",
       "      <td>Dickens, Charles</td>\n",
       "      <td>Hard Times</td>\n",
       "      <td>1854</td>\n",
       "    </tr>\n",
       "    <tr>\n",
       "      <th>3</th>\n",
       "      <td>Brontë, Charlotte</td>\n",
       "      <td>Jane Eyre</td>\n",
       "      <td>1847</td>\n",
       "    </tr>\n",
       "    <tr>\n",
       "      <th>4</th>\n",
       "      <td>Austen, Jane</td>\n",
       "      <td>Pride and Prejudice</td>\n",
       "      <td>1813</td>\n",
       "    </tr>\n",
       "  </tbody>\n",
       "</table>\n",
       "</div>"
      ],
      "text/plain": [
       "              author                title  firstpub\n",
       "0     Conrad, Joseph     The secret Agent      1907\n",
       "1     Conrad, Joseph    Heart of Darkness      1899\n",
       "2   Dickens, Charles           Hard Times      1854\n",
       "3  Brontë, Charlotte            Jane Eyre      1847\n",
       "4       Austen, Jane  Pride and Prejudice      1813"
      ]
     },
     "execution_count": 4,
     "metadata": {},
     "output_type": "execute_result"
    }
   ],
   "source": [
    "norton = pd.read_csv('canon/britnorton.csv')\n",
    "norton.head()"
   ]
  },
  {
   "cell_type": "code",
   "execution_count": 10,
   "metadata": {},
   "outputs": [
    {
     "data": {
      "text/plain": [
       "(39817, 12)"
      ]
     },
     "execution_count": 10,
     "metadata": {},
     "output_type": "execute_result"
    }
   ],
   "source": [
    "meta = pd.read_csv('../supplement2/supp2nationalitymeta.tsv', sep = '\\t')\n",
    "meta.shape"
   ]
  },
  {
   "cell_type": "markdown",
   "metadata": {},
   "source": [
    "### Create \"blocks\" of records for speedier processing\n",
    "\n",
    "Fuzzy matching can be pretty slow if you have to check each author/title combination against the whole list of 138,000 records. So it's conventional to group records into \"blocks.\" Here we'll use the first two letters of the author's last name.\n",
    "\n",
    "In reality, the number of books we're dealing with here isn't overwhelming, but I'm in the habit of doing this, and it sets a good example."
   ]
  },
  {
   "cell_type": "code",
   "execution_count": 11,
   "metadata": {},
   "outputs": [],
   "source": [
    "def blockcode(aname):\n",
    "    if pd.isnull(aname):\n",
    "        block = 'xx'\n",
    "    elif len(aname) < 3:\n",
    "        block = 'nn'\n",
    "    else:\n",
    "        block = aname.lower()[0:2]\n",
    "    \n",
    "    return block\n",
    "\n",
    "meta = meta.assign(block = meta.author.map(blockcode))\n",
    "\n",
    "byblock = meta.groupby('block')\n",
    "block_dictionary = dict()\n",
    "\n",
    "for code, df in byblock:\n",
    "    block_dictionary[code] = df"
   ]
  },
  {
   "cell_type": "markdown",
   "metadata": {},
   "source": [
    "### Now the actual matching\n",
    "\n",
    "We check author first, then title. If both similarities are above 0.8 we add the record to a list. After sorting, we take the top match."
   ]
  },
  {
   "cell_type": "code",
   "execution_count": 12,
   "metadata": {},
   "outputs": [
    {
     "name": "stdout",
     "output_type": "stream",
     "text": [
      "conrad, joseph  |  the secret agent Conrad, Joseph  ==  The secret agent\n",
      "conrad, joseph  ||  heart of darkness NO MATCH\n",
      "dickens, charles  ||  hard times NO MATCH\n",
      "brontë, charlotte  |  jane eyre Brontë, Charlotte  ==  Jane Eyre\n",
      "austen, jane  |  pride and prejudice Austen, Jane  ==  Pride and Prejudice\n",
      "hardy, thomas  |  jude the obscure Hardy, Thomas  ==  Jude the obscure, | $c: by Thomas Hardy.\n",
      "austen, jane  ||  persuasion NO MATCH\n",
      "ford, ford madox  |  the good soldier Ford, Ford Madox  ==  The good soldier; | a tale of passion, | $c: by Ford Madox Hueffer.\n",
      "shelley, mary  ||  frankenstein NO MATCH\n",
      "austen, jane  ||  emma NO MATCH\n",
      "gaskell, elizabeth  |  mary barton Gaskell, Elizabeth Cleghorn  ==  Mary Barton\n",
      "wells, h g  |  the time machine Wells, H. G. (Herbert George)  ==  The Time Machine\n",
      "woolf, virginia  |  jacob's room Woolf, Virginia  ==  Jacob's room.\n",
      "joyce, james  |  portrait of the artist as a  Joyce, James  ==  A portrait of the artist as a young man / | $c: by James Joyce.\n",
      "wilde, oscar  ||  the picture of dorian gray NO MATCH\n",
      "hardy, thomas  |  the return of the native Hardy, Thomas,  ==  The return of the native\n",
      "gaskell, elizabeth  ||  north and south NO MATCH\n",
      "austen, jane  |  northanger abbey Austen, Jane  ==  Northanger Abbey\n",
      "stevenson, robert louis  ||  the strange case of dr jekyl NO MATCH\n",
      "brontë, emily  |  wuthering heights Brontë, Emily  ==  Wuthering Heights : | a novel / | $c: by the author of \"Jane Eyre.\"\n",
      "kipling, rudyard  |  kim Kipling, Rudyard  ==  Kim\n",
      "hardy, thomas  |  the mayor of casterbridge Hardy, Thomas  ==  The mayor of Casterbridge\n",
      "eliot, george  ||  middlemarch NO MATCH\n",
      "dickens, charles  |  great expectations Dickens, Charles  ==  Great expectations and Hard times\n",
      "rhys, jean  ||  wide sargasso sea NO MATCH\n",
      "austen, jane  ||  sense and sensibility NO MATCH\n",
      "forster, e. m.  ||  howard's end NO MATCH\n",
      "stoker, bram  ||  dracula NO MATCH\n",
      "conrad, joseph  ||  lord jim NO MATCH\n",
      "thackeray, william  ||  vanity fair NO MATCH\n",
      "eliot, george  |  the mill on the floss Eliot, George  ==  The mill on the floss, | $c: by George Eliot.\n",
      "dickens, charles  |  oliver twist Dickens, Charles  ==  Oliver Twist.\n",
      "hardy, thomas  |  tess of the d'urbervilles Hardy, Thomas  ==  Tess of the D'Urbervilles; | a pure woman faithfully presented.\n",
      "dickens, charles  |  david copperfield Dickens, Charles  ==  David Copperfield / | $c: by Charles Dickens.\n",
      "hardy, thomas  |  far from the madding crowd Hardy, Thomas  ==  Far from the madding crowd\n",
      "meredith, george  ||  the egoist NO MATCH\n",
      "dickens, charles  |  bleak house Dickens, Charles  ==  Bleak house\n",
      "burgess, anthony  ||  a clockwork orange NO MATCH\n",
      "joyce, james  ||  dubliners NO MATCH\n",
      "mansfield, katherine  ||  in a german pension NO MATCH\n",
      "lessing, doris  |  the grass is singing Lessing, Doris May  ==  The grass is singing / | $c: Doris Lessing.\n",
      "coetzee, john  ||  waiting for the barbarians NO MATCH\n",
      "achebe, chinua  ||  things fall apart NO MATCH\n",
      "lawrence, d h  ||  women in love NO MATCH\n",
      "gordimer, nadine  ||  a world of strangers NO MATCH\n",
      "ngugi wa thiong'o  ||  weep not, child NO MATCH\n",
      "rushdie, salman  |  midnight's children Rushdie, Salman  ==  Midnight's children : | a novel / | $c: by Salman Rushdie.\n",
      "woolf, virginia  ||  mrs dalloway NO MATCH\n"
     ]
    }
   ],
   "source": [
    "def fuzzymatch(str1, str2):\n",
    "    \n",
    "    m = SequenceMatcher(None, str1, str2)\n",
    "    match = m.real_quick_ratio()\n",
    "    if match > 0.7:\n",
    "        match = m.ratio()\n",
    "    \n",
    "    return match\n",
    "\n",
    "allmatches = []\n",
    "\n",
    "for idx, row in norton.iterrows():\n",
    "    normname = row['author'].lower()\n",
    "    \n",
    "    title = row['title'].lower()\n",
    "    if len(title) > 28:\n",
    "        title = title[0:28]\n",
    "    code = normname[0:2]\n",
    "    \n",
    "    possiblematches = []\n",
    "    \n",
    "    if code in block_dictionary:\n",
    "        block = block_dictionary[code]\n",
    "        for idx2, row2 in block.iterrows():\n",
    "            auth2match = row2['author'].lower()\n",
    "            if '(' in auth2match:\n",
    "                auth2match = auth2match.split('(')[0]\n",
    "            authsimilarity = fuzzymatch(normname, auth2match)\n",
    "            if authsimilarity < 0.74: \n",
    "                continue\n",
    "            \n",
    "            title2match = row2['title']\n",
    "            if pd.isnull(title2match):\n",
    "                title2match = 'x x x'\n",
    "            else:\n",
    "                title2match = title2match.lower()\n",
    "                if len(title2match) > 28:\n",
    "                    title2match = title2match[0:28]\n",
    "                \n",
    "            titlesimilarity = fuzzymatch(title, title2match)\n",
    "            if titlesimilarity > 0.7:\n",
    "                possiblematches.append((authsimilarity * titlesimilarity, idx2))\n",
    "\n",
    "    if len(possiblematches) > 0:\n",
    "        possiblematches.sort()\n",
    "        probability, matchidx = possiblematches[-1]\n",
    "        \n",
    "        print(normname, ' | ', title, block.loc[matchidx, 'author'], ' == ', block.loc[matchidx, 'title'])\n",
    "        allmatches.append((block.loc[matchidx, 'docid'], idx))\n",
    "    else:\n",
    "        print(normname, ' || ', title, \"NO MATCH\")\n",
    "        \n",
    "                \n",
    "                \n",
    "            "
   ]
  },
  {
   "cell_type": "code",
   "execution_count": 13,
   "metadata": {},
   "outputs": [
    {
     "name": "stdout",
     "output_type": "stream",
     "text": [
      "Number of matches:  23\n",
      "23\n"
     ]
    }
   ],
   "source": [
    "print(\"Number of matches: \", len(allmatches))\n",
    "print(len(set(allmatches)))"
   ]
  },
  {
   "cell_type": "code",
   "execution_count": 14,
   "metadata": {},
   "outputs": [],
   "source": [
    "norton['docid'] = float('nan')"
   ]
  },
  {
   "cell_type": "code",
   "execution_count": 15,
   "metadata": {},
   "outputs": [],
   "source": [
    "for docid, idx in allmatches:\n",
    "    norton.loc[idx, 'docid'] = docid"
   ]
  },
  {
   "cell_type": "code",
   "execution_count": 16,
   "metadata": {},
   "outputs": [],
   "source": [
    "norton.to_csv('canon/britnorton.tsv', sep = '\\t', index = False)"
   ]
  },
  {
   "cell_type": "code",
   "execution_count": null,
   "metadata": {},
   "outputs": [],
   "source": []
  }
 ],
 "metadata": {
  "kernelspec": {
   "display_name": "Python 3",
   "language": "python",
   "name": "python3"
  },
  "language_info": {
   "codemirror_mode": {
    "name": "ipython",
    "version": 3
   },
   "file_extension": ".py",
   "mimetype": "text/x-python",
   "name": "python",
   "nbconvert_exporter": "python",
   "pygments_lexer": "ipython3",
   "version": "3.5.2"
  }
 },
 "nbformat": 4,
 "nbformat_minor": 2
}
