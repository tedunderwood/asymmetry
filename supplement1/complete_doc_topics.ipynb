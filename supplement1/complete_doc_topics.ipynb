{
 "cells": [
  {
   "cell_type": "markdown",
   "metadata": {},
   "source": [
    "# complete doc_topics\n",
    "\n",
    "The doctopics file coming from topic inference only has rows for files that were *missing* from the existing model.\n",
    "\n",
    "We need to supplement it with those already in the model.\n"
   ]
  },
  {
   "cell_type": "code",
   "execution_count": 1,
   "metadata": {},
   "outputs": [],
   "source": [
    "import pandas as pd"
   ]
  },
  {
   "cell_type": "code",
   "execution_count": 2,
   "metadata": {},
   "outputs": [],
   "source": [
    "suppmeta = pd.read_csv('lastnamesupp1meta.tsv', sep = '\\t')"
   ]
  },
  {
   "cell_type": "code",
   "execution_count": 6,
   "metadata": {},
   "outputs": [],
   "source": [
    "alldocids = set(suppmeta.docid.tolist())"
   ]
  },
  {
   "cell_type": "code",
   "execution_count": 4,
   "metadata": {},
   "outputs": [],
   "source": [
    "suppdocs = pd.read_csv('supplement1_doc_topics.tsv', sep = '\\t')"
   ]
  },
  {
   "cell_type": "code",
   "execution_count": 5,
   "metadata": {},
   "outputs": [
    {
     "data": {
      "text/html": [
       "<div>\n",
       "<table border=\"1\" class=\"dataframe\">\n",
       "  <thead>\n",
       "    <tr style=\"text-align: right;\">\n",
       "      <th></th>\n",
       "      <th>docid</th>\n",
       "      <th>0</th>\n",
       "      <th>1</th>\n",
       "      <th>2</th>\n",
       "      <th>3</th>\n",
       "      <th>4</th>\n",
       "      <th>5</th>\n",
       "      <th>6</th>\n",
       "      <th>7</th>\n",
       "      <th>8</th>\n",
       "      <th>...</th>\n",
       "      <th>490</th>\n",
       "      <th>491</th>\n",
       "      <th>492</th>\n",
       "      <th>493</th>\n",
       "      <th>494</th>\n",
       "      <th>495</th>\n",
       "      <th>496</th>\n",
       "      <th>497</th>\n",
       "      <th>498</th>\n",
       "      <th>499</th>\n",
       "    </tr>\n",
       "  </thead>\n",
       "  <tbody>\n",
       "    <tr>\n",
       "      <th>0</th>\n",
       "      <td>uc2.ark+=13960=t9m32tr6b</td>\n",
       "      <td>0.006962</td>\n",
       "      <td>1.256871e-07</td>\n",
       "      <td>1.625459e-07</td>\n",
       "      <td>0.003692</td>\n",
       "      <td>1.584185e-07</td>\n",
       "      <td>0.000215</td>\n",
       "      <td>0.009056</td>\n",
       "      <td>3.939414e-07</td>\n",
       "      <td>3.337152e-06</td>\n",
       "      <td>...</td>\n",
       "      <td>1.788393e-07</td>\n",
       "      <td>3.923179e-07</td>\n",
       "      <td>0.004992</td>\n",
       "      <td>3.811286e-06</td>\n",
       "      <td>7.190296e-07</td>\n",
       "      <td>4.216993e-04</td>\n",
       "      <td>2.850712e-07</td>\n",
       "      <td>4.034260e-07</td>\n",
       "      <td>3.138456e-06</td>\n",
       "      <td>3.127756e-07</td>\n",
       "    </tr>\n",
       "    <tr>\n",
       "      <th>1</th>\n",
       "      <td>uc1.$b312400</td>\n",
       "      <td>0.008317</td>\n",
       "      <td>2.471779e-07</td>\n",
       "      <td>3.196648e-07</td>\n",
       "      <td>0.000622</td>\n",
       "      <td>3.115477e-07</td>\n",
       "      <td>0.000100</td>\n",
       "      <td>0.010922</td>\n",
       "      <td>7.747299e-07</td>\n",
       "      <td>8.982550e-07</td>\n",
       "      <td>...</td>\n",
       "      <td>1.168096e-05</td>\n",
       "      <td>7.715372e-07</td>\n",
       "      <td>0.000023</td>\n",
       "      <td>1.830693e-06</td>\n",
       "      <td>7.078681e-06</td>\n",
       "      <td>2.283316e-06</td>\n",
       "      <td>5.606245e-07</td>\n",
       "      <td>7.933825e-07</td>\n",
       "      <td>5.074978e-07</td>\n",
       "      <td>6.151083e-07</td>\n",
       "    </tr>\n",
       "    <tr>\n",
       "      <th>2</th>\n",
       "      <td>mdp.39015028550013</td>\n",
       "      <td>0.008541</td>\n",
       "      <td>1.000223e-07</td>\n",
       "      <td>1.293546e-07</td>\n",
       "      <td>0.000023</td>\n",
       "      <td>1.260700e-07</td>\n",
       "      <td>0.000009</td>\n",
       "      <td>0.013903</td>\n",
       "      <td>3.134999e-07</td>\n",
       "      <td>3.634852e-07</td>\n",
       "      <td>...</td>\n",
       "      <td>1.423209e-07</td>\n",
       "      <td>3.122079e-07</td>\n",
       "      <td>0.000016</td>\n",
       "      <td>7.408026e-07</td>\n",
       "      <td>1.891006e-05</td>\n",
       "      <td>9.239597e-07</td>\n",
       "      <td>2.268606e-07</td>\n",
       "      <td>3.210478e-07</td>\n",
       "      <td>2.053625e-07</td>\n",
       "      <td>2.489079e-07</td>\n",
       "    </tr>\n",
       "    <tr>\n",
       "      <th>3</th>\n",
       "      <td>uc2.ark+=13960=t7cr5nx6g</td>\n",
       "      <td>0.002010</td>\n",
       "      <td>3.346033e-07</td>\n",
       "      <td>4.327286e-07</td>\n",
       "      <td>0.000014</td>\n",
       "      <td>4.217404e-07</td>\n",
       "      <td>0.000098</td>\n",
       "      <td>0.001588</td>\n",
       "      <td>2.738588e-03</td>\n",
       "      <td>6.913520e-04</td>\n",
       "      <td>...</td>\n",
       "      <td>4.761047e-07</td>\n",
       "      <td>1.044426e-06</td>\n",
       "      <td>0.000238</td>\n",
       "      <td>1.781455e-05</td>\n",
       "      <td>1.914195e-06</td>\n",
       "      <td>2.408044e-04</td>\n",
       "      <td>7.589144e-07</td>\n",
       "      <td>1.073998e-06</td>\n",
       "      <td>6.869971e-07</td>\n",
       "      <td>8.500847e-06</td>\n",
       "    </tr>\n",
       "    <tr>\n",
       "      <th>4</th>\n",
       "      <td>mdp.49015000988411</td>\n",
       "      <td>0.004873</td>\n",
       "      <td>1.238886e-07</td>\n",
       "      <td>1.602200e-07</td>\n",
       "      <td>0.000684</td>\n",
       "      <td>1.561516e-07</td>\n",
       "      <td>0.000124</td>\n",
       "      <td>0.003757</td>\n",
       "      <td>3.883043e-07</td>\n",
       "      <td>4.502166e-07</td>\n",
       "      <td>...</td>\n",
       "      <td>1.762802e-07</td>\n",
       "      <td>3.867040e-07</td>\n",
       "      <td>0.001965</td>\n",
       "      <td>9.175659e-07</td>\n",
       "      <td>7.087406e-07</td>\n",
       "      <td>1.005158e-04</td>\n",
       "      <td>3.120174e-06</td>\n",
       "      <td>3.976532e-07</td>\n",
       "      <td>2.543642e-07</td>\n",
       "      <td>3.083000e-07</td>\n",
       "    </tr>\n",
       "  </tbody>\n",
       "</table>\n",
       "<p>5 rows × 501 columns</p>\n",
       "</div>"
      ],
      "text/plain": [
       "                      docid         0             1             2         3  \\\n",
       "0  uc2.ark+=13960=t9m32tr6b  0.006962  1.256871e-07  1.625459e-07  0.003692   \n",
       "1              uc1.$b312400  0.008317  2.471779e-07  3.196648e-07  0.000622   \n",
       "2        mdp.39015028550013  0.008541  1.000223e-07  1.293546e-07  0.000023   \n",
       "3  uc2.ark+=13960=t7cr5nx6g  0.002010  3.346033e-07  4.327286e-07  0.000014   \n",
       "4        mdp.49015000988411  0.004873  1.238886e-07  1.602200e-07  0.000684   \n",
       "\n",
       "              4         5         6             7             8      ...       \\\n",
       "0  1.584185e-07  0.000215  0.009056  3.939414e-07  3.337152e-06      ...        \n",
       "1  3.115477e-07  0.000100  0.010922  7.747299e-07  8.982550e-07      ...        \n",
       "2  1.260700e-07  0.000009  0.013903  3.134999e-07  3.634852e-07      ...        \n",
       "3  4.217404e-07  0.000098  0.001588  2.738588e-03  6.913520e-04      ...        \n",
       "4  1.561516e-07  0.000124  0.003757  3.883043e-07  4.502166e-07      ...        \n",
       "\n",
       "            490           491       492           493           494  \\\n",
       "0  1.788393e-07  3.923179e-07  0.004992  3.811286e-06  7.190296e-07   \n",
       "1  1.168096e-05  7.715372e-07  0.000023  1.830693e-06  7.078681e-06   \n",
       "2  1.423209e-07  3.122079e-07  0.000016  7.408026e-07  1.891006e-05   \n",
       "3  4.761047e-07  1.044426e-06  0.000238  1.781455e-05  1.914195e-06   \n",
       "4  1.762802e-07  3.867040e-07  0.001965  9.175659e-07  7.087406e-07   \n",
       "\n",
       "            495           496           497           498           499  \n",
       "0  4.216993e-04  2.850712e-07  4.034260e-07  3.138456e-06  3.127756e-07  \n",
       "1  2.283316e-06  5.606245e-07  7.933825e-07  5.074978e-07  6.151083e-07  \n",
       "2  9.239597e-07  2.268606e-07  3.210478e-07  2.053625e-07  2.489079e-07  \n",
       "3  2.408044e-04  7.589144e-07  1.073998e-06  6.869971e-07  8.500847e-06  \n",
       "4  1.005158e-04  3.120174e-06  3.976532e-07  2.543642e-07  3.083000e-07  \n",
       "\n",
       "[5 rows x 501 columns]"
      ]
     },
     "execution_count": 5,
     "metadata": {},
     "output_type": "execute_result"
    }
   ],
   "source": [
    "suppdocs.head()"
   ]
  },
  {
   "cell_type": "code",
   "execution_count": 7,
   "metadata": {},
   "outputs": [],
   "source": [
    "havedocids = set(suppdocs.docid.tolist())"
   ]
  },
  {
   "cell_type": "code",
   "execution_count": 9,
   "metadata": {},
   "outputs": [
    {
     "data": {
      "text/plain": [
       "385"
      ]
     },
     "execution_count": 9,
     "metadata": {},
     "output_type": "execute_result"
    }
   ],
   "source": [
    "needdocids = alldocids - havedocids\n",
    "len(needdocids)"
   ]
  },
  {
   "cell_type": "code",
   "execution_count": 10,
   "metadata": {},
   "outputs": [
    {
     "name": "stdout",
     "output_type": "stream",
     "text": [
      "383\n"
     ]
    }
   ],
   "source": [
    "got = 0\n",
    "outlines = []\n",
    "\n",
    "with open('../model/doc_topics.tsv', encoding = 'utf-8') as f:\n",
    "    for line in f:\n",
    "        fields = line.split('\\t')\n",
    "        if fields[0] in needdocids:\n",
    "            outlines.append(line)\n",
    "            got += 1\n",
    "\n",
    "print(got)"
   ]
  },
  {
   "cell_type": "code",
   "execution_count": 11,
   "metadata": {},
   "outputs": [],
   "source": [
    "suppdocs.to_csv('completed_supp1_doctopics.tsv', sep = '\\t', index = False)\n",
    "with open('completed_supp1_doctopics.tsv', mode = 'a', encoding = 'utf-8') as f:\n",
    "    for l in outlines:\n",
    "        f.write(l)"
   ]
  },
  {
   "cell_type": "code",
   "execution_count": 12,
   "metadata": {},
   "outputs": [
    {
     "data": {
      "text/html": [
       "<div>\n",
       "<table border=\"1\" class=\"dataframe\">\n",
       "  <thead>\n",
       "    <tr style=\"text-align: right;\">\n",
       "      <th></th>\n",
       "      <th>docid</th>\n",
       "      <th>0</th>\n",
       "      <th>1</th>\n",
       "      <th>2</th>\n",
       "      <th>3</th>\n",
       "      <th>4</th>\n",
       "      <th>5</th>\n",
       "      <th>6</th>\n",
       "      <th>7</th>\n",
       "      <th>8</th>\n",
       "      <th>...</th>\n",
       "      <th>490</th>\n",
       "      <th>491</th>\n",
       "      <th>492</th>\n",
       "      <th>493</th>\n",
       "      <th>494</th>\n",
       "      <th>495</th>\n",
       "      <th>496</th>\n",
       "      <th>497</th>\n",
       "      <th>498</th>\n",
       "      <th>499</th>\n",
       "    </tr>\n",
       "  </thead>\n",
       "  <tbody>\n",
       "    <tr>\n",
       "      <th>0</th>\n",
       "      <td>uc2.ark+=13960=t9m32tr6b</td>\n",
       "      <td>0.006962</td>\n",
       "      <td>1.256871e-07</td>\n",
       "      <td>1.625459e-07</td>\n",
       "      <td>0.003692</td>\n",
       "      <td>1.584185e-07</td>\n",
       "      <td>0.000215</td>\n",
       "      <td>0.009056</td>\n",
       "      <td>3.939414e-07</td>\n",
       "      <td>3.337152e-06</td>\n",
       "      <td>...</td>\n",
       "      <td>1.788393e-07</td>\n",
       "      <td>3.923179e-07</td>\n",
       "      <td>0.004992</td>\n",
       "      <td>3.811286e-06</td>\n",
       "      <td>7.190296e-07</td>\n",
       "      <td>4.216993e-04</td>\n",
       "      <td>2.850712e-07</td>\n",
       "      <td>4.034260e-07</td>\n",
       "      <td>3.138456e-06</td>\n",
       "      <td>3.127756e-07</td>\n",
       "    </tr>\n",
       "    <tr>\n",
       "      <th>1</th>\n",
       "      <td>uc1.$b312400</td>\n",
       "      <td>0.008317</td>\n",
       "      <td>2.471779e-07</td>\n",
       "      <td>3.196648e-07</td>\n",
       "      <td>0.000622</td>\n",
       "      <td>3.115477e-07</td>\n",
       "      <td>0.000100</td>\n",
       "      <td>0.010922</td>\n",
       "      <td>7.747299e-07</td>\n",
       "      <td>8.982550e-07</td>\n",
       "      <td>...</td>\n",
       "      <td>1.168096e-05</td>\n",
       "      <td>7.715372e-07</td>\n",
       "      <td>0.000023</td>\n",
       "      <td>1.830693e-06</td>\n",
       "      <td>7.078681e-06</td>\n",
       "      <td>2.283316e-06</td>\n",
       "      <td>5.606245e-07</td>\n",
       "      <td>7.933825e-07</td>\n",
       "      <td>5.074978e-07</td>\n",
       "      <td>6.151083e-07</td>\n",
       "    </tr>\n",
       "    <tr>\n",
       "      <th>2</th>\n",
       "      <td>mdp.39015028550013</td>\n",
       "      <td>0.008541</td>\n",
       "      <td>1.000223e-07</td>\n",
       "      <td>1.293546e-07</td>\n",
       "      <td>0.000023</td>\n",
       "      <td>1.260700e-07</td>\n",
       "      <td>0.000009</td>\n",
       "      <td>0.013903</td>\n",
       "      <td>3.134999e-07</td>\n",
       "      <td>3.634852e-07</td>\n",
       "      <td>...</td>\n",
       "      <td>1.423209e-07</td>\n",
       "      <td>3.122079e-07</td>\n",
       "      <td>0.000016</td>\n",
       "      <td>7.408026e-07</td>\n",
       "      <td>1.891006e-05</td>\n",
       "      <td>9.239597e-07</td>\n",
       "      <td>2.268606e-07</td>\n",
       "      <td>3.210478e-07</td>\n",
       "      <td>2.053625e-07</td>\n",
       "      <td>2.489079e-07</td>\n",
       "    </tr>\n",
       "    <tr>\n",
       "      <th>3</th>\n",
       "      <td>uc2.ark+=13960=t7cr5nx6g</td>\n",
       "      <td>0.002010</td>\n",
       "      <td>3.346033e-07</td>\n",
       "      <td>4.327286e-07</td>\n",
       "      <td>0.000014</td>\n",
       "      <td>4.217404e-07</td>\n",
       "      <td>0.000098</td>\n",
       "      <td>0.001588</td>\n",
       "      <td>2.738588e-03</td>\n",
       "      <td>6.913520e-04</td>\n",
       "      <td>...</td>\n",
       "      <td>4.761047e-07</td>\n",
       "      <td>1.044426e-06</td>\n",
       "      <td>0.000238</td>\n",
       "      <td>1.781455e-05</td>\n",
       "      <td>1.914195e-06</td>\n",
       "      <td>2.408044e-04</td>\n",
       "      <td>7.589144e-07</td>\n",
       "      <td>1.073998e-06</td>\n",
       "      <td>6.869971e-07</td>\n",
       "      <td>8.500847e-06</td>\n",
       "    </tr>\n",
       "    <tr>\n",
       "      <th>4</th>\n",
       "      <td>mdp.49015000988411</td>\n",
       "      <td>0.004873</td>\n",
       "      <td>1.238886e-07</td>\n",
       "      <td>1.602200e-07</td>\n",
       "      <td>0.000684</td>\n",
       "      <td>1.561516e-07</td>\n",
       "      <td>0.000124</td>\n",
       "      <td>0.003757</td>\n",
       "      <td>3.883043e-07</td>\n",
       "      <td>4.502166e-07</td>\n",
       "      <td>...</td>\n",
       "      <td>1.762802e-07</td>\n",
       "      <td>3.867040e-07</td>\n",
       "      <td>0.001965</td>\n",
       "      <td>9.175659e-07</td>\n",
       "      <td>7.087406e-07</td>\n",
       "      <td>1.005158e-04</td>\n",
       "      <td>3.120174e-06</td>\n",
       "      <td>3.976532e-07</td>\n",
       "      <td>2.543642e-07</td>\n",
       "      <td>3.083000e-07</td>\n",
       "    </tr>\n",
       "  </tbody>\n",
       "</table>\n",
       "<p>5 rows × 501 columns</p>\n",
       "</div>"
      ],
      "text/plain": [
       "                      docid         0             1             2         3  \\\n",
       "0  uc2.ark+=13960=t9m32tr6b  0.006962  1.256871e-07  1.625459e-07  0.003692   \n",
       "1              uc1.$b312400  0.008317  2.471779e-07  3.196648e-07  0.000622   \n",
       "2        mdp.39015028550013  0.008541  1.000223e-07  1.293546e-07  0.000023   \n",
       "3  uc2.ark+=13960=t7cr5nx6g  0.002010  3.346033e-07  4.327286e-07  0.000014   \n",
       "4        mdp.49015000988411  0.004873  1.238886e-07  1.602200e-07  0.000684   \n",
       "\n",
       "              4         5         6             7             8      ...       \\\n",
       "0  1.584185e-07  0.000215  0.009056  3.939414e-07  3.337152e-06      ...        \n",
       "1  3.115477e-07  0.000100  0.010922  7.747299e-07  8.982550e-07      ...        \n",
       "2  1.260700e-07  0.000009  0.013903  3.134999e-07  3.634852e-07      ...        \n",
       "3  4.217404e-07  0.000098  0.001588  2.738588e-03  6.913520e-04      ...        \n",
       "4  1.561516e-07  0.000124  0.003757  3.883043e-07  4.502166e-07      ...        \n",
       "\n",
       "            490           491       492           493           494  \\\n",
       "0  1.788393e-07  3.923179e-07  0.004992  3.811286e-06  7.190296e-07   \n",
       "1  1.168096e-05  7.715372e-07  0.000023  1.830693e-06  7.078681e-06   \n",
       "2  1.423209e-07  3.122079e-07  0.000016  7.408026e-07  1.891006e-05   \n",
       "3  4.761047e-07  1.044426e-06  0.000238  1.781455e-05  1.914195e-06   \n",
       "4  1.762802e-07  3.867040e-07  0.001965  9.175659e-07  7.087406e-07   \n",
       "\n",
       "            495           496           497           498           499  \n",
       "0  4.216993e-04  2.850712e-07  4.034260e-07  3.138456e-06  3.127756e-07  \n",
       "1  2.283316e-06  5.606245e-07  7.933825e-07  5.074978e-07  6.151083e-07  \n",
       "2  9.239597e-07  2.268606e-07  3.210478e-07  2.053625e-07  2.489079e-07  \n",
       "3  2.408044e-04  7.589144e-07  1.073998e-06  6.869971e-07  8.500847e-06  \n",
       "4  1.005158e-04  3.120174e-06  3.976532e-07  2.543642e-07  3.083000e-07  \n",
       "\n",
       "[5 rows x 501 columns]"
      ]
     },
     "execution_count": 12,
     "metadata": {},
     "output_type": "execute_result"
    }
   ],
   "source": [
    "compdocs = pd.read_csv('completed_supp1_doctopics.tsv', sep = '\\t')\n",
    "compdocs.head()"
   ]
  },
  {
   "cell_type": "code",
   "execution_count": 13,
   "metadata": {},
   "outputs": [],
   "source": [
    "allIcanget = set(compdocs.docid.tolist())"
   ]
  },
  {
   "cell_type": "code",
   "execution_count": 14,
   "metadata": {},
   "outputs": [
    {
     "data": {
      "text/plain": [
       "{'chi.35738102', 'umn.31951002462309t'}"
      ]
     },
     "execution_count": 14,
     "metadata": {},
     "output_type": "execute_result"
    }
   ],
   "source": [
    "alldocids - allIcanget"
   ]
  },
  {
   "cell_type": "markdown",
   "metadata": {},
   "source": [
    "I manually removed those two docs from the metadata; don't know why they're missing, but it's not worth sweating.\n",
    "\n",
    "Now the metadata and the doctopics file should match."
   ]
  },
  {
   "cell_type": "code",
   "execution_count": 15,
   "metadata": {},
   "outputs": [
    {
     "data": {
      "text/plain": [
       "(1263, 501)"
      ]
     },
     "execution_count": 15,
     "metadata": {},
     "output_type": "execute_result"
    }
   ],
   "source": [
    "compdocs.shape"
   ]
  },
  {
   "cell_type": "code",
   "execution_count": 16,
   "metadata": {},
   "outputs": [
    {
     "data": {
      "text/plain": [
       "(1263, 10)"
      ]
     },
     "execution_count": 16,
     "metadata": {},
     "output_type": "execute_result"
    }
   ],
   "source": [
    "suppmeta = pd.read_csv('lastnamesupp1meta.tsv', sep = '\\t')\n",
    "suppmeta.shape"
   ]
  },
  {
   "cell_type": "code",
   "execution_count": null,
   "metadata": {},
   "outputs": [],
   "source": []
  }
 ],
 "metadata": {
  "kernelspec": {
   "display_name": "Python 3",
   "language": "python",
   "name": "python3"
  },
  "language_info": {
   "codemirror_mode": {
    "name": "ipython",
    "version": 3
   },
   "file_extension": ".py",
   "mimetype": "text/x-python",
   "name": "python",
   "nbconvert_exporter": "python",
   "pygments_lexer": "ipython3",
   "version": "3.5.2"
  }
 },
 "nbformat": 4,
 "nbformat_minor": 2
}
