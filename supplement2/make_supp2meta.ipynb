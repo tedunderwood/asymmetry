{
 "cells": [
  {
   "cell_type": "markdown",
   "metadata": {},
   "source": [
    "# Merge supplement2 metadata with all metadata"
   ]
  },
  {
   "cell_type": "code",
   "execution_count": 1,
   "metadata": {},
   "outputs": [],
   "source": [
    "import pandas as pd\n"
   ]
  },
  {
   "cell_type": "code",
   "execution_count": 22,
   "metadata": {},
   "outputs": [],
   "source": [
    "main = pd.read_csv('../meta/lastnamesample.tsv', sep = '\\t', index_col = 'docid')"
   ]
  },
  {
   "cell_type": "code",
   "execution_count": 23,
   "metadata": {},
   "outputs": [],
   "source": [
    "supp = pd.read_csv('../meta/second_supplement_maxoverlap.tsv', sep = '\\t', index_col = 'docid')"
   ]
  },
  {
   "cell_type": "code",
   "execution_count": 24,
   "metadata": {},
   "outputs": [
    {
     "name": "stdout",
     "output_type": "stream",
     "text": [
      "(38583, 30)\n",
      "(2055, 21)\n"
     ]
    }
   ],
   "source": [
    "print(main.shape)\n",
    "print(supp.shape)"
   ]
  },
  {
   "cell_type": "code",
   "execution_count": 5,
   "metadata": {},
   "outputs": [
    {
     "data": {
      "text/plain": [
       "{'authordate',\n",
       " 'contents',\n",
       " 'datetype',\n",
       " 'eligible',\n",
       " 'enddate',\n",
       " 'enumcron',\n",
       " 'genres',\n",
       " 'geographics',\n",
       " 'imprintdate',\n",
       " 'instances',\n",
       " 'locnum',\n",
       " 'oclc',\n",
       " 'oldauthor',\n",
       " 'parttitle',\n",
       " 'place',\n",
       " 'position',\n",
       " 'shorttitle',\n",
       " 'startdate',\n",
       " 'subjects',\n",
       " 'volnum'}"
      ]
     },
     "execution_count": 5,
     "metadata": {},
     "output_type": "execute_result"
    }
   ],
   "source": [
    "set(main.columns) - set(supp.columns)"
   ]
  },
  {
   "cell_type": "code",
   "execution_count": 6,
   "metadata": {},
   "outputs": [
    {
     "data": {
      "text/plain": [
       "{'bestseller',\n",
       " 'contrast4reviewed',\n",
       " 'firstpub',\n",
       " 'gender',\n",
       " 'heath',\n",
       " 'mostdiscussed',\n",
       " 'nationality',\n",
       " 'norton',\n",
       " 'nortonshort',\n",
       " 'preregistered',\n",
       " 'reviewed'}"
      ]
     },
     "execution_count": 6,
     "metadata": {},
     "output_type": "execute_result"
    }
   ],
   "source": [
    "set(supp.columns) - set(main.columns)"
   ]
  },
  {
   "cell_type": "code",
   "execution_count": 8,
   "metadata": {},
   "outputs": [
    {
     "name": "stdout",
     "output_type": "stream",
     "text": [
      "{'imprint', 'inferreddate', 'recordid', 'latestcomp', 'allcopiesofwork', 'lastname', 'earlyedition', 'copiesin25yrs', 'author', 'title'}\n"
     ]
    }
   ],
   "source": [
    "bothcols = set(supp.columns).intersection(main.columns)\n",
    "print(bothcols)"
   ]
  },
  {
   "cell_type": "code",
   "execution_count": 25,
   "metadata": {},
   "outputs": [],
   "source": [
    "# let's narrow that a bit manually. We don't need imprint for this\n",
    "bothcols = ['author', 'inferreddate', 'recordid', 'latestcomp', 'allcopiesofwork', \n",
    "            'earlyedition', 'copiesin25yrs', 'imprint', 'lastname', 'title']\n"
   ]
  },
  {
   "cell_type": "code",
   "execution_count": 26,
   "metadata": {},
   "outputs": [],
   "source": [
    "main = main[bothcols]\n",
    "supp = supp[bothcols]"
   ]
  },
  {
   "cell_type": "code",
   "execution_count": 27,
   "metadata": {},
   "outputs": [],
   "source": [
    "allmeta = pd.concat([main, supp])\n",
    "allmeta = allmeta[~allmeta.index.duplicated(keep='first')]"
   ]
  },
  {
   "cell_type": "code",
   "execution_count": 28,
   "metadata": {},
   "outputs": [
    {
     "data": {
      "text/plain": [
       "(39830, 10)"
      ]
     },
     "execution_count": 28,
     "metadata": {},
     "output_type": "execute_result"
    }
   ],
   "source": [
    "allmeta.shape"
   ]
  },
  {
   "cell_type": "code",
   "execution_count": 11,
   "metadata": {},
   "outputs": [],
   "source": [
    "sdt = pd.read_csv('supp2_doc_topics.tsv', sep = '\\t', index_col = 'docid')"
   ]
  },
  {
   "cell_type": "code",
   "execution_count": 12,
   "metadata": {},
   "outputs": [],
   "source": [
    "whatwehave = sdt.index.tolist()"
   ]
  },
  {
   "cell_type": "code",
   "execution_count": 13,
   "metadata": {},
   "outputs": [
    {
     "data": {
      "text/plain": [
       "39817"
      ]
     },
     "execution_count": 13,
     "metadata": {},
     "output_type": "execute_result"
    }
   ],
   "source": [
    "len(whatwehave)"
   ]
  },
  {
   "cell_type": "code",
   "execution_count": 14,
   "metadata": {},
   "outputs": [],
   "source": [
    "missing = list(set(allmeta.index.tolist()) - set(whatwehave))"
   ]
  },
  {
   "cell_type": "code",
   "execution_count": 15,
   "metadata": {},
   "outputs": [
    {
     "data": {
      "text/html": [
       "<div>\n",
       "<table border=\"1\" class=\"dataframe\">\n",
       "  <thead>\n",
       "    <tr style=\"text-align: right;\">\n",
       "      <th></th>\n",
       "      <th>author</th>\n",
       "      <th>inferreddate</th>\n",
       "      <th>recordid</th>\n",
       "      <th>latestcomp</th>\n",
       "      <th>allcopiesofwork</th>\n",
       "      <th>earlyedition</th>\n",
       "      <th>copiesin25yrs</th>\n",
       "      <th>lastname</th>\n",
       "      <th>title</th>\n",
       "    </tr>\n",
       "    <tr>\n",
       "      <th>docid</th>\n",
       "      <th></th>\n",
       "      <th></th>\n",
       "      <th></th>\n",
       "      <th></th>\n",
       "      <th></th>\n",
       "      <th></th>\n",
       "      <th></th>\n",
       "      <th></th>\n",
       "      <th></th>\n",
       "    </tr>\n",
       "  </thead>\n",
       "  <tbody>\n",
       "    <tr>\n",
       "      <th>uc1.b250586</th>\n",
       "      <td>Sinclair, Catherine</td>\n",
       "      <td>1852</td>\n",
       "      <td>6502576.0</td>\n",
       "      <td>1852</td>\n",
       "      <td>NaN</td>\n",
       "      <td>NaN</td>\n",
       "      <td>NaN</td>\n",
       "      <td>Sinclair</td>\n",
       "      <td>Beatrice, or, The unknown relatives</td>\n",
       "    </tr>\n",
       "    <tr>\n",
       "      <th>mdp.39015004063601</th>\n",
       "      <td>Steinbeck, John</td>\n",
       "      <td>1939</td>\n",
       "      <td>1029460.0</td>\n",
       "      <td>1939</td>\n",
       "      <td>11.0</td>\n",
       "      <td>True</td>\n",
       "      <td>6.0</td>\n",
       "      <td>Steinbeck</td>\n",
       "      <td>The grapes of wrath | $c: [by] John Steinbeck.</td>\n",
       "    </tr>\n",
       "    <tr>\n",
       "      <th>uc1.b242928</th>\n",
       "      <td>Glasgow, Ellen Anderson Gholson</td>\n",
       "      <td>1898</td>\n",
       "      <td>432668.0</td>\n",
       "      <td>1898</td>\n",
       "      <td>NaN</td>\n",
       "      <td>NaN</td>\n",
       "      <td>NaN</td>\n",
       "      <td>Glasgow</td>\n",
       "      <td>Phases of an inferior planet</td>\n",
       "    </tr>\n",
       "    <tr>\n",
       "      <th>uiuo.ark+=13960=t0ks7cx66</th>\n",
       "      <td>Eliot, George</td>\n",
       "      <td>1871</td>\n",
       "      <td>8721591.0</td>\n",
       "      <td>1871</td>\n",
       "      <td>39.0</td>\n",
       "      <td>True</td>\n",
       "      <td>16.0</td>\n",
       "      <td>Eliot</td>\n",
       "      <td>Middlemarch: a study of provincial life</td>\n",
       "    </tr>\n",
       "    <tr>\n",
       "      <th>uc1.b250587</th>\n",
       "      <td>Sinclair, Catherine</td>\n",
       "      <td>1852</td>\n",
       "      <td>6502576.0</td>\n",
       "      <td>1852</td>\n",
       "      <td>NaN</td>\n",
       "      <td>NaN</td>\n",
       "      <td>NaN</td>\n",
       "      <td>Sinclair</td>\n",
       "      <td>Beatrice, or, The unknown relatives</td>\n",
       "    </tr>\n",
       "    <tr>\n",
       "      <th>mdp.39015031600409</th>\n",
       "      <td>Chandler, Raymond</td>\n",
       "      <td>1945</td>\n",
       "      <td>624157.0</td>\n",
       "      <td>1945</td>\n",
       "      <td>1.0</td>\n",
       "      <td>True</td>\n",
       "      <td>1.0</td>\n",
       "      <td>Chandler</td>\n",
       "      <td>The big sleep.</td>\n",
       "    </tr>\n",
       "    <tr>\n",
       "      <th>uc1.b250585</th>\n",
       "      <td>Sinclair, Catherine</td>\n",
       "      <td>1852</td>\n",
       "      <td>6502576.0</td>\n",
       "      <td>1852</td>\n",
       "      <td>NaN</td>\n",
       "      <td>NaN</td>\n",
       "      <td>NaN</td>\n",
       "      <td>Sinclair</td>\n",
       "      <td>Beatrice, or, The unknown relatives</td>\n",
       "    </tr>\n",
       "    <tr>\n",
       "      <th>uc1.b249782</th>\n",
       "      <td>Davis, Richard Harding,</td>\n",
       "      <td>1895</td>\n",
       "      <td>484766.0</td>\n",
       "      <td>1895</td>\n",
       "      <td>NaN</td>\n",
       "      <td>NaN</td>\n",
       "      <td>NaN</td>\n",
       "      <td>Davis</td>\n",
       "      <td>The Princess Aline</td>\n",
       "    </tr>\n",
       "    <tr>\n",
       "      <th>uiuo.ark+=13960=t50g4c509</th>\n",
       "      <td>Eliot, George</td>\n",
       "      <td>1871</td>\n",
       "      <td>8721591.0</td>\n",
       "      <td>1871</td>\n",
       "      <td>39.0</td>\n",
       "      <td>True</td>\n",
       "      <td>16.0</td>\n",
       "      <td>Eliot</td>\n",
       "      <td>Middlemarch: a study of provincial life</td>\n",
       "    </tr>\n",
       "    <tr>\n",
       "      <th>uc1.b248359</th>\n",
       "      <td>Cousin Carrie</td>\n",
       "      <td>1864</td>\n",
       "      <td>6501301.0</td>\n",
       "      <td>1864</td>\n",
       "      <td>NaN</td>\n",
       "      <td>NaN</td>\n",
       "      <td>NaN</td>\n",
       "      <td>Cousin</td>\n",
       "      <td>Keep a good heart</td>\n",
       "    </tr>\n",
       "    <tr>\n",
       "      <th>uiuo.ark+=13960=t8hd8j356</th>\n",
       "      <td>Eliot, George</td>\n",
       "      <td>1871</td>\n",
       "      <td>8721591.0</td>\n",
       "      <td>1871</td>\n",
       "      <td>39.0</td>\n",
       "      <td>True</td>\n",
       "      <td>16.0</td>\n",
       "      <td>Eliot</td>\n",
       "      <td>Middlemarch: a study of provincial life</td>\n",
       "    </tr>\n",
       "    <tr>\n",
       "      <th>uiuo.ark+=13960=t1fj3570z</th>\n",
       "      <td>Eliot, George</td>\n",
       "      <td>1871</td>\n",
       "      <td>8721591.0</td>\n",
       "      <td>1871</td>\n",
       "      <td>39.0</td>\n",
       "      <td>True</td>\n",
       "      <td>16.0</td>\n",
       "      <td>Eliot</td>\n",
       "      <td>Middlemarch: a study of provincial life</td>\n",
       "    </tr>\n",
       "    <tr>\n",
       "      <th>nyp.33433081852711</th>\n",
       "      <td>James, Henry</td>\n",
       "      <td>1882</td>\n",
       "      <td>8608486.0</td>\n",
       "      <td>1882</td>\n",
       "      <td>23.0</td>\n",
       "      <td>True</td>\n",
       "      <td>1.0</td>\n",
       "      <td>James</td>\n",
       "      <td>The portrait of a lady / | $c: by Henry James.</td>\n",
       "    </tr>\n",
       "  </tbody>\n",
       "</table>\n",
       "</div>"
      ],
      "text/plain": [
       "                                                    author  inferreddate  \\\n",
       "docid                                                                      \n",
       "uc1.b250586                            Sinclair, Catherine          1852   \n",
       "mdp.39015004063601                         Steinbeck, John          1939   \n",
       "uc1.b242928                Glasgow, Ellen Anderson Gholson          1898   \n",
       "uiuo.ark+=13960=t0ks7cx66                    Eliot, George          1871   \n",
       "uc1.b250587                            Sinclair, Catherine          1852   \n",
       "mdp.39015031600409                       Chandler, Raymond          1945   \n",
       "uc1.b250585                            Sinclair, Catherine          1852   \n",
       "uc1.b249782                        Davis, Richard Harding,          1895   \n",
       "uiuo.ark+=13960=t50g4c509                    Eliot, George          1871   \n",
       "uc1.b248359                                  Cousin Carrie          1864   \n",
       "uiuo.ark+=13960=t8hd8j356                    Eliot, George          1871   \n",
       "uiuo.ark+=13960=t1fj3570z                    Eliot, George          1871   \n",
       "nyp.33433081852711                            James, Henry          1882   \n",
       "\n",
       "                            recordid  latestcomp  allcopiesofwork  \\\n",
       "docid                                                               \n",
       "uc1.b250586                6502576.0        1852              NaN   \n",
       "mdp.39015004063601         1029460.0        1939             11.0   \n",
       "uc1.b242928                 432668.0        1898              NaN   \n",
       "uiuo.ark+=13960=t0ks7cx66  8721591.0        1871             39.0   \n",
       "uc1.b250587                6502576.0        1852              NaN   \n",
       "mdp.39015031600409          624157.0        1945              1.0   \n",
       "uc1.b250585                6502576.0        1852              NaN   \n",
       "uc1.b249782                 484766.0        1895              NaN   \n",
       "uiuo.ark+=13960=t50g4c509  8721591.0        1871             39.0   \n",
       "uc1.b248359                6501301.0        1864              NaN   \n",
       "uiuo.ark+=13960=t8hd8j356  8721591.0        1871             39.0   \n",
       "uiuo.ark+=13960=t1fj3570z  8721591.0        1871             39.0   \n",
       "nyp.33433081852711         8608486.0        1882             23.0   \n",
       "\n",
       "                          earlyedition  copiesin25yrs   lastname  \\\n",
       "docid                                                              \n",
       "uc1.b250586                        NaN            NaN   Sinclair   \n",
       "mdp.39015004063601                True            6.0  Steinbeck   \n",
       "uc1.b242928                        NaN            NaN    Glasgow   \n",
       "uiuo.ark+=13960=t0ks7cx66         True           16.0      Eliot   \n",
       "uc1.b250587                        NaN            NaN   Sinclair   \n",
       "mdp.39015031600409                True            1.0   Chandler   \n",
       "uc1.b250585                        NaN            NaN   Sinclair   \n",
       "uc1.b249782                        NaN            NaN      Davis   \n",
       "uiuo.ark+=13960=t50g4c509         True           16.0      Eliot   \n",
       "uc1.b248359                        NaN            NaN     Cousin   \n",
       "uiuo.ark+=13960=t8hd8j356         True           16.0      Eliot   \n",
       "uiuo.ark+=13960=t1fj3570z         True           16.0      Eliot   \n",
       "nyp.33433081852711                True            1.0      James   \n",
       "\n",
       "                                                                    title  \n",
       "docid                                                                      \n",
       "uc1.b250586                           Beatrice, or, The unknown relatives  \n",
       "mdp.39015004063601         The grapes of wrath | $c: [by] John Steinbeck.  \n",
       "uc1.b242928                                  Phases of an inferior planet  \n",
       "uiuo.ark+=13960=t0ks7cx66         Middlemarch: a study of provincial life  \n",
       "uc1.b250587                           Beatrice, or, The unknown relatives  \n",
       "mdp.39015031600409                                         The big sleep.  \n",
       "uc1.b250585                           Beatrice, or, The unknown relatives  \n",
       "uc1.b249782                                            The Princess Aline  \n",
       "uiuo.ark+=13960=t50g4c509         Middlemarch: a study of provincial life  \n",
       "uc1.b248359                                             Keep a good heart  \n",
       "uiuo.ark+=13960=t8hd8j356         Middlemarch: a study of provincial life  \n",
       "uiuo.ark+=13960=t1fj3570z         Middlemarch: a study of provincial life  \n",
       "nyp.33433081852711         The portrait of a lady / | $c: by Henry James.  "
      ]
     },
     "execution_count": 15,
     "metadata": {},
     "output_type": "execute_result"
    }
   ],
   "source": [
    "allmeta.loc[missing, : ]"
   ]
  },
  {
   "cell_type": "code",
   "execution_count": 29,
   "metadata": {},
   "outputs": [
    {
     "name": "stdout",
     "output_type": "stream",
     "text": [
      "(39830, 10)\n"
     ]
    },
    {
     "data": {
      "text/plain": [
       "(39817, 10)"
      ]
     },
     "execution_count": 29,
     "metadata": {},
     "output_type": "execute_result"
    }
   ],
   "source": [
    "print(allmeta.shape)\n",
    "allmeta = allmeta.loc[whatwehave, : ]\n",
    "allmeta.shape"
   ]
  },
  {
   "cell_type": "code",
   "execution_count": 30,
   "metadata": {},
   "outputs": [],
   "source": [
    "allmeta.to_csv('supp2allmeta.tsv', sep = '\\t', index_label = 'docid')"
   ]
  },
  {
   "cell_type": "code",
   "execution_count": null,
   "metadata": {},
   "outputs": [],
   "source": []
  }
 ],
 "metadata": {
  "kernelspec": {
   "display_name": "Python 3",
   "language": "python",
   "name": "python3"
  },
  "language_info": {
   "codemirror_mode": {
    "name": "ipython",
    "version": 3
   },
   "file_extension": ".py",
   "mimetype": "text/x-python",
   "name": "python",
   "nbconvert_exporter": "python",
   "pygments_lexer": "ipython3",
   "version": "3.5.2"
  }
 },
 "nbformat": 4,
 "nbformat_minor": 2
}
