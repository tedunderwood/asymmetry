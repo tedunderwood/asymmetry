{
 "cells": [
  {
   "cell_type": "markdown",
   "metadata": {},
   "source": [
    "# Within a single author's life, is there any pattern to resonance?\n",
    "\n",
    "Because we idly speculated that it might decline ..."
   ]
  },
  {
   "cell_type": "code",
   "execution_count": 38,
   "metadata": {},
   "outputs": [],
   "source": [
    "import pandas as pd\n",
    "import numpy as np\n",
    "from scipy.stats import pearsonr, zscore\n",
    "import random\n",
    "from matplotlib import pyplot as plt\n",
    "%matplotlib inline"
   ]
  },
  {
   "cell_type": "code",
   "execution_count": 25,
   "metadata": {},
   "outputs": [],
   "source": [
    "zdata = pd.read_csv('../supp2results/zdata.tsv', sep = '\\t', index_col= 'docid')"
   ]
  },
  {
   "cell_type": "code",
   "execution_count": 26,
   "metadata": {},
   "outputs": [],
   "source": [
    "meta = pd.read_csv('../supplement2/supp2nationalitymeta.tsv', sep = '\\t', index_col = 'docid')"
   ]
  },
  {
   "cell_type": "markdown",
   "metadata": {},
   "source": [
    "#### get some extra metadata for author birth and death dates"
   ]
  },
  {
   "cell_type": "code",
   "execution_count": 18,
   "metadata": {},
   "outputs": [],
   "source": [
    "work = pd.read_csv('../../noveltmmeta/workmeta.tsv', sep = '\\t', index_col = 'docid', low_memory = False)"
   ]
  },
  {
   "cell_type": "markdown",
   "metadata": {},
   "source": [
    "I'm going to actually add ```author``` to zdata, but keep ```authordate``` in work, because there can be different authordates for the same author, and it complicates matters to do a join."
   ]
  },
  {
   "cell_type": "code",
   "execution_count": 27,
   "metadata": {},
   "outputs": [
    {
     "name": "stdout",
     "output_type": "stream",
     "text": [
      "(39817, 40)\n",
      "(39817, 41)\n"
     ]
    }
   ],
   "source": [
    "print(zdata.shape)\n",
    "zdata = zdata.join(meta.author, how = 'inner')\n",
    "print(zdata.shape)"
   ]
  },
  {
   "cell_type": "code",
   "execution_count": 8,
   "metadata": {},
   "outputs": [
    {
     "data": {
      "text/plain": [
       "Index(['novelty_1.0_10', 'novelty_1.0_25', 'novelty_1.0_40', 'novelty_0.2_10',\n",
       "       'novelty_0.2_25', 'novelty_0.2_40', 'novelty_0.05_10',\n",
       "       'novelty_0.05_25', 'novelty_0.05_40', 'novelty_0.025_10',\n",
       "       'novelty_0.025_25', 'novelty_0.025_40', 'transience_1.0_10',\n",
       "       'transience_1.0_25', 'transience_1.0_40', 'transience_0.2_10',\n",
       "       'transience_0.2_25', 'transience_0.2_40', 'transience_0.05_10',\n",
       "       'transience_0.05_25', 'transience_0.05_40', 'transience_0.025_10',\n",
       "       'transience_0.025_25', 'transience_0.025_40', 'resonance_1.0_10',\n",
       "       'resonance_1.0_25', 'resonance_1.0_40', 'resonance_0.2_10',\n",
       "       'resonance_0.2_25', 'resonance_0.2_40', 'resonance_0.05_10',\n",
       "       'resonance_0.05_25', 'resonance_0.05_40', 'resonance_0.025_10',\n",
       "       'resonance_0.025_25', 'resonance_0.025_40', 'inferreddate', 'isus',\n",
       "       'latestcomp', 'allcopiesofwork', 'author'],\n",
       "      dtype='object')"
      ]
     },
     "execution_count": 8,
     "metadata": {},
     "output_type": "execute_result"
    }
   ],
   "source": [
    "zdata.columns"
   ]
  },
  {
   "cell_type": "markdown",
   "metadata": {},
   "source": [
    "#### test the average correlation of publication date with resonance across an author's life"
   ]
  },
  {
   "cell_type": "code",
   "execution_count": 50,
   "metadata": {},
   "outputs": [
    {
     "name": "stdout",
     "output_type": "stream",
     "text": [
      "There are  394  NaN vals.\n",
      "And  1280  non-NaN.\n",
      "Raw mean:  -0.503245459878\n",
      "\n",
      "Better estimate:  -0.656071653109\n"
     ]
    },
    {
     "name": "stderr",
     "output_type": "stream",
     "text": [
      "/Users/tunder/miniconda3/lib/python3.5/site-packages/scipy/stats/stats.py:3010: RuntimeWarning: invalid value encountered in double_scalars\n",
      "  r = r_num / r_den\n"
     ]
    }
   ],
   "source": [
    "correlations = []\n",
    "ages = []\n",
    "resonances = []\n",
    "errors = 0\n",
    "\n",
    "grouped = zdata.groupby('author')\n",
    "for auth, df in grouped:\n",
    "    rows = df.shape[0]\n",
    "    if rows > 3:\n",
    "        r, p = pearsonr(df['resonance_0.05_25'], df['latestcomp'])\n",
    "        correlations.append(r)\n",
    "        \n",
    "        if not np.isnan(r):\n",
    "            docid = df.index[0]\n",
    "            if docid not in work.index:\n",
    "                errors += 1\n",
    "                continue\n",
    "                \n",
    "            authordate = work.loc[docid, 'authordate']\n",
    "            if pd.isnull(authordate):\n",
    "                continue\n",
    "            if len(authordate) > 5 and '-' in authordate:\n",
    "                try:\n",
    "                    birth = int(authordate[0 : 4])\n",
    "                except:\n",
    "                    continue\n",
    "            \n",
    "                idx = random.sample([df.index.tolist()], 1)[0]\n",
    "                date = df.loc[idx, 'latestcomp'].values[0]\n",
    "                age = date - birth\n",
    "                if age > 90:\n",
    "                    continue\n",
    "                else:\n",
    "                    ages.append(age)\n",
    "                    resonances.append(df.loc[idx, 'resonance_0.05_25'].values[0])        \n",
    "\n",
    "print(\"There are \", sum(np.isnan(correlations)), \" NaN vals.\")       \n",
    "correlations = np.array(correlations)\n",
    "correlations = correlations[~np.isnan(correlations)]\n",
    "print('And ', len(correlations), ' non-NaN.')\n",
    "\n",
    "print('Raw mean: ', np.nanmean(correlations))\n",
    "print()\n",
    "fisher_transformed = np.arctanh(correlations)\n",
    "themean = np.mean(fisher_transformed)\n",
    "print('Better estimate: ', np.tanh(themean))"
   ]
  },
  {
   "cell_type": "markdown",
   "metadata": {},
   "source": [
    "An average correlation of -0.65 is bloody strong.\n",
    "\n",
    "It suggests that resonance goes down as you get older.\n",
    "\n",
    "But hey, it's sort of weird to average *r* across a lot of datasets with small *n*. So we also randomly pulled out some works, and recorded author age and resonance in each case."
   ]
  },
  {
   "cell_type": "code",
   "execution_count": 49,
   "metadata": {},
   "outputs": [
    {
     "data": {
      "image/png": "[encoded data removed]",
      "text/plain": [
       "<matplotlib.figure.Figure at 0x1a16475d68>"
      ]
     },
     "metadata": {},
     "output_type": "display_data"
    }
   ],
   "source": [
    "plt.scatter(ages, resonances)\n",
    "plt.show()"
   ]
  },
  {
   "cell_type": "code",
   "execution_count": 51,
   "metadata": {},
   "outputs": [
    {
     "data": {
      "text/plain": [
       "(-0.46413102008780033, 1.3776690070422823e-58)"
      ]
     },
     "execution_count": 51,
     "metadata": {},
     "output_type": "execute_result"
    }
   ],
   "source": [
    "pearsonr(ages, resonances)"
   ]
  },
  {
   "cell_type": "markdown",
   "metadata": {},
   "source": [
    "### Interpretation\n",
    "\n",
    "We need to be a little cautious, because we don't know how close books are to date of first publication on average. Maybe this is just telling us that reprints lack resonance, because (obvs) they're dated too late.\n",
    "\n",
    "So let's take some sets where we know they're dated to firstpub."
   ]
  },
  {
   "cell_type": "code",
   "execution_count": 52,
   "metadata": {},
   "outputs": [],
   "source": [
    "hypothesis_meta = pd.read_csv('../supplement2/hypothesis_wnationality_meta.tsv', sep = '\\t', index_col = 'docid')"
   ]
  },
  {
   "cell_type": "code",
   "execution_count": 54,
   "metadata": {},
   "outputs": [],
   "source": [
    "reviewset = hypothesis_meta[hypothesis_meta.reviewed].index.tolist() + hypothesis_meta[hypothesis_meta.contrast4reviewed].index.tolist()"
   ]
  },
  {
   "cell_type": "code",
   "execution_count": 55,
   "metadata": {},
   "outputs": [
    {
     "data": {
      "text/plain": [
       "1143"
      ]
     },
     "execution_count": 55,
     "metadata": {},
     "output_type": "execute_result"
    }
   ],
   "source": [
    "len(reviewset)"
   ]
  },
  {
   "cell_type": "code",
   "execution_count": 61,
   "metadata": {},
   "outputs": [
    {
     "name": "stdout",
     "output_type": "stream",
     "text": [
      "There are  5  NaN vals.\n",
      "And  26  non-NaN.\n",
      "Raw mean:  -0.4936872616\n",
      "\n",
      "Better estimate:  -0.842910162153\n"
     ]
    },
    {
     "name": "stderr",
     "output_type": "stream",
     "text": [
      "/Users/tunder/miniconda3/lib/python3.5/site-packages/scipy/stats/stats.py:3010: RuntimeWarning: invalid value encountered in double_scalars\n",
      "  r = r_num / r_den\n"
     ]
    }
   ],
   "source": [
    "puredata = zdata.loc[reviewset, :]\n",
    "correlations = []\n",
    "ages = []\n",
    "resonances = []\n",
    "errors = 0\n",
    "\n",
    "grouped = puredata.groupby('author')\n",
    "for auth, df in grouped:\n",
    "    rows = df.shape[0]\n",
    "    if rows > 2:\n",
    "        r, p = pearsonr(df['resonance_0.05_25'], df['latestcomp'])\n",
    "        correlations.append(r)\n",
    "        \n",
    "        if not np.isnan(r):\n",
    "            docid = df.index[0]\n",
    "            if docid not in work.index:\n",
    "                errors += 1\n",
    "                continue\n",
    "                \n",
    "            authordate = work.loc[docid, 'authordate']\n",
    "            if pd.isnull(authordate):\n",
    "                continue\n",
    "            if len(authordate) > 5 and '-' in authordate:\n",
    "                try:\n",
    "                    birth = int(authordate[0 : 4])\n",
    "                except:\n",
    "                    continue\n",
    "            \n",
    "                for idx in df.index:\n",
    "                    date = df.loc[idx, 'latestcomp']\n",
    "                    age = date - birth\n",
    "                    if age > 90:\n",
    "                        continue\n",
    "                    else:\n",
    "                        ages.append(age)\n",
    "                        resonances.append(df.loc[idx, 'resonance_0.05_25'])       \n",
    "\n",
    "print(\"There are \", sum(np.isnan(correlations)), \" NaN vals.\")       \n",
    "correlations = np.array(correlations)\n",
    "correlations = correlations[~np.isnan(correlations)]\n",
    "print('And ', len(correlations), ' non-NaN.')\n",
    "\n",
    "print('Raw mean: ', np.nanmean(correlations))\n",
    "print()\n",
    "fisher_transformed = np.arctanh(correlations)\n",
    "themean = np.mean(fisher_transformed)\n",
    "print('Better estimate: ', np.tanh(themean))"
   ]
  },
  {
   "cell_type": "code",
   "execution_count": 62,
   "metadata": {},
   "outputs": [
    {
     "data": {
      "image/png": "[encoded data removed]",
      "text/plain": [
       "<matplotlib.figure.Figure at 0x1a1e0bfd30>"
      ]
     },
     "metadata": {},
     "output_type": "display_data"
    }
   ],
   "source": [
    "plt.scatter(ages, resonances)\n",
    "plt.show()"
   ]
  },
  {
   "cell_type": "code",
   "execution_count": 63,
   "metadata": {},
   "outputs": [
    {
     "data": {
      "text/plain": [
       "(-0.68782060192148164, 6.5725592010968643e-09)"
      ]
     },
     "execution_count": 63,
     "metadata": {},
     "output_type": "execute_result"
    }
   ],
   "source": [
    "pearsonr(ages, resonances)"
   ]
  },
  {
   "cell_type": "markdown",
   "metadata": {},
   "source": [
    "### Conclusion\n",
    "\n",
    "Publish books early."
   ]
  },
  {
   "cell_type": "code",
   "execution_count": null,
   "metadata": {},
   "outputs": [],
   "source": []
  }
 ],
 "metadata": {
  "kernelspec": {
   "display_name": "Python 3",
   "language": "python",
   "name": "python3"
  },
  "language_info": {
   "codemirror_mode": {
    "name": "ipython",
    "version": 3
   },
   "file_extension": ".py",
   "mimetype": "text/x-python",
   "name": "python",
   "nbconvert_exporter": "python",
   "pygments_lexer": "ipython3",
   "version": "3.5.2"
  }
 },
 "nbformat": 4,
 "nbformat_minor": 2
}
