{
 "cells": [
  {
   "cell_type": "markdown",
   "metadata": {},
   "source": [
    "# Documenting the \"edge effect\" in distance calculations based on a topic model\n",
    "\n",
    "Working with measures of \"novelty\" and \"transience\" based on KL divergence, I noticed that these had a tendency to peak toward the center of a timeline. I was originally working with a two-century model (1800-2009), but if I subdivided the original data to model a one-century timeline (1900-2009), I *still* got a peak in the center of the timeline.\n",
    "\n",
    "Conversation with Laure Thompson and David Mimno led me to think more about the mechanism causing this. To get more confirmation I wanted to try another model (1800-1914)--but also (maybe more importantly) a different measure of distance. KLD distance measures are a little weird and asymmetrical. What about good old cosine distance?\n",
    "\n",
    "The data I'm using is mostly distributed evenly across time (200 vols a year). But there's a big exception to this before 1840, where data is quite a bit sparser. That should be kept in mind as you scan the graphs below."
   ]
  },
  {
   "cell_type": "code",
   "execution_count": 1,
   "metadata": {},
   "outputs": [],
   "source": [
    "import pandas as pd\n",
    "import numpy as np\n",
    "from matplotlib import pyplot as plt\n",
    "%matplotlib inline\n",
    "import glob, math\n",
    "from scipy.stats import pearsonr, zscore, ttest_ind\n",
    "from statistics import mean, stdev\n",
    "from math import sqrt"
   ]
  },
  {
   "cell_type": "markdown",
   "metadata": {},
   "source": [
    "## Patterns in a model 1800-1914\n",
    "\n",
    "To get the data we need to first concatenate a lot of summary files. These distances are calculated with volume-against volume comparisons, which ... given 20,000 volumes in this model ... gets to be enough computation that I wanted to distribute it across a cluster. Thus the separate files of results."
   ]
  },
  {
   "cell_type": "code",
   "execution_count": 2,
   "metadata": {},
   "outputs": [
    {
     "data": {
      "text/plain": [
       "['../19results/19thseg2500summary.tsv',\n",
       " '../19results/19thseg0summary.tsv',\n",
       " '../19results/19thseg15000summary.tsv',\n",
       " '../19results/19thseg17500summary.tsv',\n",
       " '../19results/19thseg12500summary.tsv',\n",
       " '../19results/19thseg10000summary.tsv',\n",
       " '../19results/19thseg5000summary.tsv',\n",
       " '../19results/19thseg7500summary.tsv']"
      ]
     },
     "execution_count": 2,
     "metadata": {},
     "output_type": "execute_result"
    }
   ],
   "source": [
    "paths = glob.glob('../19results/*summary.tsv')\n",
    "paths"
   ]
  },
  {
   "cell_type": "code",
   "execution_count": 3,
   "metadata": {},
   "outputs": [
    {
     "name": "stdout",
     "output_type": "stream",
     "text": [
      "(2500, 27)\n",
      "(2500, 27)\n",
      "(2500, 27)\n",
      "(2142, 27)\n",
      "(2500, 27)\n",
      "(2500, 27)\n",
      "(2500, 27)\n",
      "(2500, 27)\n",
      "(19642, 27)\n"
     ]
    }
   ],
   "source": [
    "dfs = []\n",
    "for p in paths:\n",
    "    df = pd.read_csv(p, sep = '\\t', index_col = 'docid')\n",
    "    dfs.append(df)\n",
    "    print(df.shape)\n",
    "\n",
    "data = pd.concat(dfs, verify_integrity = True)\n",
    "print(data.shape)"
   ]
  },
  {
   "cell_type": "markdown",
   "metadata": {},
   "source": [
    "#### get some metadata so we can enrich our data with date of publication"
   ]
  },
  {
   "cell_type": "code",
   "execution_count": 4,
   "metadata": {},
   "outputs": [],
   "source": [
    "meta = pd.read_csv('../meta/filtered19csample.tsv', sep = '\\t', index_col = 'docid')"
   ]
  },
  {
   "cell_type": "code",
   "execution_count": 5,
   "metadata": {},
   "outputs": [],
   "source": [
    "data = data.join(meta.inferreddate, how = 'inner')"
   ]
  },
  {
   "cell_type": "markdown",
   "metadata": {},
   "source": [
    "#### now look at measures based on KL divergence"
   ]
  },
  {
   "cell_type": "code",
   "execution_count": 6,
   "metadata": {},
   "outputs": [
    {
     "data": {
      "image/png": "[encoded data removed]",
      "text/plain": [
       "<matplotlib.figure.Figure at 0x1a20e6f5c0>"
      ]
     },
     "metadata": {},
     "output_type": "display_data"
    }
   ],
   "source": [
    "novmeans = []\n",
    "transmeans = []\n",
    "years = []\n",
    "\n",
    "resmeans = []\n",
    "for floor in range(1800, 1920, 2):\n",
    "    df = data.loc[(data.inferreddate > floor) & (data.inferreddate < floor + 9), : ]\n",
    "    nas = np.isnan(df['resonance_1.0_10'])\n",
    "    novmeans.append(np.mean(df['novelty_1.0_10'][~nas]))\n",
    "    transmeans.append(np.mean(df['transience_1.0_10'][~nas]))\n",
    "    years.append(floor + 5)\n",
    "    \n",
    "plt.plot(years, novmeans)\n",
    "plt.plot(years, transmeans, color = 'r')\n",
    "plt.show()"
   ]
  },
  {
   "cell_type": "markdown",
   "metadata": {},
   "source": [
    "This is the first time we're not seeing a 100% straightforward \"novelty mountain\" in the middle of the timeline. **But note** I think there may be reasons for that. Here's the \"novelty\" trajectory I calculated using straightforward tf-idf vectors so they wouldn't be distorted by the edge-sampling effects of a topic model.\n",
    "\n",
    "![title](../images/idfvecnovelty20window.png)"
   ]
  },
  {
   "cell_type": "markdown",
   "metadata": {},
   "source": [
    "If you think carefully you can see how that real trajectory, overlaid on a \"novelty mountain,\" might produce the variant we're seeing in the image above. The real rise circa 1905 could cancel out the spurious drop-off caused by edge sampling effects."
   ]
  },
  {
   "cell_type": "markdown",
   "metadata": {},
   "source": [
    "## Let's look at cosine distance.\n",
    "\n",
    "I calculated cosine distances as the average of all this-volume-to-other-volume comparisons looking ten years backward from this volume, and (separately) looking ten years forward."
   ]
  },
  {
   "cell_type": "code",
   "execution_count": 7,
   "metadata": {},
   "outputs": [
    {
     "data": {
      "text/plain": [
       "['../19results/19thseg10000cosines.tsv',\n",
       " '../19results/19thseg12500cosines.tsv',\n",
       " '../19results/19thseg7500cosines.tsv',\n",
       " '../19results/19thseg5000cosines.tsv',\n",
       " '../19results/19thseg2500cosines.tsv',\n",
       " '../19results/19thseg0cosines.tsv',\n",
       " '../19results/19thseg17500cosines.tsv',\n",
       " '../19results/19thseg15000cosines.tsv']"
      ]
     },
     "execution_count": 7,
     "metadata": {},
     "output_type": "execute_result"
    }
   ],
   "source": [
    "paths = glob.glob('../19results/*cosines.tsv')\n",
    "paths"
   ]
  },
  {
   "cell_type": "code",
   "execution_count": 8,
   "metadata": {},
   "outputs": [
    {
     "name": "stdout",
     "output_type": "stream",
     "text": [
      "(2500, 2)\n",
      "(2500, 2)\n",
      "(2500, 2)\n",
      "(2500, 2)\n",
      "(2500, 2)\n",
      "(2500, 2)\n",
      "(2142, 2)\n",
      "(2500, 2)\n",
      "(19642, 2)\n"
     ]
    }
   ],
   "source": [
    "dfs = []\n",
    "for p in paths:\n",
    "    df = pd.read_csv(p, sep = '\\t', index_col = 'docid')\n",
    "    dfs.append(df)\n",
    "    print(df.shape)\n",
    "\n",
    "cosines = pd.concat(dfs, verify_integrity = True)\n",
    "print(cosines.shape)"
   ]
  },
  {
   "cell_type": "code",
   "execution_count": 9,
   "metadata": {},
   "outputs": [],
   "source": [
    "cosines = cosines.join(meta.inferreddate, how = 'inner')"
   ]
  },
  {
   "cell_type": "code",
   "execution_count": 10,
   "metadata": {},
   "outputs": [
    {
     "data": {
      "image/png": "[encoded data removed]",
      "text/plain": [
       "<matplotlib.figure.Figure at 0x108a53390>"
      ]
     },
     "metadata": {},
     "output_type": "display_data"
    }
   ],
   "source": [
    "backwardmeans = []\n",
    "forwardmeans = []\n",
    "cosyears = []\n",
    "\n",
    "for floor in range(1800, 1920, 2):\n",
    "    df = cosines.loc[(cosines.inferreddate > floor) & (cosines.inferreddate < floor + 9), : ]\n",
    "    if floor > 1809:\n",
    "        nas = np.isnan(df['backward'])\n",
    "        backwardmeans.append(np.mean(df['backward'][~nas]))\n",
    "    else:\n",
    "        backwardmeans.append(np.nan)\n",
    "    \n",
    "    if floor < 1905:\n",
    "        nas = np.isnan(df['forward'])\n",
    "        forwardmeans.append(np.mean(df['forward'][~nas]))\n",
    "    else:\n",
    "        forwardmeans.append(np.nan)\n",
    "        \n",
    "    cosyears.append(floor + 5)\n",
    "    \n",
    "plt.plot(cosyears, backwardmeans)\n",
    "plt.plot(cosyears, forwardmeans, color = 'r')\n",
    "plt.show()"
   ]
  },
  {
   "cell_type": "markdown",
   "metadata": {},
   "source": [
    "That's a variant of Novelty Mountain. Let's call it, um, Cosine Plateau."
   ]
  },
  {
   "cell_type": "markdown",
   "metadata": {},
   "source": [
    "## What does Cosine Plateau look like if we model a longer timeline?"
   ]
  },
  {
   "cell_type": "code",
   "execution_count": 11,
   "metadata": {},
   "outputs": [
    {
     "data": {
      "text/plain": [
       "['../unifiedresults/unified20000cosines.tsv',\n",
       " '../unifiedresults/unified32500cosines.tsv',\n",
       " '../unifiedresults/unified22500cosines.tsv',\n",
       " '../unifiedresults/unified30000cosines.tsv',\n",
       " '../unifiedresults/unified10000cosines.tsv',\n",
       " '../unifiedresults/unified0cosines.tsv',\n",
       " '../unifiedresults/unified2500cosines.tsv',\n",
       " '../unifiedresults/unified12500cosines.tsv',\n",
       " '../unifiedresults/unified7500cosines.tsv',\n",
       " '../unifiedresults/unified17500cosines.tsv',\n",
       " '../unifiedresults/unified15000cosines.tsv',\n",
       " '../unifiedresults/unified5000cosines.tsv',\n",
       " '../unifiedresults/unified27500cosines.tsv',\n",
       " '../unifiedresults/unified35000cosines.tsv',\n",
       " '../unifiedresults/unified25000cosines.tsv',\n",
       " '../unifiedresults/unified37500cosines.tsv']"
      ]
     },
     "execution_count": 11,
     "metadata": {},
     "output_type": "execute_result"
    }
   ],
   "source": [
    "paths = glob.glob('../unifiedresults/*cosines.tsv')\n",
    "paths"
   ]
  },
  {
   "cell_type": "code",
   "execution_count": 12,
   "metadata": {},
   "outputs": [
    {
     "name": "stdout",
     "output_type": "stream",
     "text": [
      "(2500, 2)\n",
      "(2500, 2)\n",
      "(2500, 2)\n",
      "(2500, 2)\n",
      "(2500, 2)\n",
      "(2500, 2)\n",
      "(2500, 2)\n",
      "(2500, 2)\n",
      "(2500, 2)\n",
      "(2500, 2)\n",
      "(2500, 2)\n",
      "(2500, 2)\n",
      "(2500, 2)\n",
      "(2500, 2)\n",
      "(2500, 2)\n",
      "(1956, 2)\n",
      "(39456, 2)\n"
     ]
    }
   ],
   "source": [
    "dfs = []\n",
    "for p in paths:\n",
    "    df = pd.read_csv(p, sep = '\\t', index_col = 'docid')\n",
    "    dfs.append(df)\n",
    "    print(df.shape)\n",
    "\n",
    "unicos = pd.concat(dfs, verify_integrity = True)\n",
    "print(unicos.shape)"
   ]
  },
  {
   "cell_type": "code",
   "execution_count": 13,
   "metadata": {},
   "outputs": [],
   "source": [
    "unimeta = pd.read_csv('../meta/unifiedsample.tsv', sep = '\\t', index_col = 'docid')"
   ]
  },
  {
   "cell_type": "code",
   "execution_count": 14,
   "metadata": {},
   "outputs": [],
   "source": [
    "unicos = unicos.join(unimeta.earliestdate, how = 'inner')"
   ]
  },
  {
   "cell_type": "code",
   "execution_count": 15,
   "metadata": {},
   "outputs": [
    {
     "data": {
      "image/png": "[encoded data removed]",
      "text/plain": [
       "<matplotlib.figure.Figure at 0x108a6c898>"
      ]
     },
     "metadata": {},
     "output_type": "display_data"
    }
   ],
   "source": [
    "backwardmeans = []\n",
    "forwardmeans = []\n",
    "cosyears = []\n",
    "\n",
    "for floor in range(1800, 2010, 2):\n",
    "    df = unicos.loc[(unicos.earliestdate > floor) & (unicos.earliestdate < floor + 9), : ]\n",
    "    if floor > 1809:\n",
    "        nas = np.isnan(df['backward'])\n",
    "        backwardmeans.append(np.mean(df['backward'][~nas]))\n",
    "    else:\n",
    "        backwardmeans.append(np.nan)\n",
    "    \n",
    "    if floor < 2001:\n",
    "        nas = np.isnan(df['forward'])\n",
    "        forwardmeans.append(np.mean(df['forward'][~nas]))\n",
    "    else:\n",
    "        forwardmeans.append(np.nan)\n",
    "        \n",
    "    cosyears.append(floor + 5)\n",
    "    \n",
    "plt.plot(cosyears, backwardmeans)\n",
    "plt.plot(cosyears, forwardmeans, color = 'r')\n",
    "plt.show()"
   ]
  },
  {
   "cell_type": "markdown",
   "metadata": {},
   "source": [
    "The walls of the plateau are steeper here, which is interesting. It's like the effect has a fixed temporal radius. I'm trying to think if this could be caused by some kind of thresholding error in my code, but not coming up with anything.\n",
    "\n",
    "I know the results would be unreliable if we got less than 10 years away from the edge (because you wouldn't have a ten year window to calculate). But that's why I've built in those if-then statements to NaN out stuff less than 10 yrs from an edge."
   ]
  },
  {
   "cell_type": "markdown",
   "metadata": {},
   "source": [
    "## What if we test our original hypotheses using cosine distance?"
   ]
  },
  {
   "cell_type": "code",
   "execution_count": 16,
   "metadata": {},
   "outputs": [
    {
     "data": {
      "text/html": [
       "<div>\n",
       "<table border=\"1\" class=\"dataframe\">\n",
       "  <thead>\n",
       "    <tr style=\"text-align: right;\">\n",
       "      <th></th>\n",
       "      <th>backward</th>\n",
       "      <th>forward</th>\n",
       "      <th>earliestdate</th>\n",
       "    </tr>\n",
       "    <tr>\n",
       "      <th>docid</th>\n",
       "      <th></th>\n",
       "      <th></th>\n",
       "      <th></th>\n",
       "    </tr>\n",
       "  </thead>\n",
       "  <tbody>\n",
       "    <tr>\n",
       "      <th>hvd.hwtqwj</th>\n",
       "      <td>NaN</td>\n",
       "      <td>0.767489</td>\n",
       "      <td>1800</td>\n",
       "    </tr>\n",
       "    <tr>\n",
       "      <th>nyp.33433075724116</th>\n",
       "      <td>NaN</td>\n",
       "      <td>0.645649</td>\n",
       "      <td>1800</td>\n",
       "    </tr>\n",
       "    <tr>\n",
       "      <th>nyp.33433075724090</th>\n",
       "      <td>NaN</td>\n",
       "      <td>0.628122</td>\n",
       "      <td>1800</td>\n",
       "    </tr>\n",
       "    <tr>\n",
       "      <th>uiuo.ark+=13960=t8pc3pr08</th>\n",
       "      <td>NaN</td>\n",
       "      <td>0.556675</td>\n",
       "      <td>1800</td>\n",
       "    </tr>\n",
       "    <tr>\n",
       "      <th>uiuo.ark+=13960=t9572451c</th>\n",
       "      <td>NaN</td>\n",
       "      <td>0.592809</td>\n",
       "      <td>1800</td>\n",
       "    </tr>\n",
       "  </tbody>\n",
       "</table>\n",
       "</div>"
      ],
      "text/plain": [
       "                           backward   forward  earliestdate\n",
       "docid                                                      \n",
       "hvd.hwtqwj                      NaN  0.767489          1800\n",
       "nyp.33433075724116              NaN  0.645649          1800\n",
       "nyp.33433075724090              NaN  0.628122          1800\n",
       "uiuo.ark+=13960=t8pc3pr08       NaN  0.556675          1800\n",
       "uiuo.ark+=13960=t9572451c       NaN  0.592809          1800"
      ]
     },
     "execution_count": 16,
     "metadata": {},
     "output_type": "execute_result"
    }
   ],
   "source": [
    "unicos.head()"
   ]
  },
  {
   "cell_type": "code",
   "execution_count": 17,
   "metadata": {},
   "outputs": [],
   "source": [
    "unicos = unicos.assign(diff = unicos.backward - unicos.forward)"
   ]
  },
  {
   "cell_type": "code",
   "execution_count": 19,
   "metadata": {},
   "outputs": [
    {
     "data": {
      "text/plain": [
       "(1263, 5)"
      ]
     },
     "execution_count": 19,
     "metadata": {},
     "output_type": "execute_result"
    }
   ],
   "source": [
    "suppmeta = pd.read_csv('../supplement1/lastnamesupp1meta.tsv', sep = '\\t', index_col = 'docid')\n",
    "prestdata = unicos.join(suppmeta.tags, how = 'inner')\n",
    "prestdata.shape"
   ]
  },
  {
   "cell_type": "code",
   "execution_count": 22,
   "metadata": {},
   "outputs": [
    {
     "name": "stdout",
     "output_type": "stream",
     "text": [
      "t-test 6.46651669206 1.45186318543e-10\n",
      "Cohen's d 0.371629842164\n",
      "\n"
     ]
    }
   ],
   "source": [
    "elitecol = prestdata.loc[prestdata.tags == 'elite', 'diff']\n",
    "elitemask = np.isnan(elitecol)\n",
    "vulgarcol = prestdata.loc[prestdata.tags == 'vulgar', 'diff']\n",
    "vulgarmask = np.isnan(vulgarcol)\n",
    "t, p = ttest_ind(elitecol[~elitemask], \n",
    "                 vulgarcol[~vulgarmask])\n",
    "print(\"t-test\", t, p)\n",
    "a = elitecol[~elitemask]\n",
    "b = vulgarcol[~vulgarmask]\n",
    "cohens_d = (mean(a) - mean(b)) / (sqrt((stdev(a) ** 2 + stdev(b) ** 2) / 2))\n",
    "print(\"Cohen's d\", cohens_d)\n",
    "print() "
   ]
  },
  {
   "cell_type": "markdown",
   "metadata": {},
   "source": [
    "The effect is plenty significant. Not *quite* as significant as you get using the methods in Barron et al. 2018, but plenty significant."
   ]
  },
  {
   "cell_type": "code",
   "execution_count": null,
   "metadata": {},
   "outputs": [],
   "source": []
  }
 ],
 "metadata": {
  "kernelspec": {
   "display_name": "Python 3",
   "language": "python",
   "name": "python3"
  },
  "language_info": {
   "codemirror_mode": {
    "name": "ipython",
    "version": 3
   },
   "file_extension": ".py",
   "mimetype": "text/x-python",
   "name": "python",
   "nbconvert_exporter": "python",
   "pygments_lexer": "ipython3",
   "version": "3.5.2"
  }
 },
 "nbformat": 4,
 "nbformat_minor": 2
}
