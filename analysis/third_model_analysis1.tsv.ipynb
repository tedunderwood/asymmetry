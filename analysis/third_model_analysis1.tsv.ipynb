{
 "cells": [
  {
   "cell_type": "markdown",
   "metadata": {},
   "source": [
    "# Third model, first analysis\n",
    "\n",
    "This is our third pass at getting a model that includes all the volumes we need. It adds about 40 volumes in a British canon (nonusnorton), and more importantly does some manual correction of metadata in order to generate \"contrast sets\" that are dated as accurately as our hypothesis sets.\n",
    "\n",
    "However, I don't expect results to change very much from the second model."
   ]
  },
  {
   "cell_type": "code",
   "execution_count": 83,
   "metadata": {},
   "outputs": [
    {
     "name": "stderr",
     "output_type": "stream",
     "text": [
      "/Users/tunder/miniconda3/lib/python3.5/site-packages/statsmodels/compat/pandas.py:56: FutureWarning: The pandas.core.datetools module is deprecated and will be removed in a future version. Please use the pandas.tseries module instead.\n",
      "  from pandas.core import datetools\n"
     ]
    }
   ],
   "source": [
    "import pandas as pd\n",
    "import numpy as np\n",
    "from matplotlib import pyplot as plt\n",
    "%matplotlib inline\n",
    "import glob, math, random\n",
    "from scipy.stats import pearsonr, zscore, ttest_ind\n",
    "from statistics import mean, stdev\n",
    "from math import sqrt\n",
    "import statsmodels.api as sm"
   ]
  },
  {
   "cell_type": "markdown",
   "metadata": {},
   "source": [
    "### get metadata\n",
    "\n",
    "In order to analyze the data we will need a metadata table that includes information about volumes, including inferred biographical information about the author (age, gender, nationality) and columns that assign volumes to particular \"hypothesis\" and \"contrast\" sets."
   ]
  },
  {
   "cell_type": "code",
   "execution_count": 36,
   "metadata": {},
   "outputs": [
    {
     "name": "stdout",
     "output_type": "stream",
     "text": [
      "(39784, 39)\n"
     ]
    },
    {
     "data": {
      "text/plain": [
       "Index(['allcopiesofwork', 'author', 'copiesin25yrs', 'earlyedition', 'imprint',\n",
       "       'inferreddate', 'lastname', 'latestcomp', 'nationality', 'isusa',\n",
       "       'actualgender', 'likelygender', 'title', 'authordate', 'birth', 'age',\n",
       "       'recordid', 'best1821_1900', 'best1900_1950', 'best1950_1990',\n",
       "       'anybest', 'best1821_1900contrast', 'best1900_1950contrast',\n",
       "       'best1950_1990contrast', 'reviewed1850_1950',\n",
       "       'reviewed1850_1950contrast', 'heath', 'heathcontrast', 'mostdiscussed',\n",
       "       'mostdiscussedcontrast', 'usnorton', 'usnortoncontrast', 'nonusnorton',\n",
       "       'nonusnortoncontrast', 'preregistered', 'preregisteredcontrast',\n",
       "       'reviewed1965_1990', 'reviewed1965_1990contrast', 'toremove'],\n",
       "      dtype='object')"
      ]
     },
     "execution_count": 36,
     "metadata": {},
     "output_type": "execute_result"
    }
   ],
   "source": [
    "meta = pd.read_csv('../supplement3/thirdmastermeta.tsv', sep = '\\t', index_col = 'docid')\n",
    "print(meta.shape)\n",
    "meta.columns"
   ]
  },
  {
   "cell_type": "markdown",
   "metadata": {},
   "source": [
    "### get data\n",
    "\n",
    "Now the data itself. This is broken into a number of \"summary files\" because the processing that produced it had to be distributed across a cluster. (The entropy calculation is done by comparing individual volumes to each other, and when you've got 40k vols, the number of cross-comparisons becomes fairly large.)\n",
    "\n",
    "So we first make a list of all the files we need ..."
   ]
  },
  {
   "cell_type": "code",
   "execution_count": 3,
   "metadata": {},
   "outputs": [
    {
     "data": {
      "text/plain": [
       "['../supp3results/supp3_12000summary.tsv',\n",
       " '../supp3results/supp3_38000summary.tsv',\n",
       " '../supp3results/supp3_16000summary.tsv',\n",
       " '../supp3results/supp3_0summary.tsv',\n",
       " '../supp3results/supp3_8000summary.tsv',\n",
       " '../supp3results/supp3_28000summary.tsv',\n",
       " '../supp3results/supp3_26000summary.tsv',\n",
       " '../supp3results/supp3_22000summary.tsv',\n",
       " '../supp3results/supp3_2000summary.tsv',\n",
       " '../supp3results/supp3_6000summary.tsv',\n",
       " '../supp3results/supp3_32000summary.tsv',\n",
       " '../supp3results/supp3_36000summary.tsv',\n",
       " '../supp3results/supp3_18000summary.tsv',\n",
       " '../supp3results/supp3_20000summary.tsv',\n",
       " '../supp3results/supp3_24000summary.tsv',\n",
       " '../supp3results/supp3_34000summary.tsv',\n",
       " '../supp3results/supp3_30000summary.tsv',\n",
       " '../supp3results/supp3_4000summary.tsv',\n",
       " '../supp3results/supp3_14000summary.tsv',\n",
       " '../supp3results/supp3_10000summary.tsv']"
      ]
     },
     "execution_count": 3,
     "metadata": {},
     "output_type": "execute_result"
    }
   ],
   "source": [
    "paths = glob.glob('../supp3results/*summary.tsv')\n",
    "paths"
   ]
  },
  {
   "cell_type": "markdown",
   "metadata": {},
   "source": [
    "... and then loop across the list, reading them in ... and finally concatenate the data frames."
   ]
  },
  {
   "cell_type": "code",
   "execution_count": 4,
   "metadata": {},
   "outputs": [
    {
     "name": "stdout",
     "output_type": "stream",
     "text": [
      "(39784, 27)\n"
     ]
    }
   ],
   "source": [
    "dfs = []\n",
    "for p in paths:\n",
    "    df = pd.read_csv(p, sep = '\\t', index_col = 'docid')\n",
    "    dfs.append(df)\n",
    "\n",
    "data = pd.concat(dfs, verify_integrity = True)\n",
    "print(data.shape)"
   ]
  },
  {
   "cell_type": "markdown",
   "metadata": {},
   "source": [
    "Thank god, the number of rows in metadata == number of rows in data!"
   ]
  },
  {
   "cell_type": "markdown",
   "metadata": {},
   "source": [
    "### test hypotheses on raw data\n",
    "\n",
    "There are lots of ways we can test our hypotheses, but first let's start simple. We'll just identify volumes in the hypothesis set, and those in a contrast set (matched as closely as practical to the hypothesis set in genre, nationality, and date). The [matching strategy](https://www.ncbi.nlm.nih.gov/pmc/articles/PMC2943670/) is a way of addressing confounding variables without some of the slipperiness of a complex regression.\n",
    "\n",
    "Then we run a t test on resonance for each of these categories. \n",
    "\n",
    "I'm primarily going to measure resonance at the 25-year window, and use all the volumes. I consider the column ```resonance_1.0_25``` the most reliable, generalized test. But I will also test at the 5% level, to see how that differs."
   ]
  },
  {
   "cell_type": "code",
   "execution_count": 43,
   "metadata": {},
   "outputs": [],
   "source": [
    "def testahypothesis(hypothesis_cat, data, meta):\n",
    "    contrast_cat = hypothesis_cat + 'contrast'\n",
    "    \n",
    "    hypodocs = meta.index[meta[hypothesis_cat] == 1].tolist()\n",
    "    contradocs = meta.index[meta[contrast_cat] == 1].tolist()\n",
    "    \n",
    "    testoverlap = set(hypodocs).intersection(set(contradocs))\n",
    "    print(len(testoverlap))\n",
    "    \n",
    "    columns = ['resonance_1.0_25', 'resonance_0.05_25']\n",
    "    \n",
    "    for col in columns:\n",
    "        hypothesis_data = data.loc[hypodocs, col]\n",
    "        hypothesis_data = hypothesis_data[~np.isnan(hypothesis_data)]\n",
    "        \n",
    "        contrast_data = data.loc[contradocs, col]\n",
    "        contrast_data = contrast_data[~np.isnan(contrast_data)]\n",
    "        \n",
    "        t, p = ttest_ind(hypothesis_data, contrast_data)\n",
    "        print(col, \"t-test\", t, p)\n",
    "        a = hypothesis_data\n",
    "        b = contrast_data\n",
    "        cohens_d = (mean(a) - mean(b)) / (sqrt((stdev(a) ** 2 + stdev(b) ** 2) / 2))\n",
    "        print(col, \"Cohen's d\", cohens_d)\n",
    "        print() "
   ]
  },
  {
   "cell_type": "code",
   "execution_count": 44,
   "metadata": {},
   "outputs": [
    {
     "name": "stdout",
     "output_type": "stream",
     "text": [
      "best1821_1900\n",
      "1\n",
      "resonance_1.0_25 t-test 4.18207502217 3.90826157017e-05\n",
      "resonance_1.0_25 Cohen's d 0.507151089725551\n",
      "\n",
      "resonance_0.05_25 t-test 4.87986587255 1.81742839832e-06\n",
      "resonance_0.05_25 Cohen's d 0.5917706597464294\n",
      "\n",
      "\n",
      "best1900_1950\n",
      "0\n",
      "resonance_1.0_25 t-test 2.51399280017 0.0124984220009\n",
      "resonance_1.0_25 Cohen's d 0.29941218533573655\n",
      "\n",
      "resonance_0.05_25 t-test 1.97802429527 0.0489061447334\n",
      "resonance_0.05_25 Cohen's d 0.23557926532491685\n",
      "\n",
      "\n",
      "best1950_1990\n",
      "0\n",
      "resonance_1.0_25 t-test -1.05483724148 0.292564931885\n",
      "resonance_1.0_25 Cohen's d -0.13592742178518313\n",
      "\n",
      "resonance_0.05_25 t-test -1.79659252091 0.0736630212982\n",
      "resonance_0.05_25 Cohen's d -0.2313211297690837\n",
      "\n",
      "\n",
      "reviewed1850_1950\n",
      "0\n",
      "resonance_1.0_25 t-test 6.07823498208 1.65383650847e-09\n",
      "resonance_1.0_25 Cohen's d 0.3609528297449262\n",
      "\n",
      "resonance_0.05_25 t-test 7.28942164376 5.79881532588e-13\n",
      "resonance_0.05_25 Cohen's d 0.4316225323709787\n",
      "\n",
      "\n",
      "heath\n",
      "0\n",
      "resonance_1.0_25 t-test 0.697160189666 0.487627577336\n",
      "resonance_1.0_25 Cohen's d 0.15019955591315579\n",
      "\n",
      "resonance_0.05_25 t-test -0.481599836454 0.631342564395\n",
      "resonance_0.05_25 Cohen's d -0.10358240201877814\n",
      "\n",
      "\n",
      "mostdiscussed\n",
      "0\n",
      "resonance_1.0_25 t-test 1.24295916987 0.219458358849\n",
      "resonance_1.0_25 Cohen's d 0.3382906374781595\n",
      "\n",
      "resonance_0.05_25 t-test 2.21528308623 0.0311444079161\n",
      "resonance_0.05_25 Cohen's d 0.6029236885644174\n",
      "\n",
      "\n",
      "usnorton\n",
      "0\n",
      "resonance_1.0_25 t-test 0.284712736417 0.776419724898\n",
      "resonance_1.0_25 Cohen's d 0.05479299167067695\n",
      "\n",
      "resonance_0.05_25 t-test -0.276567936696 0.782650439554\n",
      "resonance_0.05_25 Cohen's d -0.053225524233503484\n",
      "\n",
      "\n",
      "nonusnorton\n",
      "0\n",
      "resonance_1.0_25 t-test 2.27306074909 0.0253247270778\n",
      "resonance_1.0_25 Cohen's d 0.46703484851296323\n",
      "\n",
      "resonance_0.05_25 t-test 2.77590279886 0.00665580619693\n",
      "resonance_0.05_25 Cohen's d 0.5714840876990259\n",
      "\n",
      "\n",
      "preregistered\n",
      "0\n",
      "resonance_1.0_25 t-test 2.70030242458 0.0104901774852\n",
      "resonance_1.0_25 Cohen's d 0.8760937935957426\n",
      "\n",
      "resonance_0.05_25 t-test 3.29121332536 0.00223952884324\n",
      "resonance_0.05_25 Cohen's d 1.067810605769049\n",
      "\n",
      "\n",
      "reviewed1965_1990\n",
      "0\n",
      "resonance_1.0_25 t-test 2.4754180827 0.0144675735823\n",
      "resonance_1.0_25 Cohen's d 0.40960004416286233\n",
      "\n",
      "resonance_0.05_25 t-test 1.15813532551 0.248726007314\n",
      "resonance_0.05_25 Cohen's d 0.1916615513993298\n",
      "\n",
      "\n"
     ]
    }
   ],
   "source": [
    "cols2check = ['best1821_1900',\n",
    "       'best1900_1950', 'best1950_1990', 'reviewed1850_1950', 'heath', \n",
    "        'mostdiscussed', 'usnorton', 'nonusnorton', 'preregistered',\n",
    "       'reviewed1965_1990']\n",
    "\n",
    "for col in cols2check:\n",
    "    print(col)\n",
    "    testahypothesis(col, data, meta)\n",
    "    print()"
   ]
  },
  {
   "cell_type": "markdown",
   "metadata": {},
   "source": [
    "### analysis\n",
    "\n",
    "Everything above makes sense.\n",
    "\n",
    "1. Clear significant positive effects: reviewed books both 1850-1950 and 1965-1990. Our preregistered 20 vols, also the non-US Norton vols. Bestsellers *until* 1950.\n",
    "\n",
    "2. Heath, usnorton, and mostdiscussed are not significant effects. For all of those groups, n is pretty small. On the other hand, nonusnorton and preregistered are significant with a sample size that's no larger, so the negative result here seems meaningful.\n",
    "\n",
    "3. The declining significance of bestsellerdom is pretty clear.\n",
    "\n",
    "There's also one error in there: the \"1\" instead of a \"0\" in best1821_1900 suggests that we have a tiny overlap between the hypothesis and contrast set. That shouldn't happen. I will set about fixing."
   ]
  },
  {
   "cell_type": "markdown",
   "metadata": {},
   "source": [
    "### interaction with age\n",
    "\n",
    "The author's age at time of composition / publication is a very powerful factor in this dataset. It's worth considering how it interacts with other categories."
   ]
  },
  {
   "cell_type": "code",
   "execution_count": 45,
   "metadata": {},
   "outputs": [
    {
     "data": {
      "text/plain": [
       "(39784, 28)"
      ]
     },
     "execution_count": 45,
     "metadata": {},
     "output_type": "execute_result"
    }
   ],
   "source": [
    "# join age to the data \n",
    "\n",
    "data = data.join(meta.age, how = 'inner')\n",
    "data.shape"
   ]
  },
  {
   "cell_type": "code",
   "execution_count": 48,
   "metadata": {},
   "outputs": [],
   "source": [
    "reviewed_docs = meta.index[meta.reviewed1850_1950 == 1].tolist()\n",
    "unreviewed_docs = meta.index[meta.reviewed1850_1950contrast == 1].tolist()\n",
    "\n",
    "reviewed_df = data.loc[reviewed_docs, ['resonance_1.0_25', 'age']]\n",
    "unreviewed_df = data.loc[unreviewed_docs, ['resonance_1.0_25', 'age']]"
   ]
  },
  {
   "cell_type": "code",
   "execution_count": 59,
   "metadata": {},
   "outputs": [],
   "source": [
    "plt.rcParams[\"figure.figsize\"] = [10,8]"
   ]
  },
  {
   "cell_type": "code",
   "execution_count": 63,
   "metadata": {},
   "outputs": [
    {
     "data": {
      "image/png": "[encoded data removed]",
      "text/plain": [
       "<matplotlib.figure.Figure at 0x1a211aef98>"
      ]
     },
     "metadata": {},
     "output_type": "display_data"
    }
   ],
   "source": [
    "x = reviewed_df.age\n",
    "y = reviewed_df['resonance_1.0_25']\n",
    "plt.scatter(x, y, c = 'b')\n",
    "x = x[~np.isnan(x) & ~np.isnan(y)]\n",
    "y = y[~np.isnan(y) & ~np.isnan(x)]\n",
    "z = np.polyfit(x, y, 1)\n",
    "p = np.poly1d(z)\n",
    "plt.plot(x,p(x),\"b--\")\n",
    "\n",
    "x = unreviewed_df.age\n",
    "y = unreviewed_df['resonance_1.0_25']\n",
    "plt.scatter(x, y, c = 'r', alpha = 0.6)\n",
    "x = x[~np.isnan(x) & ~np.isnan(y)]\n",
    "y = y[~np.isnan(y) & ~np.isnan(x)]\n",
    "z = np.polyfit(x, y, 1)\n",
    "p = np.poly1d(z)\n",
    "plt.plot(x,p(x),\"r--\")\n",
    "\n",
    "plt.show()"
   ]
  },
  {
   "cell_type": "markdown",
   "metadata": {},
   "source": [
    "The lines are pretty much the same around age 20, but they have different slopes. It appears reviewed authors don't lose resonance as quickly as they age. The mean ages in the two datasets are only slightly different:"
   ]
  },
  {
   "cell_type": "code",
   "execution_count": 66,
   "metadata": {},
   "outputs": [
    {
     "data": {
      "text/plain": [
       "42.038997214484681"
      ]
     },
     "execution_count": 66,
     "metadata": {},
     "output_type": "execute_result"
    }
   ],
   "source": [
    "np.nanmean(reviewed_df.age)"
   ]
  },
  {
   "cell_type": "code",
   "execution_count": 67,
   "metadata": {},
   "outputs": [
    {
     "data": {
      "text/plain": [
       "42.991044776119402"
      ]
     },
     "execution_count": 67,
     "metadata": {},
     "output_type": "execute_result"
    }
   ],
   "source": [
    "np.nanmean(unreviewed_df.age)"
   ]
  },
  {
   "cell_type": "markdown",
   "metadata": {},
   "source": [
    "But the mean resonance is significantly different."
   ]
  },
  {
   "cell_type": "code",
   "execution_count": 68,
   "metadata": {},
   "outputs": [
    {
     "name": "stdout",
     "output_type": "stream",
     "text": [
      "0.0910516897342\n",
      "0.019892420356\n"
     ]
    }
   ],
   "source": [
    "print(np.nanmean(reviewed_df['resonance_1.0_25']))\n",
    "print(np.nanmean(unreviewed_df['resonance_1.0_25']))"
   ]
  },
  {
   "cell_type": "markdown",
   "metadata": {},
   "source": [
    "### However, is that significant?\n",
    "\n",
    "I have my doubts. Let's compare some other datasets.\n",
    "\n",
    "#### First, bestsellers."
   ]
  },
  {
   "cell_type": "code",
   "execution_count": 73,
   "metadata": {},
   "outputs": [],
   "source": [
    "reviewed_docs = meta.index[meta.best1821_1900 == 1].tolist()\n",
    "unreviewed_docs = meta.index[meta.best1821_1900contrast == 1].tolist()\n",
    "\n",
    "reviewed_df = data.loc[reviewed_docs, ['resonance_1.0_25', 'age']]\n",
    "unreviewed_df = data.loc[unreviewed_docs, ['resonance_1.0_25', 'age']]"
   ]
  },
  {
   "cell_type": "code",
   "execution_count": 74,
   "metadata": {},
   "outputs": [
    {
     "data": {
      "image/png": "[encoded data removed]",
      "text/plain": [
       "<matplotlib.figure.Figure at 0x1a22bb71d0>"
      ]
     },
     "metadata": {},
     "output_type": "display_data"
    }
   ],
   "source": [
    "x = reviewed_df.age\n",
    "y = reviewed_df['resonance_1.0_25']\n",
    "plt.scatter(x, y, c = 'b')\n",
    "x = x[~np.isnan(x) & ~np.isnan(y)]\n",
    "y = y[~np.isnan(y) & ~np.isnan(x)]\n",
    "z = np.polyfit(x, y, 1)\n",
    "p = np.poly1d(z)\n",
    "plt.plot(x,p(x),\"b--\")\n",
    "\n",
    "x = unreviewed_df.age\n",
    "y = unreviewed_df['resonance_1.0_25']\n",
    "plt.scatter(x, y, c = 'r', alpha = 0.6)\n",
    "x = x[~np.isnan(x) & ~np.isnan(y)]\n",
    "y = y[~np.isnan(y) & ~np.isnan(x)]\n",
    "z = np.polyfit(x, y, 1)\n",
    "p = np.poly1d(z)\n",
    "plt.plot(x,p(x),\"r--\")\n",
    "\n",
    "plt.show()"
   ]
  },
  {
   "cell_type": "markdown",
   "metadata": {},
   "source": [
    "In that case the lines have the same slope.\n",
    "\n",
    "#### Now post-65 reviewed books."
   ]
  },
  {
   "cell_type": "code",
   "execution_count": 75,
   "metadata": {},
   "outputs": [],
   "source": [
    "reviewed_docs = meta.index[meta.reviewed1965_1990 == 1].tolist()\n",
    "unreviewed_docs = meta.index[meta.reviewed1965_1990contrast == 1].tolist()\n",
    "\n",
    "reviewed_df = data.loc[reviewed_docs, ['resonance_1.0_25', 'age']]\n",
    "unreviewed_df = data.loc[unreviewed_docs, ['resonance_1.0_25', 'age']]"
   ]
  },
  {
   "cell_type": "code",
   "execution_count": 76,
   "metadata": {},
   "outputs": [
    {
     "data": {
      "image/png": "[encoded data removed]",
      "text/plain": [
       "<matplotlib.figure.Figure at 0x1a230550b8>"
      ]
     },
     "metadata": {},
     "output_type": "display_data"
    }
   ],
   "source": [
    "x = reviewed_df.age\n",
    "y = reviewed_df['resonance_1.0_25']\n",
    "plt.scatter(x, y, c = 'b')\n",
    "x = x[~np.isnan(x) & ~np.isnan(y)]\n",
    "y = y[~np.isnan(y) & ~np.isnan(x)]\n",
    "z = np.polyfit(x, y, 1)\n",
    "p = np.poly1d(z)\n",
    "plt.plot(x,p(x),\"b--\")\n",
    "\n",
    "x = unreviewed_df.age\n",
    "y = unreviewed_df['resonance_1.0_25']\n",
    "plt.scatter(x, y, c = 'r', alpha = 0.6)\n",
    "x = x[~np.isnan(x) & ~np.isnan(y)]\n",
    "y = y[~np.isnan(y) & ~np.isnan(x)]\n",
    "z = np.polyfit(x, y, 1)\n",
    "p = np.poly1d(z)\n",
    "plt.plot(x,p(x),\"r--\")\n",
    "\n",
    "plt.show()"
   ]
  },
  {
   "cell_type": "markdown",
   "metadata": {},
   "source": [
    "So I'm not sure I see any enduring pattern here. It was worth checking, but the only durable pattern is that the red dots are slightly below the blue.\n",
    "\n",
    "**However**, I should come back and evaluate that after normalizing the resonance scores."
   ]
  },
  {
   "cell_type": "markdown",
   "metadata": {},
   "source": [
    "### A methodological example combining matching with regression\n",
    "\n",
    "I think matching is necessary for this problem because the vast mass of our data contains several kinds of contamination that are not present in our hand-selected lists of canonical, reviewed, etc. volumes.\n",
    "\n",
    "There's a significant fraction of nonfiction and juvenile fiction, as well as miscellanies, folktales, etc. Some of these things (e.g. the juvenile fiction or folktales) could well register as \"old-fashioned\" and give a randomly-selected set of volumes a backward bias that would make our hand-selected hypothesis sets seem artificially forward-looking by contrast. Plus, randomly-selected volumes are often (say 13% of the time) reprints, dated later than the real first date of publication. This could create the same sort of bias.\n",
    "\n",
    "To resolve this, I've created a set of about ~1200 volumes that are manually dated and groomed to exclude most nonfiction and juvenile fiction. Within that set, I select \"contrast sets\" that try to match the date distribution and us/nonus balance of the hypothesis set, by matching each volume to another with the same values. I think that process excludes a whole host of nasty confounding variables that aren't explicitly marked as such.\n",
    "\n",
    "However, once we've got a matched dataset, we can still use regression to control for confounding variables that *are* explicitly marked. An example of that process follows.\n"
   ]
  },
  {
   "cell_type": "code",
   "execution_count": 77,
   "metadata": {},
   "outputs": [
    {
     "data": {
      "text/plain": [
       "(39784, 40)"
      ]
     },
     "execution_count": 77,
     "metadata": {},
     "output_type": "execute_result"
    }
   ],
   "source": [
    "# first we add a resonance column to the metadata\n",
    "\n",
    "meta = meta.join(data['resonance_1.0_25'], how = 'inner')\n",
    "meta.shape"
   ]
  },
  {
   "cell_type": "code",
   "execution_count": 121,
   "metadata": {},
   "outputs": [
    {
     "data": {
      "text/html": [
       "<div>\n",
       "<style scoped>\n",
       "    .dataframe tbody tr th:only-of-type {\n",
       "        vertical-align: middle;\n",
       "    }\n",
       "\n",
       "    .dataframe tbody tr th {\n",
       "        vertical-align: top;\n",
       "    }\n",
       "\n",
       "    .dataframe thead th {\n",
       "        text-align: right;\n",
       "    }\n",
       "</style>\n",
       "<table border=\"1\" class=\"dataframe\">\n",
       "  <thead>\n",
       "    <tr style=\"text-align: right;\">\n",
       "      <th></th>\n",
       "      <th>age</th>\n",
       "      <th>resonance_1.0_25</th>\n",
       "      <th>reviewed1850_1950</th>\n",
       "      <th>isusa</th>\n",
       "      <th>likelygender</th>\n",
       "      <th>latestcomp</th>\n",
       "    </tr>\n",
       "    <tr>\n",
       "      <th>docid</th>\n",
       "      <th></th>\n",
       "      <th></th>\n",
       "      <th></th>\n",
       "      <th></th>\n",
       "      <th></th>\n",
       "      <th></th>\n",
       "    </tr>\n",
       "  </thead>\n",
       "  <tbody>\n",
       "    <tr>\n",
       "      <th>uc2.ark+=13960=t9m32tr6b</th>\n",
       "      <td>NaN</td>\n",
       "      <td>0.063422</td>\n",
       "      <td>0</td>\n",
       "      <td>0</td>\n",
       "      <td>m</td>\n",
       "      <td>1890</td>\n",
       "    </tr>\n",
       "    <tr>\n",
       "      <th>uc1.$b312400</th>\n",
       "      <td>NaN</td>\n",
       "      <td>0.252878</td>\n",
       "      <td>1</td>\n",
       "      <td>0</td>\n",
       "      <td>f</td>\n",
       "      <td>1930</td>\n",
       "    </tr>\n",
       "    <tr>\n",
       "      <th>njp.32101068971058</th>\n",
       "      <td>36.0</td>\n",
       "      <td>0.133490</td>\n",
       "      <td>0</td>\n",
       "      <td>0</td>\n",
       "      <td>f</td>\n",
       "      <td>1860</td>\n",
       "    </tr>\n",
       "    <tr>\n",
       "      <th>umn.31951002457287u</th>\n",
       "      <td>57.0</td>\n",
       "      <td>0.034402</td>\n",
       "      <td>1</td>\n",
       "      <td>1</td>\n",
       "      <td>m</td>\n",
       "      <td>1893</td>\n",
       "    </tr>\n",
       "    <tr>\n",
       "      <th>mdp.39015028550013</th>\n",
       "      <td>45.0</td>\n",
       "      <td>-0.162356</td>\n",
       "      <td>0</td>\n",
       "      <td>0</td>\n",
       "      <td>m</td>\n",
       "      <td>1926</td>\n",
       "    </tr>\n",
       "  </tbody>\n",
       "</table>\n",
       "</div>"
      ],
      "text/plain": [
       "                           age  resonance_1.0_25  reviewed1850_1950  isusa  \\\n",
       "docid                                                                        \n",
       "uc2.ark+=13960=t9m32tr6b   NaN          0.063422                  0      0   \n",
       "uc1.$b312400               NaN          0.252878                  1      0   \n",
       "njp.32101068971058        36.0          0.133490                  0      0   \n",
       "umn.31951002457287u       57.0          0.034402                  1      1   \n",
       "mdp.39015028550013        45.0         -0.162356                  0      0   \n",
       "\n",
       "                         likelygender  latestcomp  \n",
       "docid                                              \n",
       "uc2.ark+=13960=t9m32tr6b            m        1890  \n",
       "uc1.$b312400                        f        1930  \n",
       "njp.32101068971058                  f        1860  \n",
       "umn.31951002457287u                 m        1893  \n",
       "mdp.39015028550013                  m        1926  "
      ]
     },
     "execution_count": 121,
     "metadata": {},
     "output_type": "execute_result"
    }
   ],
   "source": [
    "# then we select just the rows that belong to the the hypothesis and contrast set\n",
    "\n",
    "test_df = meta.loc[(meta.reviewed1850_1950 == 1) | (meta.reviewed1850_1950contrast == 1),\n",
    "                   ['age', 'resonance_1.0_25', 'reviewed1850_1950', 'isusa', 'likelygender', 'latestcomp']]\n",
    "test_df.head()"
   ]
  },
  {
   "cell_type": "markdown",
   "metadata": {},
   "source": [
    "In order to use gender in our regression, we'll need to convert it to a number."
   ]
  },
  {
   "cell_type": "code",
   "execution_count": 122,
   "metadata": {},
   "outputs": [],
   "source": [
    "def womentoones(alphabeticgender):\n",
    "    if pd.isnull(alphabeticgender):\n",
    "        return 0.5\n",
    "    elif alphabeticgender == 'f':\n",
    "        return 1\n",
    "    else:\n",
    "        return 0\n",
    "        \n",
    "test_df = test_df.assign(gender = test_df.likelygender.map(womentoones))"
   ]
  },
  {
   "cell_type": "code",
   "execution_count": 123,
   "metadata": {},
   "outputs": [
    {
     "name": "stdout",
     "output_type": "stream",
     "text": [
      "(1144, 7)\n",
      "Reviewed missing age:  182\n",
      "Unreviewed missing age:  268\n"
     ]
    }
   ],
   "source": [
    "print(test_df.shape)\n",
    "print(\"Reviewed missing age: \", sum(pd.isnull(test_df.age[test_df.reviewed1850_1950 == 1])))\n",
    "print(\"Unreviewed missing age: \", sum(pd.isnull(test_df.age[test_df.reviewed1850_1950 == 0])))"
   ]
  },
  {
   "cell_type": "markdown",
   "metadata": {},
   "source": [
    "Almost half the rows in the DataFrame have no age listed. Stata may handle missing data well, but I'm not confident that Python statsmodels does, so I'm going to kludge and fill those rows with the mean age."
   ]
  },
  {
   "cell_type": "code",
   "execution_count": 124,
   "metadata": {},
   "outputs": [
    {
     "name": "stdout",
     "output_type": "stream",
     "text": [
      "42.4985590778\n"
     ]
    },
    {
     "data": {
      "text/html": [
       "<div>\n",
       "<style scoped>\n",
       "    .dataframe tbody tr th:only-of-type {\n",
       "        vertical-align: middle;\n",
       "    }\n",
       "\n",
       "    .dataframe tbody tr th {\n",
       "        vertical-align: top;\n",
       "    }\n",
       "\n",
       "    .dataframe thead th {\n",
       "        text-align: right;\n",
       "    }\n",
       "</style>\n",
       "<table border=\"1\" class=\"dataframe\">\n",
       "  <thead>\n",
       "    <tr style=\"text-align: right;\">\n",
       "      <th></th>\n",
       "      <th>age</th>\n",
       "      <th>resonance_1.0_25</th>\n",
       "      <th>reviewed1850_1950</th>\n",
       "      <th>isusa</th>\n",
       "      <th>likelygender</th>\n",
       "      <th>latestcomp</th>\n",
       "      <th>gender</th>\n",
       "    </tr>\n",
       "    <tr>\n",
       "      <th>docid</th>\n",
       "      <th></th>\n",
       "      <th></th>\n",
       "      <th></th>\n",
       "      <th></th>\n",
       "      <th></th>\n",
       "      <th></th>\n",
       "      <th></th>\n",
       "    </tr>\n",
       "  </thead>\n",
       "  <tbody>\n",
       "    <tr>\n",
       "      <th>uc2.ark+=13960=t9m32tr6b</th>\n",
       "      <td>42.498559</td>\n",
       "      <td>0.063422</td>\n",
       "      <td>0</td>\n",
       "      <td>0</td>\n",
       "      <td>m</td>\n",
       "      <td>1890</td>\n",
       "      <td>0.0</td>\n",
       "    </tr>\n",
       "    <tr>\n",
       "      <th>uc1.$b312400</th>\n",
       "      <td>42.498559</td>\n",
       "      <td>0.252878</td>\n",
       "      <td>1</td>\n",
       "      <td>0</td>\n",
       "      <td>f</td>\n",
       "      <td>1930</td>\n",
       "      <td>1.0</td>\n",
       "    </tr>\n",
       "    <tr>\n",
       "      <th>njp.32101068971058</th>\n",
       "      <td>36.000000</td>\n",
       "      <td>0.133490</td>\n",
       "      <td>0</td>\n",
       "      <td>0</td>\n",
       "      <td>f</td>\n",
       "      <td>1860</td>\n",
       "      <td>1.0</td>\n",
       "    </tr>\n",
       "    <tr>\n",
       "      <th>umn.31951002457287u</th>\n",
       "      <td>57.000000</td>\n",
       "      <td>0.034402</td>\n",
       "      <td>1</td>\n",
       "      <td>1</td>\n",
       "      <td>m</td>\n",
       "      <td>1893</td>\n",
       "      <td>0.0</td>\n",
       "    </tr>\n",
       "    <tr>\n",
       "      <th>mdp.39015028550013</th>\n",
       "      <td>45.000000</td>\n",
       "      <td>-0.162356</td>\n",
       "      <td>0</td>\n",
       "      <td>0</td>\n",
       "      <td>m</td>\n",
       "      <td>1926</td>\n",
       "      <td>0.0</td>\n",
       "    </tr>\n",
       "  </tbody>\n",
       "</table>\n",
       "</div>"
      ],
      "text/plain": [
       "                                age  resonance_1.0_25  reviewed1850_1950  \\\n",
       "docid                                                                      \n",
       "uc2.ark+=13960=t9m32tr6b  42.498559          0.063422                  0   \n",
       "uc1.$b312400              42.498559          0.252878                  1   \n",
       "njp.32101068971058        36.000000          0.133490                  0   \n",
       "umn.31951002457287u       57.000000          0.034402                  1   \n",
       "mdp.39015028550013        45.000000         -0.162356                  0   \n",
       "\n",
       "                          isusa likelygender  latestcomp  gender  \n",
       "docid                                                             \n",
       "uc2.ark+=13960=t9m32tr6b      0            m        1890     0.0  \n",
       "uc1.$b312400                  0            f        1930     1.0  \n",
       "njp.32101068971058            0            f        1860     1.0  \n",
       "umn.31951002457287u           1            m        1893     0.0  \n",
       "mdp.39015028550013            0            m        1926     0.0  "
      ]
     },
     "execution_count": 124,
     "metadata": {},
     "output_type": "execute_result"
    }
   ],
   "source": [
    "df = test_df.copy(deep = True)\n",
    "meanage = np.nanmean(df.age)\n",
    "print(meanage)\n",
    "for idx in df.index:\n",
    "    if pd.isnull(df.loc[idx, 'age']):\n",
    "        df.loc[idx, 'age'] = meanage\n",
    "df.head()"
   ]
  },
  {
   "cell_type": "markdown",
   "metadata": {},
   "source": [
    "#### Create a special variable to compensate for the n-shaped warping of topic models."
   ]
  },
  {
   "cell_type": "code",
   "execution_count": 127,
   "metadata": {},
   "outputs": [
    {
     "data": {
      "text/html": [
       "<div>\n",
       "<style scoped>\n",
       "    .dataframe tbody tr th:only-of-type {\n",
       "        vertical-align: middle;\n",
       "    }\n",
       "\n",
       "    .dataframe tbody tr th {\n",
       "        vertical-align: top;\n",
       "    }\n",
       "\n",
       "    .dataframe thead th {\n",
       "        text-align: right;\n",
       "    }\n",
       "</style>\n",
       "<table border=\"1\" class=\"dataframe\">\n",
       "  <thead>\n",
       "    <tr style=\"text-align: right;\">\n",
       "      <th></th>\n",
       "      <th>age</th>\n",
       "      <th>resonance_1.0_25</th>\n",
       "      <th>reviewed1850_1950</th>\n",
       "      <th>isusa</th>\n",
       "      <th>likelygender</th>\n",
       "      <th>latestcomp</th>\n",
       "      <th>gender</th>\n",
       "      <th>npeak</th>\n",
       "    </tr>\n",
       "    <tr>\n",
       "      <th>docid</th>\n",
       "      <th></th>\n",
       "      <th></th>\n",
       "      <th></th>\n",
       "      <th></th>\n",
       "      <th></th>\n",
       "      <th></th>\n",
       "      <th></th>\n",
       "      <th></th>\n",
       "    </tr>\n",
       "  </thead>\n",
       "  <tbody>\n",
       "    <tr>\n",
       "      <th>uc2.ark+=13960=t9m32tr6b</th>\n",
       "      <td>42.498559</td>\n",
       "      <td>0.063422</td>\n",
       "      <td>0</td>\n",
       "      <td>0</td>\n",
       "      <td>m</td>\n",
       "      <td>1890</td>\n",
       "      <td>0.0</td>\n",
       "      <td>6.232517</td>\n",
       "    </tr>\n",
       "    <tr>\n",
       "      <th>uc1.$b312400</th>\n",
       "      <td>42.498559</td>\n",
       "      <td>0.252878</td>\n",
       "      <td>1</td>\n",
       "      <td>0</td>\n",
       "      <td>f</td>\n",
       "      <td>1930</td>\n",
       "      <td>1.0</td>\n",
       "      <td>33.767483</td>\n",
       "    </tr>\n",
       "    <tr>\n",
       "      <th>njp.32101068971058</th>\n",
       "      <td>36.000000</td>\n",
       "      <td>0.133490</td>\n",
       "      <td>0</td>\n",
       "      <td>0</td>\n",
       "      <td>f</td>\n",
       "      <td>1860</td>\n",
       "      <td>1.0</td>\n",
       "      <td>36.232517</td>\n",
       "    </tr>\n",
       "    <tr>\n",
       "      <th>umn.31951002457287u</th>\n",
       "      <td>57.000000</td>\n",
       "      <td>0.034402</td>\n",
       "      <td>1</td>\n",
       "      <td>1</td>\n",
       "      <td>m</td>\n",
       "      <td>1893</td>\n",
       "      <td>0.0</td>\n",
       "      <td>3.232517</td>\n",
       "    </tr>\n",
       "    <tr>\n",
       "      <th>mdp.39015028550013</th>\n",
       "      <td>45.000000</td>\n",
       "      <td>-0.162356</td>\n",
       "      <td>0</td>\n",
       "      <td>0</td>\n",
       "      <td>m</td>\n",
       "      <td>1926</td>\n",
       "      <td>0.0</td>\n",
       "      <td>29.767483</td>\n",
       "    </tr>\n",
       "  </tbody>\n",
       "</table>\n",
       "</div>"
      ],
      "text/plain": [
       "                                age  resonance_1.0_25  reviewed1850_1950  \\\n",
       "docid                                                                      \n",
       "uc2.ark+=13960=t9m32tr6b  42.498559          0.063422                  0   \n",
       "uc1.$b312400              42.498559          0.252878                  1   \n",
       "njp.32101068971058        36.000000          0.133490                  0   \n",
       "umn.31951002457287u       57.000000          0.034402                  1   \n",
       "mdp.39015028550013        45.000000         -0.162356                  0   \n",
       "\n",
       "                          isusa likelygender  latestcomp  gender      npeak  \n",
       "docid                                                                        \n",
       "uc2.ark+=13960=t9m32tr6b      0            m        1890     0.0   6.232517  \n",
       "uc1.$b312400                  0            f        1930     1.0  33.767483  \n",
       "njp.32101068971058            0            f        1860     1.0  36.232517  \n",
       "umn.31951002457287u           1            m        1893     0.0   3.232517  \n",
       "mdp.39015028550013            0            m        1926     0.0  29.767483  "
      ]
     },
     "execution_count": 127,
     "metadata": {},
     "output_type": "execute_result"
    }
   ],
   "source": [
    "df = df.assign(npeak = np.absolute(df.latestcomp - np.mean(df.latestcomp)))\n",
    "df.head()"
   ]
  },
  {
   "cell_type": "code",
   "execution_count": 128,
   "metadata": {},
   "outputs": [
    {
     "name": "stdout",
     "output_type": "stream",
     "text": [
      "                            OLS Regression Results                            \n",
      "==============================================================================\n",
      "Dep. Variable:       resonance_1.0_25   R-squared:                       0.279\n",
      "Model:                            OLS   Adj. R-squared:                  0.275\n",
      "Method:                 Least Squares   F-statistic:                     73.27\n",
      "Date:                Sat, 11 Aug 2018   Prob (F-statistic):           2.44e-77\n",
      "Time:                        09:51:47   Log-Likelihood:                 361.48\n",
      "No. Observations:                1144   AIC:                            -711.0\n",
      "Df Residuals:                    1138   BIC:                            -680.7\n",
      "Df Model:                           6                                         \n",
      "Covariance Type:            nonrobust                                         \n",
      "=====================================================================================\n",
      "                        coef    std err          t      P>|t|      [0.025      0.975]\n",
      "-------------------------------------------------------------------------------------\n",
      "age                  -0.0063      0.001     -9.995      0.000      -0.008      -0.005\n",
      "reviewed1850_1950     0.0801      0.011      7.560      0.000       0.059       0.101\n",
      "isusa                 0.0794      0.011      7.468      0.000       0.059       0.100\n",
      "gender                0.0033      0.011      0.309      0.757      -0.018       0.025\n",
      "latestcomp         7.683e-05   1.64e-05      4.692      0.000    4.47e-05       0.000\n",
      "npeak                 0.0042      0.000     11.193      0.000       0.003       0.005\n",
      "==============================================================================\n",
      "Omnibus:                       18.918   Durbin-Watson:                   1.936\n",
      "Prob(Omnibus):                  0.000   Jarque-Bera (JB):               20.594\n",
      "Skew:                          -0.267   Prob(JB):                     3.37e-05\n",
      "Kurtosis:                       3.382   Cond. No.                     4.07e+03\n",
      "==============================================================================\n",
      "\n",
      "Warnings:\n",
      "[1] Standard Errors assume that the covariance matrix of the errors is correctly specified.\n",
      "[2] The condition number is large, 4.07e+03. This might indicate that there are\n",
      "strong multicollinearity or other numerical problems.\n"
     ]
    }
   ],
   "source": [
    "y = df.loc[ : , 'resonance_1.0_25']\n",
    "X = df.loc[: , ['age', 'reviewed1850_1950', 'isusa', 'gender', 'latestcomp', 'npeak']]\n",
    "model = sm.OLS(y, X)\n",
    "results = model.fit()\n",
    "print(results.summary())"
   ]
  },
  {
   "cell_type": "markdown",
   "metadata": {},
   "source": [
    "#### The upshot:\n",
    "\n",
    "Our hypothesis condition (being reviewed) has a strong effect. Age, nationality, and date of composition also have strongly significant coefficients. Gender does not.\n",
    "\n",
    "*Notice that npeak is the most powerful of all these factors.*"
   ]
  },
  {
   "cell_type": "markdown",
   "metadata": {},
   "source": [
    "### One more regression, to evaluate the power of canonicity\n",
    "\n",
    "Let's try folding together the US Norton and non-US Norton sets (and their respective contrast sets) to get a general evaluation of the power of canonicity. We'll include ```age, isusa,``` and latest-possible-date-of-composition (```latestcomp```) as control variables."
   ]
  },
  {
   "cell_type": "code",
   "execution_count": 129,
   "metadata": {},
   "outputs": [
    {
     "data": {
      "text/html": [
       "<div>\n",
       "<style scoped>\n",
       "    .dataframe tbody tr th:only-of-type {\n",
       "        vertical-align: middle;\n",
       "    }\n",
       "\n",
       "    .dataframe tbody tr th {\n",
       "        vertical-align: top;\n",
       "    }\n",
       "\n",
       "    .dataframe thead th {\n",
       "        text-align: right;\n",
       "    }\n",
       "</style>\n",
       "<table border=\"1\" class=\"dataframe\">\n",
       "  <thead>\n",
       "    <tr style=\"text-align: right;\">\n",
       "      <th></th>\n",
       "      <th>age</th>\n",
       "      <th>resonance_1.0_25</th>\n",
       "      <th>usnorton</th>\n",
       "      <th>nonusnorton</th>\n",
       "      <th>isusa</th>\n",
       "      <th>latestcomp</th>\n",
       "    </tr>\n",
       "    <tr>\n",
       "      <th>docid</th>\n",
       "      <th></th>\n",
       "      <th></th>\n",
       "      <th></th>\n",
       "      <th></th>\n",
       "      <th></th>\n",
       "      <th></th>\n",
       "    </tr>\n",
       "  </thead>\n",
       "  <tbody>\n",
       "    <tr>\n",
       "      <th>uc1.32106010927223</th>\n",
       "      <td>NaN</td>\n",
       "      <td>NaN</td>\n",
       "      <td>1</td>\n",
       "      <td>0</td>\n",
       "      <td>1</td>\n",
       "      <td>1989</td>\n",
       "    </tr>\n",
       "    <tr>\n",
       "      <th>nyp.33433074943634</th>\n",
       "      <td>38.0</td>\n",
       "      <td>NaN</td>\n",
       "      <td>0</td>\n",
       "      <td>1</td>\n",
       "      <td>0</td>\n",
       "      <td>1813</td>\n",
       "    </tr>\n",
       "    <tr>\n",
       "      <th>njp.32101068171212</th>\n",
       "      <td>59.0</td>\n",
       "      <td>0.001034</td>\n",
       "      <td>0</td>\n",
       "      <td>0</td>\n",
       "      <td>0</td>\n",
       "      <td>1851</td>\n",
       "    </tr>\n",
       "    <tr>\n",
       "      <th>miun.abr7583,0001,001</th>\n",
       "      <td>NaN</td>\n",
       "      <td>0.152065</td>\n",
       "      <td>1</td>\n",
       "      <td>0</td>\n",
       "      <td>1</td>\n",
       "      <td>1924</td>\n",
       "    </tr>\n",
       "    <tr>\n",
       "      <th>uc2.ark+=13960=t16m33f86</th>\n",
       "      <td>41.0</td>\n",
       "      <td>0.148111</td>\n",
       "      <td>0</td>\n",
       "      <td>0</td>\n",
       "      <td>0</td>\n",
       "      <td>1874</td>\n",
       "    </tr>\n",
       "  </tbody>\n",
       "</table>\n",
       "</div>"
      ],
      "text/plain": [
       "                           age  resonance_1.0_25  usnorton  nonusnorton  \\\n",
       "docid                                                                     \n",
       "uc1.32106010927223         NaN               NaN         1            0   \n",
       "nyp.33433074943634        38.0               NaN         0            1   \n",
       "njp.32101068171212        59.0          0.001034         0            0   \n",
       "miun.abr7583,0001,001      NaN          0.152065         1            0   \n",
       "uc2.ark+=13960=t16m33f86  41.0          0.148111         0            0   \n",
       "\n",
       "                          isusa  latestcomp  \n",
       "docid                                        \n",
       "uc1.32106010927223            1        1989  \n",
       "nyp.33433074943634            0        1813  \n",
       "njp.32101068171212            0        1851  \n",
       "miun.abr7583,0001,001         1        1924  \n",
       "uc2.ark+=13960=t16m33f86      0        1874  "
      ]
     },
     "execution_count": 129,
     "metadata": {},
     "output_type": "execute_result"
    }
   ],
   "source": [
    "test_df = meta.loc[(meta.usnorton == 1) | \n",
    "                   (meta.usnortoncontrast == 1) |\n",
    "                   (meta.nonusnorton == 1) |\n",
    "                   (meta.nonusnortoncontrast == 1), \n",
    "                   ['age', 'resonance_1.0_25', 'usnorton', 'nonusnorton', 'isusa', 'latestcomp']]\n",
    "test_df.head()"
   ]
  },
  {
   "cell_type": "markdown",
   "metadata": {},
   "source": [
    "#### general canonicity\n",
    "\n",
    "Create a column that reflects whether the volume is from a Norton (US *or* not)."
   ]
  },
  {
   "cell_type": "code",
   "execution_count": 130,
   "metadata": {},
   "outputs": [],
   "source": [
    "def whether_norton(row):\n",
    "    if row.usnorton == 1 or row.nonusnorton == 1:\n",
    "        return 1\n",
    "    else:\n",
    "        return 0\n",
    "\n",
    "test_df = test_df.assign(norton = test_df.apply(whether_norton, axis = 1))"
   ]
  },
  {
   "cell_type": "code",
   "execution_count": 131,
   "metadata": {},
   "outputs": [
    {
     "name": "stdout",
     "output_type": "stream",
     "text": [
      "44.9130434783\n"
     ]
    },
    {
     "data": {
      "text/html": [
       "<div>\n",
       "<style scoped>\n",
       "    .dataframe tbody tr th:only-of-type {\n",
       "        vertical-align: middle;\n",
       "    }\n",
       "\n",
       "    .dataframe tbody tr th {\n",
       "        vertical-align: top;\n",
       "    }\n",
       "\n",
       "    .dataframe thead th {\n",
       "        text-align: right;\n",
       "    }\n",
       "</style>\n",
       "<table border=\"1\" class=\"dataframe\">\n",
       "  <thead>\n",
       "    <tr style=\"text-align: right;\">\n",
       "      <th></th>\n",
       "      <th>age</th>\n",
       "      <th>resonance_1.0_25</th>\n",
       "      <th>usnorton</th>\n",
       "      <th>nonusnorton</th>\n",
       "      <th>isusa</th>\n",
       "      <th>latestcomp</th>\n",
       "      <th>norton</th>\n",
       "    </tr>\n",
       "    <tr>\n",
       "      <th>docid</th>\n",
       "      <th></th>\n",
       "      <th></th>\n",
       "      <th></th>\n",
       "      <th></th>\n",
       "      <th></th>\n",
       "      <th></th>\n",
       "      <th></th>\n",
       "    </tr>\n",
       "  </thead>\n",
       "  <tbody>\n",
       "    <tr>\n",
       "      <th>uc1.32106010927223</th>\n",
       "      <td>44.913043</td>\n",
       "      <td>NaN</td>\n",
       "      <td>1</td>\n",
       "      <td>0</td>\n",
       "      <td>1</td>\n",
       "      <td>1989</td>\n",
       "      <td>1</td>\n",
       "    </tr>\n",
       "    <tr>\n",
       "      <th>nyp.33433074943634</th>\n",
       "      <td>38.000000</td>\n",
       "      <td>NaN</td>\n",
       "      <td>0</td>\n",
       "      <td>1</td>\n",
       "      <td>0</td>\n",
       "      <td>1813</td>\n",
       "      <td>1</td>\n",
       "    </tr>\n",
       "    <tr>\n",
       "      <th>njp.32101068171212</th>\n",
       "      <td>59.000000</td>\n",
       "      <td>0.001034</td>\n",
       "      <td>0</td>\n",
       "      <td>0</td>\n",
       "      <td>0</td>\n",
       "      <td>1851</td>\n",
       "      <td>0</td>\n",
       "    </tr>\n",
       "    <tr>\n",
       "      <th>miun.abr7583,0001,001</th>\n",
       "      <td>44.913043</td>\n",
       "      <td>0.152065</td>\n",
       "      <td>1</td>\n",
       "      <td>0</td>\n",
       "      <td>1</td>\n",
       "      <td>1924</td>\n",
       "      <td>1</td>\n",
       "    </tr>\n",
       "    <tr>\n",
       "      <th>uc2.ark+=13960=t16m33f86</th>\n",
       "      <td>41.000000</td>\n",
       "      <td>0.148111</td>\n",
       "      <td>0</td>\n",
       "      <td>0</td>\n",
       "      <td>0</td>\n",
       "      <td>1874</td>\n",
       "      <td>0</td>\n",
       "    </tr>\n",
       "  </tbody>\n",
       "</table>\n",
       "</div>"
      ],
      "text/plain": [
       "                                age  resonance_1.0_25  usnorton  nonusnorton  \\\n",
       "docid                                                                          \n",
       "uc1.32106010927223        44.913043               NaN         1            0   \n",
       "nyp.33433074943634        38.000000               NaN         0            1   \n",
       "njp.32101068171212        59.000000          0.001034         0            0   \n",
       "miun.abr7583,0001,001     44.913043          0.152065         1            0   \n",
       "uc2.ark+=13960=t16m33f86  41.000000          0.148111         0            0   \n",
       "\n",
       "                          isusa  latestcomp  norton  \n",
       "docid                                                \n",
       "uc1.32106010927223            1        1989       1  \n",
       "nyp.33433074943634            0        1813       1  \n",
       "njp.32101068171212            0        1851       0  \n",
       "miun.abr7583,0001,001         1        1924       1  \n",
       "uc2.ark+=13960=t16m33f86      0        1874       0  "
      ]
     },
     "execution_count": 131,
     "metadata": {},
     "output_type": "execute_result"
    }
   ],
   "source": [
    "df = test_df.copy(deep = True)\n",
    "meanage = np.nanmean(df.age)\n",
    "print(meanage)\n",
    "for idx in df.index:\n",
    "    if pd.isnull(df.loc[idx, 'age']):\n",
    "        df.loc[idx, 'age'] = meanage\n",
    "df.head()"
   ]
  },
  {
   "cell_type": "markdown",
   "metadata": {},
   "source": [
    "Let's drop rows that are too near the edge of the timeline for the 25-year resonance to be calculated."
   ]
  },
  {
   "cell_type": "code",
   "execution_count": 132,
   "metadata": {},
   "outputs": [
    {
     "name": "stdout",
     "output_type": "stream",
     "text": [
      "(225, 7)\n",
      "(203, 7)\n"
     ]
    }
   ],
   "source": [
    "# still need to dropna\n",
    "print(df.shape)\n",
    "df.dropna(inplace = True)\n",
    "print(df.shape)"
   ]
  },
  {
   "cell_type": "markdown",
   "metadata": {},
   "source": [
    "#### Create a variable to compensate for n-shaped warping"
   ]
  },
  {
   "cell_type": "code",
   "execution_count": 133,
   "metadata": {},
   "outputs": [
    {
     "data": {
      "text/html": [
       "<div>\n",
       "<style scoped>\n",
       "    .dataframe tbody tr th:only-of-type {\n",
       "        vertical-align: middle;\n",
       "    }\n",
       "\n",
       "    .dataframe tbody tr th {\n",
       "        vertical-align: top;\n",
       "    }\n",
       "\n",
       "    .dataframe thead th {\n",
       "        text-align: right;\n",
       "    }\n",
       "</style>\n",
       "<table border=\"1\" class=\"dataframe\">\n",
       "  <thead>\n",
       "    <tr style=\"text-align: right;\">\n",
       "      <th></th>\n",
       "      <th>age</th>\n",
       "      <th>resonance_1.0_25</th>\n",
       "      <th>usnorton</th>\n",
       "      <th>nonusnorton</th>\n",
       "      <th>isusa</th>\n",
       "      <th>latestcomp</th>\n",
       "      <th>norton</th>\n",
       "      <th>npeak</th>\n",
       "    </tr>\n",
       "    <tr>\n",
       "      <th>docid</th>\n",
       "      <th></th>\n",
       "      <th></th>\n",
       "      <th></th>\n",
       "      <th></th>\n",
       "      <th></th>\n",
       "      <th></th>\n",
       "      <th></th>\n",
       "      <th></th>\n",
       "    </tr>\n",
       "  </thead>\n",
       "  <tbody>\n",
       "    <tr>\n",
       "      <th>njp.32101068171212</th>\n",
       "      <td>59.000000</td>\n",
       "      <td>0.001034</td>\n",
       "      <td>0</td>\n",
       "      <td>0</td>\n",
       "      <td>0</td>\n",
       "      <td>1851</td>\n",
       "      <td>0</td>\n",
       "      <td>51.172414</td>\n",
       "    </tr>\n",
       "    <tr>\n",
       "      <th>miun.abr7583,0001,001</th>\n",
       "      <td>44.913043</td>\n",
       "      <td>0.152065</td>\n",
       "      <td>1</td>\n",
       "      <td>0</td>\n",
       "      <td>1</td>\n",
       "      <td>1924</td>\n",
       "      <td>1</td>\n",
       "      <td>21.827586</td>\n",
       "    </tr>\n",
       "    <tr>\n",
       "      <th>uc2.ark+=13960=t16m33f86</th>\n",
       "      <td>41.000000</td>\n",
       "      <td>0.148111</td>\n",
       "      <td>0</td>\n",
       "      <td>0</td>\n",
       "      <td>0</td>\n",
       "      <td>1874</td>\n",
       "      <td>0</td>\n",
       "      <td>28.172414</td>\n",
       "    </tr>\n",
       "    <tr>\n",
       "      <th>nyp.33433074954169</th>\n",
       "      <td>27.000000</td>\n",
       "      <td>0.323087</td>\n",
       "      <td>0</td>\n",
       "      <td>1</td>\n",
       "      <td>0</td>\n",
       "      <td>1839</td>\n",
       "      <td>1</td>\n",
       "      <td>63.172414</td>\n",
       "    </tr>\n",
       "    <tr>\n",
       "      <th>uiuo.ark+=13960=t3nv9vv41</th>\n",
       "      <td>44.000000</td>\n",
       "      <td>0.096754</td>\n",
       "      <td>0</td>\n",
       "      <td>0</td>\n",
       "      <td>0</td>\n",
       "      <td>1849</td>\n",
       "      <td>0</td>\n",
       "      <td>53.172414</td>\n",
       "    </tr>\n",
       "  </tbody>\n",
       "</table>\n",
       "</div>"
      ],
      "text/plain": [
       "                                 age  resonance_1.0_25  usnorton  nonusnorton  \\\n",
       "docid                                                                           \n",
       "njp.32101068171212         59.000000          0.001034         0            0   \n",
       "miun.abr7583,0001,001      44.913043          0.152065         1            0   \n",
       "uc2.ark+=13960=t16m33f86   41.000000          0.148111         0            0   \n",
       "nyp.33433074954169         27.000000          0.323087         0            1   \n",
       "uiuo.ark+=13960=t3nv9vv41  44.000000          0.096754         0            0   \n",
       "\n",
       "                           isusa  latestcomp  norton      npeak  \n",
       "docid                                                            \n",
       "njp.32101068171212             0        1851       0  51.172414  \n",
       "miun.abr7583,0001,001          1        1924       1  21.827586  \n",
       "uc2.ark+=13960=t16m33f86       0        1874       0  28.172414  \n",
       "nyp.33433074954169             0        1839       1  63.172414  \n",
       "uiuo.ark+=13960=t3nv9vv41      0        1849       0  53.172414  "
      ]
     },
     "execution_count": 133,
     "metadata": {},
     "output_type": "execute_result"
    }
   ],
   "source": [
    "df = df.assign(npeak = np.absolute(df.latestcomp - np.mean(df.latestcomp)))\n",
    "df.head()"
   ]
  },
  {
   "cell_type": "markdown",
   "metadata": {},
   "source": [
    "Now we'll try a regression that evaluates the general power of *Nortonicity.*"
   ]
  },
  {
   "cell_type": "code",
   "execution_count": 134,
   "metadata": {},
   "outputs": [
    {
     "name": "stdout",
     "output_type": "stream",
     "text": [
      "                            OLS Regression Results                            \n",
      "==============================================================================\n",
      "Dep. Variable:       resonance_1.0_25   R-squared:                       0.334\n",
      "Model:                            OLS   Adj. R-squared:                  0.317\n",
      "Method:                 Least Squares   F-statistic:                     19.82\n",
      "Date:                Sat, 11 Aug 2018   Prob (F-statistic):           5.35e-16\n",
      "Time:                        09:53:28   Log-Likelihood:                 65.282\n",
      "No. Observations:                 203   AIC:                            -120.6\n",
      "Df Residuals:                     198   BIC:                            -104.0\n",
      "Df Model:                           5                                         \n",
      "Covariance Type:            nonrobust                                         \n",
      "==============================================================================\n",
      "                 coef    std err          t      P>|t|      [0.025      0.975]\n",
      "------------------------------------------------------------------------------\n",
      "age           -0.0065      0.001     -6.102      0.000      -0.009      -0.004\n",
      "norton         0.0738      0.025      2.931      0.004       0.024       0.123\n",
      "isusa          0.0457      0.025      1.819      0.070      -0.004       0.095\n",
      "latestcomp     0.0001   2.93e-05      4.269      0.000    6.72e-05       0.000\n",
      "npeak          0.0022      0.001      3.823      0.000       0.001       0.003\n",
      "==============================================================================\n",
      "Omnibus:                       37.593   Durbin-Watson:                   1.827\n",
      "Prob(Omnibus):                  0.000   Jarque-Bera (JB):               86.202\n",
      "Skew:                          -0.838   Prob(JB):                     1.91e-19\n",
      "Kurtosis:                       5.717   Cond. No.                     3.89e+03\n",
      "==============================================================================\n",
      "\n",
      "Warnings:\n",
      "[1] Standard Errors assume that the covariance matrix of the errors is correctly specified.\n",
      "[2] The condition number is large, 3.89e+03. This might indicate that there are\n",
      "strong multicollinearity or other numerical problems.\n"
     ]
    }
   ],
   "source": [
    "y = df.loc[ : , 'resonance_1.0_25']\n",
    "X = df.loc[: , ['age', 'norton', 'isusa', 'latestcomp', 'npeak']]\n",
    "model = sm.OLS(y, X)\n",
    "results = model.fit()\n",
    "print(results.summary())"
   ]
  },
  {
   "cell_type": "markdown",
   "metadata": {},
   "source": [
    "#### When the two sets are folded together, Nortonicity is significant, but\n",
    "\n",
    "when they're broken apart, only nonusnorton is significant."
   ]
  },
  {
   "cell_type": "code",
   "execution_count": 135,
   "metadata": {},
   "outputs": [
    {
     "name": "stdout",
     "output_type": "stream",
     "text": [
      "                            OLS Regression Results                            \n",
      "==============================================================================\n",
      "Dep. Variable:       resonance_1.0_25   R-squared:                       0.338\n",
      "Model:                            OLS   Adj. R-squared:                  0.318\n",
      "Method:                 Least Squares   F-statistic:                     16.77\n",
      "Date:                Sat, 11 Aug 2018   Prob (F-statistic):           1.32e-15\n",
      "Time:                        09:53:50   Log-Likelihood:                 65.981\n",
      "No. Observations:                 203   AIC:                            -120.0\n",
      "Df Residuals:                     197   BIC:                            -100.1\n",
      "Df Model:                           6                                         \n",
      "Covariance Type:            nonrobust                                         \n",
      "===============================================================================\n",
      "                  coef    std err          t      P>|t|      [0.025      0.975]\n",
      "-------------------------------------------------------------------------------\n",
      "age            -0.0064      0.001     -6.010      0.000      -0.009      -0.004\n",
      "usnorton        0.0496      0.033      1.520      0.130      -0.015       0.114\n",
      "nonusnorton     0.1012      0.034      2.941      0.004       0.033       0.169\n",
      "isusa           0.0677      0.031      2.156      0.032       0.006       0.130\n",
      "latestcomp      0.0001   2.99e-05      3.924      0.000    5.85e-05       0.000\n",
      "npeak           0.0022      0.001      3.807      0.000       0.001       0.003\n",
      "==============================================================================\n",
      "Omnibus:                       41.425   Durbin-Watson:                   1.832\n",
      "Prob(Omnibus):                  0.000   Jarque-Bera (JB):              101.464\n",
      "Skew:                          -0.897   Prob(JB):                     9.27e-23\n",
      "Kurtosis:                       5.963   Cond. No.                     6.10e+03\n",
      "==============================================================================\n",
      "\n",
      "Warnings:\n",
      "[1] Standard Errors assume that the covariance matrix of the errors is correctly specified.\n",
      "[2] The condition number is large, 6.1e+03. This might indicate that there are\n",
      "strong multicollinearity or other numerical problems.\n"
     ]
    }
   ],
   "source": [
    "y = df.loc[ : , 'resonance_1.0_25']\n",
    "X = df.loc[: , ['age', 'usnorton', 'nonusnorton', 'isusa', 'latestcomp', 'npeak']]\n",
    "model = sm.OLS(y, X)\n",
    "results = model.fit()\n",
    "print(results.summary())"
   ]
  }
 ],
 "metadata": {
  "kernelspec": {
   "display_name": "Python 3",
   "language": "python",
   "name": "python3"
  },
  "language_info": {
   "codemirror_mode": {
    "name": "ipython",
    "version": 3
   },
   "file_extension": ".py",
   "mimetype": "text/x-python",
   "name": "python",
   "nbconvert_exporter": "python",
   "pygments_lexer": "ipython3",
   "version": "3.5.2"
  }
 },
 "nbformat": 4,
 "nbformat_minor": 2
}
