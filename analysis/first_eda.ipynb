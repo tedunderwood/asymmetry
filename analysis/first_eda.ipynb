{
 "cells": [
  {
   "cell_type": "markdown",
   "metadata": {},
   "source": [
    "# Exploratory data analysis\n",
    "\n",
    "Running **calculate_kld.py** on the doctopics file produced by topic modeling gives us a bunch of \"summary\" files. We need to join them and see what we've got."
   ]
  },
  {
   "cell_type": "code",
   "execution_count": 38,
   "metadata": {},
   "outputs": [],
   "source": [
    "import pandas as pd\n",
    "import numpy as np\n",
    "from matplotlib import pyplot as plt\n",
    "%matplotlib inline\n",
    "import glob, math\n",
    "from scipy.stats import pearsonr, zscore, ttest_ind"
   ]
  },
  {
   "cell_type": "markdown",
   "metadata": {},
   "source": [
    "### Load metadata for future reference\n",
    "\n",
    "We'll need it."
   ]
  },
  {
   "cell_type": "code",
   "execution_count": 10,
   "metadata": {},
   "outputs": [],
   "source": [
    "meta = pd.read_csv('../meta/filteredsample.tsv', sep = '\\t', index_col = 'docid')"
   ]
  },
  {
   "cell_type": "markdown",
   "metadata": {},
   "source": [
    "### Examining the KLD curve across time\n",
    "\n",
    "We calculated KLD for three different \"fractions\" of the dataset.\n",
    "\n",
    "1. Using all the volumes is \"fraction 1.0.\" We calculate KLD(this volume|vol in future or part) for every volume at a given temporal offset, and report the mean here.\n",
    "\n",
    "2. But because we expect literary influence not to be diffused universally, we also calculate KLD for *the closest 5%* of volumes in a given year. This is fraction 0.05.\n",
    "\n",
    "3. And because it's possible that differentiation is very strong, also fraction 0.025.\n",
    "\n",
    "Let's read in one of the kld files, produced around the middle of the timeline."
   ]
  },
  {
   "cell_type": "code",
   "execution_count": 4,
   "metadata": {},
   "outputs": [
    {
     "data": {
      "text/html": [
       "<div>\n",
       "<table border=\"1\" class=\"dataframe\">\n",
       "  <thead>\n",
       "    <tr style=\"text-align: right;\">\n",
       "      <th></th>\n",
       "      <th>docid</th>\n",
       "      <th>fraction</th>\n",
       "      <th>-50</th>\n",
       "      <th>-49</th>\n",
       "      <th>-48</th>\n",
       "      <th>-47</th>\n",
       "      <th>-46</th>\n",
       "      <th>-45</th>\n",
       "      <th>-44</th>\n",
       "      <th>-43</th>\n",
       "      <th>...</th>\n",
       "      <th>41</th>\n",
       "      <th>42</th>\n",
       "      <th>43</th>\n",
       "      <th>44</th>\n",
       "      <th>45</th>\n",
       "      <th>46</th>\n",
       "      <th>47</th>\n",
       "      <th>48</th>\n",
       "      <th>49</th>\n",
       "      <th>50</th>\n",
       "    </tr>\n",
       "  </thead>\n",
       "  <tbody>\n",
       "    <tr>\n",
       "      <th>0</th>\n",
       "      <td>uc2.ark+=13960=t5cc0wc6z</td>\n",
       "      <td>1.000</td>\n",
       "      <td>6.974160</td>\n",
       "      <td>6.738481</td>\n",
       "      <td>6.759786</td>\n",
       "      <td>7.129186</td>\n",
       "      <td>6.568414</td>\n",
       "      <td>7.068128</td>\n",
       "      <td>6.636836</td>\n",
       "      <td>6.878329</td>\n",
       "      <td>...</td>\n",
       "      <td>7.084861</td>\n",
       "      <td>7.053856</td>\n",
       "      <td>7.236113</td>\n",
       "      <td>7.078687</td>\n",
       "      <td>7.166758</td>\n",
       "      <td>7.139162</td>\n",
       "      <td>7.130241</td>\n",
       "      <td>7.162323</td>\n",
       "      <td>7.116743</td>\n",
       "      <td>7.104604</td>\n",
       "    </tr>\n",
       "    <tr>\n",
       "      <th>1</th>\n",
       "      <td>uc2.ark+=13960=t5cc0wc6z</td>\n",
       "      <td>0.050</td>\n",
       "      <td>4.226534</td>\n",
       "      <td>3.652485</td>\n",
       "      <td>3.894975</td>\n",
       "      <td>4.118669</td>\n",
       "      <td>3.402652</td>\n",
       "      <td>4.331224</td>\n",
       "      <td>3.492902</td>\n",
       "      <td>3.253104</td>\n",
       "      <td>...</td>\n",
       "      <td>4.748186</td>\n",
       "      <td>4.304328</td>\n",
       "      <td>4.640110</td>\n",
       "      <td>4.347193</td>\n",
       "      <td>4.235514</td>\n",
       "      <td>4.693237</td>\n",
       "      <td>4.290229</td>\n",
       "      <td>4.146966</td>\n",
       "      <td>4.654696</td>\n",
       "      <td>4.686937</td>\n",
       "    </tr>\n",
       "    <tr>\n",
       "      <th>2</th>\n",
       "      <td>uc2.ark+=13960=t5cc0wc6z</td>\n",
       "      <td>0.025</td>\n",
       "      <td>3.804864</td>\n",
       "      <td>3.270790</td>\n",
       "      <td>3.593070</td>\n",
       "      <td>3.559674</td>\n",
       "      <td>3.117727</td>\n",
       "      <td>4.096116</td>\n",
       "      <td>3.323354</td>\n",
       "      <td>2.736457</td>\n",
       "      <td>...</td>\n",
       "      <td>4.501200</td>\n",
       "      <td>3.913547</td>\n",
       "      <td>4.288838</td>\n",
       "      <td>4.158342</td>\n",
       "      <td>3.667794</td>\n",
       "      <td>4.363486</td>\n",
       "      <td>3.853069</td>\n",
       "      <td>3.743905</td>\n",
       "      <td>4.332524</td>\n",
       "      <td>4.437359</td>\n",
       "    </tr>\n",
       "    <tr>\n",
       "      <th>3</th>\n",
       "      <td>uiuo.ark+=13960=t73v06h0g</td>\n",
       "      <td>1.000</td>\n",
       "      <td>7.386190</td>\n",
       "      <td>7.116683</td>\n",
       "      <td>7.570004</td>\n",
       "      <td>7.216583</td>\n",
       "      <td>7.335448</td>\n",
       "      <td>7.171766</td>\n",
       "      <td>7.339626</td>\n",
       "      <td>7.037834</td>\n",
       "      <td>...</td>\n",
       "      <td>7.451963</td>\n",
       "      <td>7.674915</td>\n",
       "      <td>7.606401</td>\n",
       "      <td>7.660103</td>\n",
       "      <td>7.677723</td>\n",
       "      <td>7.642646</td>\n",
       "      <td>7.930849</td>\n",
       "      <td>7.835615</td>\n",
       "      <td>7.704506</td>\n",
       "      <td>7.784400</td>\n",
       "    </tr>\n",
       "    <tr>\n",
       "      <th>4</th>\n",
       "      <td>uiuo.ark+=13960=t73v06h0g</td>\n",
       "      <td>0.050</td>\n",
       "      <td>4.456036</td>\n",
       "      <td>4.416306</td>\n",
       "      <td>4.418547</td>\n",
       "      <td>4.345332</td>\n",
       "      <td>4.672014</td>\n",
       "      <td>4.318874</td>\n",
       "      <td>4.776528</td>\n",
       "      <td>4.304337</td>\n",
       "      <td>...</td>\n",
       "      <td>4.447544</td>\n",
       "      <td>4.914141</td>\n",
       "      <td>4.755089</td>\n",
       "      <td>4.617680</td>\n",
       "      <td>4.855421</td>\n",
       "      <td>4.631968</td>\n",
       "      <td>5.075238</td>\n",
       "      <td>5.446705</td>\n",
       "      <td>4.962227</td>\n",
       "      <td>5.420864</td>\n",
       "    </tr>\n",
       "  </tbody>\n",
       "</table>\n",
       "<p>5 rows × 103 columns</p>\n",
       "</div>"
      ],
      "text/plain": [
       "                       docid  fraction       -50       -49       -48  \\\n",
       "0   uc2.ark+=13960=t5cc0wc6z     1.000  6.974160  6.738481  6.759786   \n",
       "1   uc2.ark+=13960=t5cc0wc6z     0.050  4.226534  3.652485  3.894975   \n",
       "2   uc2.ark+=13960=t5cc0wc6z     0.025  3.804864  3.270790  3.593070   \n",
       "3  uiuo.ark+=13960=t73v06h0g     1.000  7.386190  7.116683  7.570004   \n",
       "4  uiuo.ark+=13960=t73v06h0g     0.050  4.456036  4.416306  4.418547   \n",
       "\n",
       "        -47       -46       -45       -44       -43    ...           41  \\\n",
       "0  7.129186  6.568414  7.068128  6.636836  6.878329    ...     7.084861   \n",
       "1  4.118669  3.402652  4.331224  3.492902  3.253104    ...     4.748186   \n",
       "2  3.559674  3.117727  4.096116  3.323354  2.736457    ...     4.501200   \n",
       "3  7.216583  7.335448  7.171766  7.339626  7.037834    ...     7.451963   \n",
       "4  4.345332  4.672014  4.318874  4.776528  4.304337    ...     4.447544   \n",
       "\n",
       "         42        43        44        45        46        47        48  \\\n",
       "0  7.053856  7.236113  7.078687  7.166758  7.139162  7.130241  7.162323   \n",
       "1  4.304328  4.640110  4.347193  4.235514  4.693237  4.290229  4.146966   \n",
       "2  3.913547  4.288838  4.158342  3.667794  4.363486  3.853069  3.743905   \n",
       "3  7.674915  7.606401  7.660103  7.677723  7.642646  7.930849  7.835615   \n",
       "4  4.914141  4.755089  4.617680  4.855421  4.631968  5.075238  5.446705   \n",
       "\n",
       "         49        50  \n",
       "0  7.116743  7.104604  \n",
       "1  4.654696  4.686937  \n",
       "2  4.332524  4.437359  \n",
       "3  7.704506  7.784400  \n",
       "4  4.962227  5.420864  \n",
       "\n",
       "[5 rows x 103 columns]"
      ]
     },
     "execution_count": 4,
     "metadata": {},
     "output_type": "execute_result"
    }
   ],
   "source": [
    "kl = pd.read_csv('../results/seg15000klds.tsv', sep = '\\t')\n",
    "kl.head()"
   ]
  },
  {
   "cell_type": "code",
   "execution_count": 11,
   "metadata": {},
   "outputs": [
    {
     "data": {
      "text/plain": [
       "1891"
      ]
     },
     "execution_count": 11,
     "metadata": {},
     "output_type": "execute_result"
    }
   ],
   "source": [
    "# What's the date at the start of this segment?\n",
    "\n",
    "meta.loc['uc2.ark+=13960=t5cc0wc6z', 'inferreddate']"
   ]
  },
  {
   "cell_type": "markdown",
   "metadata": {},
   "source": [
    "What does the curve look like at fraction 1.0?"
   ]
  },
  {
   "cell_type": "code",
   "execution_count": 5,
   "metadata": {},
   "outputs": [
    {
     "data": {
      "image/png": "[encoded data removed]",
      "text/plain": [
       "<matplotlib.figure.Figure at 0x1a1d7c71d0>"
      ]
     },
     "metadata": {},
     "output_type": "display_data"
    }
   ],
   "source": [
    "klone = kl.loc[kl.fraction == 1.0]\n",
    "meanone = klone.mean(axis = 0)\n",
    "plt.scatter([x for x in range(-50, 51)], meanone[1:])\n",
    "plt.show()"
   ]
  },
  {
   "cell_type": "markdown",
   "metadata": {},
   "source": [
    "What about fraction 0.025?"
   ]
  },
  {
   "cell_type": "code",
   "execution_count": 6,
   "metadata": {},
   "outputs": [
    {
     "data": {
      "image/png": "[encoded data removed]",
      "text/plain": [
       "<matplotlib.figure.Figure at 0x1a20158e80>"
      ]
     },
     "metadata": {},
     "output_type": "display_data"
    }
   ],
   "source": [
    "kl25 = kl.loc[kl.fraction == 0.025]\n",
    "mean25 = kl25.mean(axis = 0)\n",
    "plt.scatter([x for x in range(-50, 51)], mean25[1:])\n",
    "plt.show()"
   ]
  },
  {
   "cell_type": "markdown",
   "metadata": {},
   "source": [
    "If you look at the y axis, this whole curve is lower than the fraction 1 curve, which makes sense.\n",
    "\n",
    "That \"ridge\" is an interesting artifact, worth a bit of thought. Might be specific to this time segment; e.g. there's often a discontinuity right at 1900. It's also interesting that the forward or backward tilt of the curve depends on the fraction. Let's try a different period."
   ]
  },
  {
   "cell_type": "code",
   "execution_count": 8,
   "metadata": {},
   "outputs": [
    {
     "data": {
      "image/png": "[encoded data removed]",
      "text/plain": [
       "<matplotlib.figure.Figure at 0x1a20138b00>"
      ]
     },
     "metadata": {},
     "output_type": "display_data"
    }
   ],
   "source": [
    "kl20c = pd.read_csv('../results/seg25000klds.tsv', sep = '\\t')\n",
    "klone = kl20c.loc[kl20c.fraction == 1.0]\n",
    "meanone = klone.mean(axis = 0)\n",
    "plt.scatter([x for x in range(-50, 51)], meanone[1:])\n",
    "plt.show()"
   ]
  },
  {
   "cell_type": "markdown",
   "metadata": {},
   "source": [
    "Okay, wow, that's a rather different curve. Novelty is much higher here; transience much lower. Let's go to the summary files in order to see how those have changed across time. \n",
    "\n",
    "### Summary files\n",
    "\n",
    "Start by loading them all and concatenating them."
   ]
  },
  {
   "cell_type": "code",
   "execution_count": 12,
   "metadata": {},
   "outputs": [
    {
     "data": {
      "text/plain": [
       "['../results/seg10000summary.tsv',\n",
       " '../results/seg5000summary.tsv',\n",
       " '../results/seg20000summary.tsv',\n",
       " '../results/seg30000summary.tsv',\n",
       " '../results/seg22500summary.tsv',\n",
       " '../results/seg35000summary.tsv',\n",
       " '../results/seg25000summary.tsv',\n",
       " '../results/seg0summary.tsv',\n",
       " '../results/seg17500summary.tsv',\n",
       " '../results/seg15000summary.tsv']"
      ]
     },
     "execution_count": 12,
     "metadata": {},
     "output_type": "execute_result"
    }
   ],
   "source": [
    "paths = glob.glob('../results/*summary.tsv')\n",
    "paths"
   ]
  },
  {
   "cell_type": "code",
   "execution_count": 13,
   "metadata": {},
   "outputs": [
    {
     "name": "stdout",
     "output_type": "stream",
     "text": [
      "(5000, 27)\n",
      "(5000, 27)\n",
      "(2500, 27)\n",
      "(5000, 27)\n",
      "(2500, 27)\n",
      "(3583, 27)\n",
      "(5000, 27)\n",
      "(5000, 27)\n",
      "(2500, 27)\n",
      "(2500, 27)\n",
      "(38583, 27)\n"
     ]
    }
   ],
   "source": [
    "dfs = []\n",
    "for p in paths:\n",
    "    df = pd.read_csv(p, sep = '\\t', index_col = 'docid')\n",
    "    dfs.append(df)\n",
    "    print(df.shape)\n",
    "\n",
    "data = pd.concat(dfs, verify_integrity = True)\n",
    "print(data.shape)"
   ]
  },
  {
   "cell_type": "code",
   "execution_count": 17,
   "metadata": {},
   "outputs": [
    {
     "name": "stdout",
     "output_type": "stream",
     "text": [
      "['novelty_1.0_10', 'novelty_1.0_25', 'novelty_1.0_40', 'novelty_0.05_10', 'novelty_0.05_25', 'novelty_0.05_40', 'novelty_0.025_10', 'novelty_0.025_25', 'novelty_0.025_40', 'transience_1.0_10', 'transience_1.0_25', 'transience_1.0_40', 'transience_0.05_10', 'transience_0.05_25', 'transience_0.05_40', 'transience_0.025_10', 'transience_0.025_25', 'transience_0.025_40', 'resonance_1.0_10', 'resonance_1.0_25', 'resonance_1.0_40', 'resonance_0.05_10', 'resonance_0.05_25', 'resonance_0.05_40', 'resonance_0.025_10', 'resonance_0.025_25', 'resonance_0.025_40', 'inferreddate']\n"
     ]
    },
    {
     "data": {
      "text/html": [
       "<div>\n",
       "<table border=\"1\" class=\"dataframe\">\n",
       "  <thead>\n",
       "    <tr style=\"text-align: right;\">\n",
       "      <th></th>\n",
       "      <th>novelty_1.0_10</th>\n",
       "      <th>novelty_1.0_25</th>\n",
       "      <th>novelty_1.0_40</th>\n",
       "      <th>novelty_0.05_10</th>\n",
       "      <th>novelty_0.05_25</th>\n",
       "      <th>novelty_0.05_40</th>\n",
       "      <th>novelty_0.025_10</th>\n",
       "      <th>novelty_0.025_25</th>\n",
       "      <th>novelty_0.025_40</th>\n",
       "      <th>transience_1.0_10</th>\n",
       "      <th>...</th>\n",
       "      <th>resonance_1.0_10</th>\n",
       "      <th>resonance_1.0_25</th>\n",
       "      <th>resonance_1.0_40</th>\n",
       "      <th>resonance_0.05_10</th>\n",
       "      <th>resonance_0.05_25</th>\n",
       "      <th>resonance_0.05_40</th>\n",
       "      <th>resonance_0.025_10</th>\n",
       "      <th>resonance_0.025_25</th>\n",
       "      <th>resonance_0.025_40</th>\n",
       "      <th>inferreddate</th>\n",
       "    </tr>\n",
       "    <tr>\n",
       "      <th>docid</th>\n",
       "      <th></th>\n",
       "      <th></th>\n",
       "      <th></th>\n",
       "      <th></th>\n",
       "      <th></th>\n",
       "      <th></th>\n",
       "      <th></th>\n",
       "      <th></th>\n",
       "      <th></th>\n",
       "      <th></th>\n",
       "      <th></th>\n",
       "      <th></th>\n",
       "      <th></th>\n",
       "      <th></th>\n",
       "      <th></th>\n",
       "      <th></th>\n",
       "      <th></th>\n",
       "      <th></th>\n",
       "      <th></th>\n",
       "      <th></th>\n",
       "      <th></th>\n",
       "    </tr>\n",
       "  </thead>\n",
       "  <tbody>\n",
       "    <tr>\n",
       "      <th>hvd.hwtqwj</th>\n",
       "      <td>NaN</td>\n",
       "      <td>NaN</td>\n",
       "      <td>NaN</td>\n",
       "      <td>NaN</td>\n",
       "      <td>NaN</td>\n",
       "      <td>NaN</td>\n",
       "      <td>NaN</td>\n",
       "      <td>NaN</td>\n",
       "      <td>NaN</td>\n",
       "      <td>7.802777</td>\n",
       "      <td>...</td>\n",
       "      <td>NaN</td>\n",
       "      <td>NaN</td>\n",
       "      <td>NaN</td>\n",
       "      <td>NaN</td>\n",
       "      <td>NaN</td>\n",
       "      <td>NaN</td>\n",
       "      <td>NaN</td>\n",
       "      <td>NaN</td>\n",
       "      <td>NaN</td>\n",
       "      <td>1800</td>\n",
       "    </tr>\n",
       "    <tr>\n",
       "      <th>nyp.33433075724116</th>\n",
       "      <td>NaN</td>\n",
       "      <td>NaN</td>\n",
       "      <td>NaN</td>\n",
       "      <td>NaN</td>\n",
       "      <td>NaN</td>\n",
       "      <td>NaN</td>\n",
       "      <td>NaN</td>\n",
       "      <td>NaN</td>\n",
       "      <td>NaN</td>\n",
       "      <td>5.137816</td>\n",
       "      <td>...</td>\n",
       "      <td>NaN</td>\n",
       "      <td>NaN</td>\n",
       "      <td>NaN</td>\n",
       "      <td>NaN</td>\n",
       "      <td>NaN</td>\n",
       "      <td>NaN</td>\n",
       "      <td>NaN</td>\n",
       "      <td>NaN</td>\n",
       "      <td>NaN</td>\n",
       "      <td>1800</td>\n",
       "    </tr>\n",
       "    <tr>\n",
       "      <th>nyp.33433075724090</th>\n",
       "      <td>NaN</td>\n",
       "      <td>NaN</td>\n",
       "      <td>NaN</td>\n",
       "      <td>NaN</td>\n",
       "      <td>NaN</td>\n",
       "      <td>NaN</td>\n",
       "      <td>NaN</td>\n",
       "      <td>NaN</td>\n",
       "      <td>NaN</td>\n",
       "      <td>5.051975</td>\n",
       "      <td>...</td>\n",
       "      <td>NaN</td>\n",
       "      <td>NaN</td>\n",
       "      <td>NaN</td>\n",
       "      <td>NaN</td>\n",
       "      <td>NaN</td>\n",
       "      <td>NaN</td>\n",
       "      <td>NaN</td>\n",
       "      <td>NaN</td>\n",
       "      <td>NaN</td>\n",
       "      <td>1800</td>\n",
       "    </tr>\n",
       "    <tr>\n",
       "      <th>uiuo.ark+=13960=t8pc3pr08</th>\n",
       "      <td>NaN</td>\n",
       "      <td>NaN</td>\n",
       "      <td>NaN</td>\n",
       "      <td>NaN</td>\n",
       "      <td>NaN</td>\n",
       "      <td>NaN</td>\n",
       "      <td>NaN</td>\n",
       "      <td>NaN</td>\n",
       "      <td>NaN</td>\n",
       "      <td>4.989976</td>\n",
       "      <td>...</td>\n",
       "      <td>NaN</td>\n",
       "      <td>NaN</td>\n",
       "      <td>NaN</td>\n",
       "      <td>NaN</td>\n",
       "      <td>NaN</td>\n",
       "      <td>NaN</td>\n",
       "      <td>NaN</td>\n",
       "      <td>NaN</td>\n",
       "      <td>NaN</td>\n",
       "      <td>1800</td>\n",
       "    </tr>\n",
       "    <tr>\n",
       "      <th>uiuo.ark+=13960=t9572451c</th>\n",
       "      <td>NaN</td>\n",
       "      <td>NaN</td>\n",
       "      <td>NaN</td>\n",
       "      <td>NaN</td>\n",
       "      <td>NaN</td>\n",
       "      <td>NaN</td>\n",
       "      <td>NaN</td>\n",
       "      <td>NaN</td>\n",
       "      <td>NaN</td>\n",
       "      <td>5.681724</td>\n",
       "      <td>...</td>\n",
       "      <td>NaN</td>\n",
       "      <td>NaN</td>\n",
       "      <td>NaN</td>\n",
       "      <td>NaN</td>\n",
       "      <td>NaN</td>\n",
       "      <td>NaN</td>\n",
       "      <td>NaN</td>\n",
       "      <td>NaN</td>\n",
       "      <td>NaN</td>\n",
       "      <td>1800</td>\n",
       "    </tr>\n",
       "  </tbody>\n",
       "</table>\n",
       "<p>5 rows × 28 columns</p>\n",
       "</div>"
      ],
      "text/plain": [
       "                           novelty_1.0_10  novelty_1.0_25  novelty_1.0_40  \\\n",
       "docid                                                                       \n",
       "hvd.hwtqwj                            NaN             NaN             NaN   \n",
       "nyp.33433075724116                    NaN             NaN             NaN   \n",
       "nyp.33433075724090                    NaN             NaN             NaN   \n",
       "uiuo.ark+=13960=t8pc3pr08             NaN             NaN             NaN   \n",
       "uiuo.ark+=13960=t9572451c             NaN             NaN             NaN   \n",
       "\n",
       "                           novelty_0.05_10  novelty_0.05_25  novelty_0.05_40  \\\n",
       "docid                                                                          \n",
       "hvd.hwtqwj                             NaN              NaN              NaN   \n",
       "nyp.33433075724116                     NaN              NaN              NaN   \n",
       "nyp.33433075724090                     NaN              NaN              NaN   \n",
       "uiuo.ark+=13960=t8pc3pr08              NaN              NaN              NaN   \n",
       "uiuo.ark+=13960=t9572451c              NaN              NaN              NaN   \n",
       "\n",
       "                           novelty_0.025_10  novelty_0.025_25  \\\n",
       "docid                                                           \n",
       "hvd.hwtqwj                              NaN               NaN   \n",
       "nyp.33433075724116                      NaN               NaN   \n",
       "nyp.33433075724090                      NaN               NaN   \n",
       "uiuo.ark+=13960=t8pc3pr08               NaN               NaN   \n",
       "uiuo.ark+=13960=t9572451c               NaN               NaN   \n",
       "\n",
       "                           novelty_0.025_40  transience_1.0_10      ...       \\\n",
       "docid                                                               ...        \n",
       "hvd.hwtqwj                              NaN           7.802777      ...        \n",
       "nyp.33433075724116                      NaN           5.137816      ...        \n",
       "nyp.33433075724090                      NaN           5.051975      ...        \n",
       "uiuo.ark+=13960=t8pc3pr08               NaN           4.989976      ...        \n",
       "uiuo.ark+=13960=t9572451c               NaN           5.681724      ...        \n",
       "\n",
       "                           resonance_1.0_10  resonance_1.0_25  \\\n",
       "docid                                                           \n",
       "hvd.hwtqwj                              NaN               NaN   \n",
       "nyp.33433075724116                      NaN               NaN   \n",
       "nyp.33433075724090                      NaN               NaN   \n",
       "uiuo.ark+=13960=t8pc3pr08               NaN               NaN   \n",
       "uiuo.ark+=13960=t9572451c               NaN               NaN   \n",
       "\n",
       "                           resonance_1.0_40  resonance_0.05_10  \\\n",
       "docid                                                            \n",
       "hvd.hwtqwj                              NaN                NaN   \n",
       "nyp.33433075724116                      NaN                NaN   \n",
       "nyp.33433075724090                      NaN                NaN   \n",
       "uiuo.ark+=13960=t8pc3pr08               NaN                NaN   \n",
       "uiuo.ark+=13960=t9572451c               NaN                NaN   \n",
       "\n",
       "                           resonance_0.05_25  resonance_0.05_40  \\\n",
       "docid                                                             \n",
       "hvd.hwtqwj                               NaN                NaN   \n",
       "nyp.33433075724116                       NaN                NaN   \n",
       "nyp.33433075724090                       NaN                NaN   \n",
       "uiuo.ark+=13960=t8pc3pr08                NaN                NaN   \n",
       "uiuo.ark+=13960=t9572451c                NaN                NaN   \n",
       "\n",
       "                           resonance_0.025_10  resonance_0.025_25  \\\n",
       "docid                                                               \n",
       "hvd.hwtqwj                                NaN                 NaN   \n",
       "nyp.33433075724116                        NaN                 NaN   \n",
       "nyp.33433075724090                        NaN                 NaN   \n",
       "uiuo.ark+=13960=t8pc3pr08                 NaN                 NaN   \n",
       "uiuo.ark+=13960=t9572451c                 NaN                 NaN   \n",
       "\n",
       "                           resonance_0.025_40  inferreddate  \n",
       "docid                                                        \n",
       "hvd.hwtqwj                                NaN          1800  \n",
       "nyp.33433075724116                        NaN          1800  \n",
       "nyp.33433075724090                        NaN          1800  \n",
       "uiuo.ark+=13960=t8pc3pr08                 NaN          1800  \n",
       "uiuo.ark+=13960=t9572451c                 NaN          1800  \n",
       "\n",
       "[5 rows x 28 columns]"
      ]
     },
     "execution_count": 17,
     "metadata": {},
     "output_type": "execute_result"
    }
   ],
   "source": [
    "## what have we actually got\n",
    "\n",
    "print(data.columns.tolist())\n",
    "data.head()"
   ]
  },
  {
   "cell_type": "markdown",
   "metadata": {},
   "source": [
    "#### meaning of the columns\n",
    "\n",
    "Novelty and transience can be calculated for all of the fractions we've already explored: 1.0, 0.05, and 0.025.\n",
    "\n",
    "But in addition, novelty and transience can be averaged across *windows* of different width: ten-year, twenty-five-year, or forty-year windows.\n",
    "\n",
    "Above you see lots of NaN for novelty, because we're at the start of the timeline, and novelty is undefined with no past to compare things to. If you scroll over, you'll see transience is defined."
   ]
  },
  {
   "cell_type": "markdown",
   "metadata": {},
   "source": [
    "#### add date as a variable"
   ]
  },
  {
   "cell_type": "code",
   "execution_count": 14,
   "metadata": {},
   "outputs": [],
   "source": [
    "data = data.join(meta.inferreddate, how = 'inner')"
   ]
  },
  {
   "cell_type": "markdown",
   "metadata": {},
   "source": [
    "#### calculate novelty and transience averages by year\n",
    "\n",
    "We'll use a 10-year window, and slide it forward two years at a time.\n",
    "\n",
    "We'll consider the 1.0 fraction at a 10-year window."
   ]
  },
  {
   "cell_type": "code",
   "execution_count": 21,
   "metadata": {},
   "outputs": [
    {
     "data": {
      "image/png": "[encoded data removed]",
      "text/plain": [
       "<matplotlib.figure.Figure at 0x117620ef0>"
      ]
     },
     "metadata": {},
     "output_type": "display_data"
    }
   ],
   "source": [
    "novmeans = []\n",
    "transmeans = []\n",
    "years = []\n",
    "\n",
    "resmeans = []\n",
    "for floor in range(1810, 2000, 2):\n",
    "    df = data.loc[(data.inferreddate > floor) & (data.inferreddate < floor + 9), : ]\n",
    "    nas = np.isnan(df['resonance_1.0_10'])\n",
    "    novmeans.append(np.mean(df['novelty_1.0_10'][~nas]))\n",
    "    transmeans.append(np.mean(df['transience_1.0_10'][~nas]))\n",
    "    years.append(floor + 5)\n",
    "    \n",
    "plt.plot(years, novmeans)\n",
    "plt.plot(years, transmeans, color = 'r')\n",
    "plt.show()"
   ]
  },
  {
   "cell_type": "markdown",
   "metadata": {},
   "source": [
    "Wow! To a close approximation, those are the same curves, shifted relative to each other by maybe 5 years.\n",
    "\n",
    "If the rise and fall were real, this would be enormously significant. But we have pretty good reason to believe that the rise toward the center of the timeline is an artifact of topic modeling, which tends to provide a more granular description of texts at the center of a (long) timeline than it does at the ends--causing differentiation to be higher. (More on our reason for suspecting this, later).\n",
    "\n",
    "First, let's keep exploring. For instance, what about the 0.025 fraction at a 40-year window?"
   ]
  },
  {
   "cell_type": "code",
   "execution_count": 22,
   "metadata": {},
   "outputs": [
    {
     "data": {
      "image/png": "[encoded data removed]",
      "text/plain": [
       "<matplotlib.figure.Figure at 0x1a2c0405c0>"
      ]
     },
     "metadata": {},
     "output_type": "display_data"
    }
   ],
   "source": [
    "novmeans = []\n",
    "transmeans = []\n",
    "years = []\n",
    "\n",
    "resmeans = []\n",
    "for floor in range(1810, 2000, 2):\n",
    "    df = data.loc[(data.inferreddate > floor) & (data.inferreddate < floor + 9), : ]\n",
    "    nas = np.isnan(df['resonance_0.025_40'])\n",
    "    novmeans.append(np.mean(df['novelty_0.025_40'][~nas]))\n",
    "    transmeans.append(np.mean(df['transience_0.025_40'][~nas]))\n",
    "    years.append(floor + 5)\n",
    "    \n",
    "plt.plot(years, novmeans)\n",
    "plt.plot(years, transmeans, color = 'r')\n",
    "plt.show()"
   ]
  },
  {
   "cell_type": "markdown",
   "metadata": {},
   "source": [
    "The general \"novelty mountain\" effect remains, but the tracking of the curves is thrown off. 40 years out, the 20c does it's own weird thang? Maybe something happening here re: literary differentiation. Remember that this is the 0.025 fraction, so it's measuring the similarity of the most similar works. Transience (red) gets lower in the 20c, so similarity of-the-most-similar is *higher* in the future than in the past.\n",
    "\n",
    "Note also that this is actually a smaller curve than the 10-year window; if you examine the x axis, you see we've lost about 30 years on each side. So the drop at 1850 which opens this curve is actually also visible in the 10-year window."
   ]
  },
  {
   "cell_type": "markdown",
   "metadata": {},
   "source": [
    "### How do we know Novelty Mountain is (at least partly) imaginary?\n",
    "\n",
    "Well, I've run several other models. For instance, I've run a model only on twentieth (and twenty-first) century data. What novelty pattern do we see there?"
   ]
  },
  {
   "cell_type": "code",
   "execution_count": 31,
   "metadata": {},
   "outputs": [
    {
     "data": {
      "text/plain": [
       "['../20results/seg32500summary.tsv',\n",
       " '../20results/seg20000summary.tsv',\n",
       " '../20results/seg30000summary.tsv',\n",
       " '../20results/seg22500summary.tsv',\n",
       " '../20results/seg35000summary.tsv',\n",
       " '../20results/seg27500summary.tsv',\n",
       " '../20results/seg37500summary.tsv',\n",
       " '../20results/seg25000summary.tsv',\n",
       " '../20results/seg17500summary.tsv']"
      ]
     },
     "execution_count": 31,
     "metadata": {},
     "output_type": "execute_result"
    }
   ],
   "source": [
    "paths20 = glob.glob('../20results/*summary.tsv')\n",
    "paths20"
   ]
  },
  {
   "cell_type": "code",
   "execution_count": 32,
   "metadata": {},
   "outputs": [
    {
     "name": "stdout",
     "output_type": "stream",
     "text": [
      "(2500, 27)\n",
      "(2500, 27)\n",
      "(2500, 27)\n",
      "(2500, 27)\n",
      "(2500, 27)\n",
      "(2500, 27)\n",
      "(1083, 27)\n",
      "(2500, 27)\n",
      "(2500, 27)\n"
     ]
    }
   ],
   "source": [
    "dfs = []\n",
    "for p in paths20:\n",
    "    df = pd.read_csv(p, sep = '\\t', index_col = 'docid')\n",
    "    dfs.append(df)\n",
    "    print(df.shape)\n",
    "\n",
    "data20 = pd.concat(dfs, verify_integrity = True)\n",
    "data20 = data20.join(meta.inferreddate, how = 'inner')"
   ]
  },
  {
   "cell_type": "code",
   "execution_count": 33,
   "metadata": {},
   "outputs": [
    {
     "data": {
      "image/png": "[encoded data removed]",
      "text/plain": [
       "<matplotlib.figure.Figure at 0x1a2d510eb8>"
      ]
     },
     "metadata": {},
     "output_type": "display_data"
    }
   ],
   "source": [
    "# Run the same curve in the 20c\n",
    "\n",
    "novmeans = []\n",
    "transmeans = []\n",
    "years = []\n",
    "\n",
    "resmeans = []\n",
    "for floor in range(1910, 2000, 2):\n",
    "    df = data20.loc[(data20.inferreddate > floor) & (data20.inferreddate < floor + 9), : ]\n",
    "    nas = np.isnan(df['resonance_1.0_10'])\n",
    "    novmeans.append(np.mean(df['novelty_1.0_10'][~nas]))\n",
    "    transmeans.append(np.mean(df['transience_1.0_10'][~nas]))\n",
    "    years.append(floor + 5)\n",
    "    \n",
    "plt.plot(years, novmeans)\n",
    "plt.plot(years, transmeans, color = 'r')\n",
    "plt.show()"
   ]
  },
  {
   "cell_type": "markdown",
   "metadata": {},
   "source": [
    "The period from 1910-1940, novelty is rising here. But if you look above at our 10-year window plot, novelty is clearly falling in the same period from a global maximum around 1910.\n",
    "\n",
    "I suspect that kld divergence of one volume to the vols around it is always going to peak in the middle of a topic-modeled timeline, because edge-sampling effects cause models to give a more granular description of the center than of the edges. (I owe my tentative understanding of this partly to conversation with David Mimno and Laure Thompson.)\n",
    "\n",
    "There are probably real trends as well! The \"novelty mountains\" we are discovering have some tell-tale asymmetries and bumps. Those tend to match trends in the novelty trajectory I have measured using tdf-idf vectors, to avoid the fisheye-lens distortion of topic modeling.\n",
    "\n",
    "By collating different models, maybe we can even extract some inferences about the real trend. But that's a conversation for another Jupyter notebook."
   ]
  },
  {
   "cell_type": "markdown",
   "metadata": {},
   "source": [
    "### Starting to check our pre-registered hypotheses\n",
    "\n",
    "So far we've been dwelling on novelty and transience, because they're the ground on which other things are built. But our hypotheses are actually about *resonance* — the difference between them!\n",
    "\n",
    "You can see that there are some tricky issues in measuring resonance. The \"novelty mountain,\" and more particularly *the lag between its effects on the transience and novelty curves,* will give resonance a diachronic bias.\n",
    "\n",
    "But I think we can partly solve this by measuring resonance *relative* to books published in a given year (or short segment of the timeline). For instance, to measure resonance in 1925, we might group together all the books published in 1924, 25, and 26, list all the resonances, and normalize the values into z-scores reflecting distance from the local mean resonance.\n",
    "\n",
    "This will erase long secular trends in resonance — which might have a real existence, quite apart from Novelty Mountain. But here's the other thing: to test our pre-registered hypotheses we probably *want* to neutralize secular trends in resonance. It's very likely that changes in the literary field (e.g. differentiation) have changed the way novelty and transience behave across long timelines. But our pre-registered hypotheses are looking for local differences in the success of specific books. For that purpose, it's probably best to normalize."
   ]
  },
  {
   "cell_type": "code",
   "execution_count": 42,
   "metadata": {},
   "outputs": [
    {
     "name": "stdout",
     "output_type": "stream",
     "text": [
      "1800\n",
      "1801\n",
      "1802\n",
      "1803\n",
      "1804\n",
      "1805\n",
      "1806\n",
      "1807\n",
      "1808\n",
      "1809\n",
      "1810\n",
      "1811\n",
      "1812\n",
      "1813\n",
      "1814\n",
      "1815\n",
      "1816\n",
      "1817\n",
      "1818\n",
      "1819\n",
      "1820\n",
      "1821\n",
      "1822\n",
      "1823\n",
      "1824\n",
      "1825\n",
      "1826\n",
      "1827\n",
      "1828\n",
      "1829\n",
      "1830\n",
      "1831\n",
      "1832\n",
      "1833\n",
      "1834\n",
      "1835\n",
      "1836\n",
      "1837\n",
      "1838\n",
      "1839\n",
      "1840\n",
      "1841\n",
      "1842\n",
      "1843\n",
      "1844\n",
      "1845\n",
      "1846\n",
      "1847\n",
      "1848\n",
      "1849\n",
      "1850\n",
      "1851\n",
      "1852\n",
      "1853\n",
      "1854\n",
      "1855\n",
      "1856\n",
      "1857\n",
      "1858\n",
      "1859\n",
      "1860\n",
      "1861\n",
      "1862\n",
      "1863\n",
      "1864\n",
      "1865\n",
      "1866\n",
      "1867\n",
      "1868\n",
      "1869\n",
      "1870\n",
      "1871\n",
      "1872\n",
      "1873\n",
      "1874\n",
      "1875\n",
      "1876\n",
      "1877\n",
      "1878\n",
      "1879\n",
      "1880\n",
      "1881\n",
      "1882\n",
      "1883\n",
      "1884\n",
      "1885\n",
      "1886\n",
      "1887\n",
      "1888\n",
      "1889\n",
      "1890\n",
      "1891\n",
      "1892\n",
      "1893\n",
      "1894\n",
      "1895\n",
      "1896\n",
      "1897\n",
      "1898\n",
      "1899\n",
      "1900\n",
      "1901\n",
      "1902\n",
      "1903\n",
      "1904\n",
      "1905\n",
      "1906\n",
      "1907\n",
      "1908\n",
      "1909\n",
      "1910\n",
      "1911\n",
      "1912\n",
      "1913\n",
      "1914\n",
      "1915\n",
      "1916\n",
      "1917\n",
      "1918\n",
      "1919\n",
      "1920\n",
      "1921\n",
      "1922\n",
      "1923\n",
      "1924\n",
      "1925\n",
      "1926\n",
      "1927\n",
      "1928\n",
      "1929\n",
      "1930\n",
      "1931\n",
      "1932\n",
      "1933\n",
      "1934\n",
      "1935\n",
      "1936\n",
      "1937\n",
      "1938\n",
      "1939\n",
      "1940\n",
      "1941\n",
      "1942\n",
      "1943\n",
      "1944\n",
      "1945\n",
      "1946\n",
      "1947\n",
      "1948\n",
      "1949\n",
      "1950\n",
      "1951\n",
      "1952\n",
      "1953\n",
      "1954\n",
      "1955\n",
      "1956\n",
      "1957\n",
      "1958\n",
      "1959\n",
      "1960\n",
      "1961\n",
      "1962\n",
      "1963\n",
      "1964\n",
      "1965\n",
      "1966\n",
      "1967\n",
      "1968\n",
      "1969\n",
      "1970\n",
      "1971\n",
      "1972\n",
      "1973\n",
      "1974\n",
      "1975\n",
      "1976\n",
      "1977\n",
      "1978\n",
      "1979\n",
      "1980\n",
      "1981\n",
      "1982\n",
      "1983\n",
      "1984\n",
      "1985\n",
      "1986\n",
      "1987\n",
      "1988\n",
      "1989\n",
      "1990\n",
      "1991\n",
      "1992\n",
      "1993\n",
      "1994\n",
      "1995\n",
      "1996\n",
      "1997\n",
      "1998\n",
      "1999\n",
      "2000\n",
      "2001\n",
      "2002\n",
      "2003\n",
      "2004\n",
      "2005\n",
      "2006\n",
      "2007\n",
      "2008\n"
     ]
    },
    {
     "name": "stderr",
     "output_type": "stream",
     "text": [
      "/Users/tunder/miniconda3/lib/python3.5/site-packages/numpy/core/_methods.py:59: RuntimeWarning: Mean of empty slice.\n",
      "  warnings.warn(\"Mean of empty slice.\", RuntimeWarning)\n",
      "/Users/tunder/miniconda3/lib/python3.5/site-packages/numpy/core/_methods.py:82: RuntimeWarning: Degrees of freedom <= 0 for slice\n",
      "  warnings.warn(\"Degrees of freedom <= 0 for slice\", RuntimeWarning)\n"
     ]
    }
   ],
   "source": [
    "zdata = data.copy(deep = True)\n",
    "columns = data.columns.tolist()\n",
    "columns.pop(columns.index('inferreddate'))\n",
    "\n",
    "for col in columns:\n",
    "    zdata[col] = np.nan\n",
    "    # set default as empty\n",
    "\n",
    "for yr in range(1800, 2009):\n",
    "    print(yr)\n",
    "    df = data.loc[(data.inferreddate >= yr - 1) & (data.inferreddate <= yr + 1), : ]\n",
    "    for col in columns:\n",
    "        nas = np.isnan(df[col])\n",
    "        seriestonormalize = df.loc[~nas, col]\n",
    "        indices = seriestonormalize.index.values\n",
    "        zscores = zscore(seriestonormalize)\n",
    "        for idx, z in zip(indices, zscores):\n",
    "            date = df.loc[idx, 'inferreddate']\n",
    "            if date == yr:\n",
    "                zdata.loc[idx, col] = z\n"
   ]
  },
  {
   "cell_type": "markdown",
   "metadata": {},
   "source": [
    "#### Correlation of resonance and reprinting\n",
    "\n",
    "Our metadata contains a column that indicates how many copies of the work I had to roll into one in the process of deduplication. We can take this as a rough measure of the work's afterlife in print."
   ]
  },
  {
   "cell_type": "code",
   "execution_count": 44,
   "metadata": {},
   "outputs": [],
   "source": [
    "zdata = zdata.join(meta.allcopiesofwork, how = 'inner')"
   ]
  },
  {
   "cell_type": "code",
   "execution_count": 46,
   "metadata": {},
   "outputs": [],
   "source": [
    "# let's write that to file\n",
    "\n",
    "zdata.to_csv('../results/ztransformedsummary.tsv', sep = '\\t', index_label = 'docid')"
   ]
  },
  {
   "cell_type": "code",
   "execution_count": 45,
   "metadata": {},
   "outputs": [
    {
     "name": "stdout",
     "output_type": "stream",
     "text": [
      "resonance_1.0_10 0.0709591107921 2.00791834704e-41\n",
      "log-transformed:  resonance_1.0_10 0.082909048896 5.93573005657e-56\n",
      "\n",
      "resonance_1.0_25 0.0628647847045 4.81928116983e-29\n",
      "log-transformed:  resonance_1.0_25 0.0828699418411 2.84066055938e-49\n",
      "\n",
      "resonance_1.0_40 0.0501825883609 6.79687570279e-16\n",
      "log-transformed:  resonance_1.0_40 0.0743445948832 5.06098007024e-33\n",
      "\n",
      "resonance_0.05_10 0.0874054849793 5.24069801538e-62\n",
      "log-transformed:  resonance_0.05_10 0.0913892214778 1.21986809278e-67\n",
      "\n",
      "resonance_0.05_25 0.0806103519402 1.03925298589e-46\n",
      "log-transformed:  resonance_0.05_25 0.096707917737 1.57944656285e-66\n",
      "\n",
      "resonance_0.05_40 0.0695190883043 4.47522421866e-29\n",
      "log-transformed:  resonance_0.05_40 0.0912635932074 5.96294958935e-49\n",
      "\n",
      "resonance_0.025_10 0.084517403392 4.41502090488e-58\n",
      "log-transformed:  resonance_0.025_10 0.0892457027324 1.4085485909e-64\n",
      "\n",
      "resonance_0.025_25 0.0812920296613 1.7820243264e-47\n",
      "log-transformed:  resonance_0.025_25 0.0975035513332 1.33273680776e-67\n",
      "\n",
      "resonance_0.025_40 0.0728177562632 9.58284570034e-32\n",
      "log-transformed:  resonance_0.025_40 0.0949778924814 6.92696597589e-53\n",
      "\n"
     ]
    }
   ],
   "source": [
    "for col in columns:\n",
    "    if col.startswith('resonance'):\n",
    "        nas = np.isnan(zdata[col])\n",
    "        r, p = pearsonr(zdata.loc[~nas, col], zdata.loc[~nas, 'allcopiesofwork'])\n",
    "        print(col, r, p)\n",
    "        r, p = pearsonr(zdata.loc[~nas, col], np.log(zdata.loc[~nas, 'allcopiesofwork']))\n",
    "        print(\"log-transformed: \", col, r, p)\n",
    "        print()"
   ]
  },
  {
   "cell_type": "markdown",
   "metadata": {},
   "source": [
    "We have a distinct (if weak) correlation. It's strongest when **allcopiesofwork** is log-transformed, and also distinctly stronger when we focus on smaller fractions of comparison; it peaks at *r* = 0.0975, for a 2.5% fraction and 25-year time radius.\n",
    "\n",
    "We could correct for multiple comparisons, but that won't change the fact that all of the correlations above are significant.\n",
    "\n",
    "Reprinting and resonance might seem circular. What if I missed some copies of a book in deduplication? Won't that artificially create a correlation? Maybe. We should check the error rate manually. But note that the error has to take a very particular form to distort our result. If two versions of a title are equally common, and get preserved in deduplication, there will be no distortion, because the earlier one (A) will reduce novelty for (B) as much as (B) reduces transience for A.\n",
    "\n",
    "The only problematic situation is, if B has many fewer copies than A, and is also later. Only those kinds of errors could create the correlations seen above."
   ]
  },
  {
   "cell_type": "markdown",
   "metadata": {},
   "source": [
    "### comparing reviewed and random sets"
   ]
  },
  {
   "cell_type": "code",
   "execution_count": null,
   "metadata": {},
   "outputs": [],
   "source": []
  }
 ],
 "metadata": {
  "kernelspec": {
   "display_name": "Python 3",
   "language": "python",
   "name": "python3"
  },
  "language_info": {
   "codemirror_mode": {
    "name": "ipython",
    "version": 3
   },
   "file_extension": ".py",
   "mimetype": "text/x-python",
   "name": "python",
   "nbconvert_exporter": "python",
   "pygments_lexer": "ipython3",
   "version": "3.5.2"
  }
 },
 "nbformat": 4,
 "nbformat_minor": 2
}
