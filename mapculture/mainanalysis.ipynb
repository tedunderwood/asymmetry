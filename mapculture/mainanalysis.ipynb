{
 "cells": [
  {
   "cell_type": "markdown",
   "metadata": {},
   "source": [
    "# Main analysis for the \"mapping culture\" article.\n",
    "\n",
    "Ted Underwood and Richard Jean So\n",
    "\n",
    "This is an offshoot of a larger project, which is evolving slowly. We spun this off to make a subsidiary point. It branched from the main project back at [```../analysis/third_model_analysis1.ipynb.```](https://github.com/tedunderwood/asymmetry/blob/master/analysis/third_model_analysis1.ipynb)\n",
    "\n",
    "We've edited this notebook so that it not only tests the hypotheses tested in the ```third_model``` notebook, but does so using two different metrics: KL divergence and cosine distance. \n",
    "\n",
    "For weird historical reasons, different passes at this project got described as \"first supplement,\" \"second supplement,\" and so on. (We kept adding a few more volumes to the model to test hypotheses more thoroughly.) The results we're using here are described as \"fourth supplement,\" but the underlying metadata and topic model are the same as those used in the \"third supplement.\" The fourth supplement is just a calculation run on the third supplement that keeps better track of cosine distance.\n",
    "\n",
    "For the code used to measure the temporal asymmetries, see ```calculate_supp4_kld.py``` in this folder, and the worker script it calls, ```kld_calc_worker_supp4.py```\n",
    "\n",
    "The analysis in this notebook begins after those Python scripts have run on the campus cluster (it's a compute-intensive process and we split it both across multiple nodes and across multiple cores in each node). \n",
    "\n",
    "The Python scripts produce a series of \"summary files\" that describe novelty, transience, and (what Barron et al call) \"resonance\" for each volume. In the article text, we are probably going to rename resonance something like \"anticipation.\" We calculate this on cosine distance quite simply by subtracting the cosine distances measured from a given text *forward* (\"transience\") from the cosine distances measured *backward* (\"novelty\").\n",
    "\n",
    "#### complexities of the data\n",
    "\n",
    "We measured novelty and transience across temporal windows of different sizes (10, 25, and 40 years). We also experimented with a measurement that uses only the 5% or 20% of volumes closest to a given work when doing the calculation. These options make a slight difference, but in reporting results we emphasize an approach that uses a 25-year window, and all volumes in that window. That's the approach we originally preregistered. (Actually, we planned to use 10-, 20-, and 50-year windows, but slightly adjusted the plan when we realized a 50-year window would just produce a lot of NaNs).\n",
    "\n",
    "#### imports\n",
    "\n",
    "First, we import a few modules that will prove useful later."
   ]
  },
  {
   "cell_type": "code",
   "execution_count": 1,
   "metadata": {},
   "outputs": [],
   "source": [
    "import pandas as pd\n",
    "import numpy as np\n",
    "from matplotlib import pyplot as plt\n",
    "%matplotlib inline\n",
    "import glob, math, random\n",
    "from scipy.stats import pearsonr, zscore, ttest_ind\n",
    "from statistics import mean, stdev\n",
    "from math import sqrt"
   ]
  },
  {
   "cell_type": "markdown",
   "metadata": {},
   "source": [
    "### get metadata\n",
    "\n",
    "In order to analyze the data we will need a metadata table that includes information about volumes, including inferred biographical information about the author (age, gender, nationality) and columns that assign volumes to particular \"hypothesis\" and \"contrast\" sets.\n",
    "\n",
    "To trace how nationality prediction was done, see [```detect_americans```](https://github.com/tedunderwood/asymmetry/blob/master/analysis/detect_americans.ipynb)."
   ]
  },
  {
   "cell_type": "code",
   "execution_count": 2,
   "metadata": {},
   "outputs": [
    {
     "name": "stdout",
     "output_type": "stream",
     "text": [
      "(39784, 39)\n"
     ]
    },
    {
     "data": {
      "text/plain": [
       "Index(['allcopiesofwork', 'author', 'copiesin25yrs', 'earlyedition', 'imprint',\n",
       "       'inferreddate', 'lastname', 'latestcomp', 'nationality', 'isusa',\n",
       "       'actualgender', 'likelygender', 'title', 'authordate', 'birth', 'age',\n",
       "       'recordid', 'best1821_1900', 'best1900_1950', 'best1950_1990',\n",
       "       'anybest', 'best1821_1900contrast', 'best1900_1950contrast',\n",
       "       'best1950_1990contrast', 'reviewed1850_1950',\n",
       "       'reviewed1850_1950contrast', 'heath', 'heathcontrast', 'mostdiscussed',\n",
       "       'mostdiscussedcontrast', 'usnorton', 'usnortoncontrast', 'nonusnorton',\n",
       "       'nonusnortoncontrast', 'preregistered', 'preregisteredcontrast',\n",
       "       'reviewed1965_1990', 'reviewed1965_1990contrast', 'toremove'],\n",
       "      dtype='object')"
      ]
     },
     "execution_count": 2,
     "metadata": {},
     "output_type": "execute_result"
    }
   ],
   "source": [
    "meta = pd.read_csv('../supplement3/thirdmastermeta.tsv', sep = '\\t', index_col = 'docid')\n",
    "print(meta.shape)\n",
    "meta.columns"
   ]
  },
  {
   "cell_type": "markdown",
   "metadata": {},
   "source": [
    "### get data\n",
    "\n",
    "Now the data itself. This is broken into a number of \"summary files\" because the processing that produced it had to be distributed across a cluster. (The entropy calculation is done by comparing individual volumes to each other, and when you've got 40k vols, the number of cross-comparisons becomes fairly large.)\n",
    "\n",
    "So we first make a list of all the files we need. We'll do this twice, because the KLD data and cosine-similarity data are in separate files. First the KLD data."
   ]
  },
  {
   "cell_type": "code",
   "execution_count": 4,
   "metadata": {},
   "outputs": [
    {
     "data": {
      "text/plain": [
       "['../supp4results/supp4_0summary.tsv',\n",
       " '../supp4results/supp4_8000summary.tsv',\n",
       " '../supp4results/supp4_10000summary.tsv',\n",
       " '../supp4results/supp4_14000summary.tsv',\n",
       " '../supp4results/supp4_30000summary.tsv',\n",
       " '../supp4results/supp4_34000summary.tsv',\n",
       " '../supp4results/supp4_6000summary.tsv',\n",
       " '../supp4results/supp4_2000summary.tsv',\n",
       " '../supp4results/supp4_24000summary.tsv',\n",
       " '../supp4results/supp4_20000summary.tsv',\n",
       " '../supp4results/supp4_4000summary.tsv',\n",
       " '../supp4results/supp4_36000summary.tsv',\n",
       " '../supp4results/supp4_18000summary.tsv',\n",
       " '../supp4results/supp4_32000summary.tsv',\n",
       " '../supp4results/supp4_22000summary.tsv',\n",
       " '../supp4results/supp4_26000summary.tsv',\n",
       " '../supp4results/supp4_28000summary.tsv',\n",
       " '../supp4results/supp4_38000summary.tsv',\n",
       " '../supp4results/supp4_16000summary.tsv',\n",
       " '../supp4results/supp4_12000summary.tsv']"
      ]
     },
     "execution_count": 4,
     "metadata": {},
     "output_type": "execute_result"
    }
   ],
   "source": [
    "paths = glob.glob('../supp4results/*0summary.tsv')\n",
    "paths"
   ]
  },
  {
   "cell_type": "markdown",
   "metadata": {},
   "source": [
    "... and then loop across the list, reading them in ... and finally concatenate the data frames."
   ]
  },
  {
   "cell_type": "code",
   "execution_count": 5,
   "metadata": {},
   "outputs": [
    {
     "name": "stdout",
     "output_type": "stream",
     "text": [
      "(39784, 36)\n"
     ]
    }
   ],
   "source": [
    "dfs = []\n",
    "\n",
    "for p in paths:\n",
    "    df = pd.read_csv(p, sep = '\\t', index_col = 'docid')\n",
    "    dfs.append(df)\n",
    "    \n",
    "klddata = pd.concat(dfs, verify_integrity = True)\n",
    "print(klddata.shape)"
   ]
  },
  {
   "cell_type": "markdown",
   "metadata": {},
   "source": [
    "#### Cosine data\n",
    "\n",
    "Now we do the same thing for the cosine summary file."
   ]
  },
  {
   "cell_type": "code",
   "execution_count": 7,
   "metadata": {},
   "outputs": [
    {
     "data": {
      "text/plain": [
       "['../supp4results/supp4_24000cossummary.tsv',\n",
       " '../supp4results/supp4_30000cossummary.tsv',\n",
       " '../supp4results/supp4_8000cossummary.tsv',\n",
       " '../supp4results/supp4_34000cossummary.tsv',\n",
       " '../supp4results/supp4_0cossummary.tsv',\n",
       " '../supp4results/supp4_20000cossummary.tsv',\n",
       " '../supp4results/supp4_2000cossummary.tsv',\n",
       " '../supp4results/supp4_10000cossummary.tsv',\n",
       " '../supp4results/supp4_14000cossummary.tsv',\n",
       " '../supp4results/supp4_6000cossummary.tsv',\n",
       " '../supp4results/supp4_32000cossummary.tsv',\n",
       " '../supp4results/supp4_26000cossummary.tsv',\n",
       " '../supp4results/supp4_18000cossummary.tsv',\n",
       " '../supp4results/supp4_22000cossummary.tsv',\n",
       " '../supp4results/supp4_36000cossummary.tsv',\n",
       " '../supp4results/supp4_12000cossummary.tsv',\n",
       " '../supp4results/supp4_38000cossummary.tsv',\n",
       " '../supp4results/supp4_4000cossummary.tsv',\n",
       " '../supp4results/supp4_16000cossummary.tsv',\n",
       " '../supp4results/supp4_28000cossummary.tsv']"
      ]
     },
     "execution_count": 7,
     "metadata": {},
     "output_type": "execute_result"
    }
   ],
   "source": [
    "paths = glob.glob('../supp4results/*cossummary.tsv')\n",
    "paths"
   ]
  },
  {
   "cell_type": "code",
   "execution_count": 8,
   "metadata": {},
   "outputs": [
    {
     "name": "stdout",
     "output_type": "stream",
     "text": [
      "(39784, 36)\n"
     ]
    }
   ],
   "source": [
    "dfs = []\n",
    "\n",
    "for p in paths:\n",
    "    df = pd.read_csv(p, sep = '\\t', index_col = 'docid')\n",
    "    dfs.append(df)\n",
    "    \n",
    "cosdata = pd.concat(dfs, verify_integrity = True)\n",
    "print(cosdata.shape)"
   ]
  },
  {
   "cell_type": "markdown",
   "metadata": {},
   "source": [
    "## Map a couple of columns from the metadata into our data\n",
    "\n",
    "In order to normalize the data to correct for edge effects, we need the **latest-possible-date-of-composition** from metadata."
   ]
  },
  {
   "cell_type": "code",
   "execution_count": 9,
   "metadata": {},
   "outputs": [],
   "source": [
    "klddata = klddata.join(meta.latestcomp, how = 'inner')\n",
    "cosdata = cosdata.join(meta.latestcomp, how = 'inner')"
   ]
  },
  {
   "cell_type": "markdown",
   "metadata": {},
   "source": [
    "We're also going to normalize for nationality, because\n",
    "\n",
    "    1. A lot of our hypotheses are US-specific, and\n",
    "    2. resonance/anticipation tends to be slightly higher for US authors than for others, simply because the US fraction of the library **increases** across time.\n",
    "\n",
    "Given those two facts, it gives us slightly more confidence to calculate resonance/anticipation separately for US and for non-US authors. We could in principle also separate authors who are British, Canadian, Indian, and so forth, but since we have few hypotheses specific to those nationalities, the gains are likely to be outweighed by increases in fragility."
   ]
  },
  {
   "cell_type": "markdown",
   "metadata": {},
   "source": [
    "Note that a lot of these nationalities are inferred / estimated. Overall accuracy (combining manual ground truth and estimation) comes to about 88-89%; consult [```detect_americans```](https://github.com/tedunderwood/asymmetry/blob/master/analysis/detect_americans.ipynb) for details.\n",
    "\n",
    "We are also fully aware that people like Henry James move across the Atlantic halfway through their lives, that some volumes are collections combining authors of different nationalities, and so on. If we were to fully describe those nuances for each volume, a single \"nationality\" code would be grossly inadequate. It would also take a year or two of manual work, and as you'll see by the end of this notebook, wouldn't make much difference to our analysis.\n",
    "\n",
    "Nationality is not a central subject of inquiry in this project. We're generating a simplified, imperfect *model* of nationality merely because it helps us (imperfectly) factor out a confounding variable that has a modest effect on our results. We think that provides a slight interpretive advantage, but the conclusions of our study would not be profoundly altered if we ignored nationality; to estimate the size of the effect, you can consult [earlier notebooks and models where nationality is not factored out,](https://github.com/tedunderwood/asymmetry/blob/master/analysis/first_eda.ipynb) or look at the end of this notebook where we test hypotheses using both normalized and non-normalized data."
   ]
  },
  {
   "cell_type": "code",
   "execution_count": 10,
   "metadata": {},
   "outputs": [
    {
     "data": {
      "text/plain": [
       "(39784, 38)"
      ]
     },
     "execution_count": 10,
     "metadata": {},
     "output_type": "execute_result"
    }
   ],
   "source": [
    "klddata = klddata.join(meta.isusa, how = 'inner')\n",
    "cosdata = cosdata.join(meta.isusa, how = 'inner')\n",
    "klddata.shape"
   ]
  },
  {
   "cell_type": "markdown",
   "metadata": {},
   "source": [
    "Essentially both ```klddata``` and ```cosdata``` have the same shape and the same columns. The only difference is that the values in one dataframe were produced by taking the KL divergence, and in the other, cosine similarity.\n",
    "\n",
    "#### a look at the structure of the data"
   ]
  },
  {
   "cell_type": "code",
   "execution_count": 28,
   "metadata": {},
   "outputs": [
    {
     "data": {
      "text/plain": [
       "Index(['novelty_1.0_10', 'novelty_1.0_25', 'novelty_1.0_40', 'novelty_0.2_10',\n",
       "       'novelty_0.2_25', 'novelty_0.2_40', 'novelty_0.05_10',\n",
       "       'novelty_0.05_25', 'novelty_0.05_40', 'novelty_0.025_10',\n",
       "       'novelty_0.025_25', 'novelty_0.025_40', 'transience_1.0_10',\n",
       "       'transience_1.0_25', 'transience_1.0_40', 'transience_0.2_10',\n",
       "       'transience_0.2_25', 'transience_0.2_40', 'transience_0.05_10',\n",
       "       'transience_0.05_25', 'transience_0.05_40', 'transience_0.025_10',\n",
       "       'transience_0.025_25', 'transience_0.025_40', 'resonance_1.0_10',\n",
       "       'resonance_1.0_25', 'resonance_1.0_40', 'resonance_0.2_10',\n",
       "       'resonance_0.2_25', 'resonance_0.2_40', 'resonance_0.05_10',\n",
       "       'resonance_0.05_25', 'resonance_0.05_40', 'resonance_0.025_10',\n",
       "       'resonance_0.025_25', 'resonance_0.025_40', 'latestcomp', 'isusa'],\n",
       "      dtype='object')"
      ]
     },
     "execution_count": 28,
     "metadata": {},
     "output_type": "execute_result"
    }
   ],
   "source": [
    "klddata.columns"
   ]
  },
  {
   "cell_type": "markdown",
   "metadata": {},
   "source": [
    "## Normalize data to reflect the edge effects caused by topic modeling\n",
    "\n",
    "\"Normalize\" here means that we take a 7-year window of volumes that are by US authors (or non-US authors), and calculate z scores for volumes within that window. (I.e., subtract the mean and divide by standard deviation.) We replace the raw resonance/anticipation score for each volume with the z score calculated when it's at the center of the window.\n",
    "\n",
    "I have already explained why we normalize for nationality. The reason for normalizing by date is that distance calculations on topic vectors cannot be trusted to remain uniform across a timeline. There are edge-sampling effects which make distances lower toward the ends of the timeline. This is true for both cosine distance and KLD.\n",
    "Here's the loop where we actually do the normalizing. This does take some time to run (~20 min). There might be a simpler/quicker way to do this with an apply method, but it's a bit tricky, since we use a 7-year span to generate the z scores, but only copy over the scores for the central year.\n",
    "\n",
    "The result are two new dataframes called ```zcosdata``` and ```zklddata.``` This is the data that will be used in most subsequent analyses.\n",
    "\n",
    "In doing this, we also loop across columns and calculate a separate z score for each column. The reason is that resonance/anticipation can be calculated in a range of different ways--using different fractions of the dataset, and different temporal windows. There's a separate column for each of these possibilities. (Note, however, that we preregistered some guidelines about the modes of calculation we would actually use in checking hypotheses, to avoid a garden of infinitely forking paths.)"
   ]
  },
  {
   "cell_type": "code",
   "execution_count": 11,
   "metadata": {},
   "outputs": [
    {
     "name": "stdout",
     "output_type": "stream",
     "text": [
      "1801\n",
      "1851\n",
      "1901\n",
      "1951\n",
      "2001\n",
      "1801\n",
      "1851\n",
      "1901\n",
      "1951\n",
      "2001\n"
     ]
    }
   ],
   "source": [
    "# normalize cosine-distance data\n",
    "\n",
    "zcosdata = cosdata.copy(deep = True)\n",
    "columns = [x for x in zcosdata.columns.tolist() if x.startswith('resonance')]\n",
    "\n",
    "for col in columns:\n",
    "    zcosdata[col] = np.nan\n",
    "    # set default as empty\n",
    "\n",
    "for yankeeness in [True, False]:\n",
    "    for yr in range(1800, 2009):\n",
    "        if yr % 50 == 1:\n",
    "            print(yr)\n",
    "        df = cosdata.loc[(cosdata.latestcomp >= yr - 3) & (cosdata.latestcomp <= yr + 3) & (cosdata.isusa == yankeeness), : ]\n",
    "        for col in columns:\n",
    "            nas = np.isnan(df[col])\n",
    "            seriestonormalize = df.loc[~nas, col]\n",
    "            nonnancount = np.count_nonzero(~np.isnan(seriestonormalize))\n",
    "            indices = seriestonormalize.index.values\n",
    "            \n",
    "            if nonnancount > 0:\n",
    "                zscores = zscore(seriestonormalize, nan_policy = 'omit')\n",
    "            else:\n",
    "                zscores = [np.nan] * len(indices)\n",
    "                \n",
    "            for idx, z in zip(indices, zscores):\n",
    "                date = df.loc[idx, 'latestcomp']\n",
    "                if date == yr:\n",
    "                    zcosdata.loc[idx, col] = z"
   ]
  },
  {
   "cell_type": "code",
   "execution_count": 12,
   "metadata": {},
   "outputs": [
    {
     "name": "stdout",
     "output_type": "stream",
     "text": [
      "1801\n",
      "1851\n",
      "1901\n",
      "1951\n",
      "2001\n",
      "1801\n",
      "1851\n",
      "1901\n",
      "1951\n",
      "2001\n"
     ]
    }
   ],
   "source": [
    "# normalize kld data\n",
    "\n",
    "zklddata = cosdata.copy(deep = True)\n",
    "columns = [x for x in zklddata.columns.tolist() if x.startswith('resonance')]\n",
    "\n",
    "for col in columns:\n",
    "    zklddata[col] = np.nan\n",
    "    # set default as empty\n",
    "\n",
    "for yankeeness in [True, False]:\n",
    "    for yr in range(1800, 2009):\n",
    "        if yr % 50 == 1:\n",
    "            print(yr)\n",
    "        df = klddata.loc[(cosdata.latestcomp >= yr - 3) & (klddata.latestcomp <= yr + 3) & (klddata.isusa == yankeeness), : ]\n",
    "        for col in columns:\n",
    "            nas = np.isnan(df[col])\n",
    "            seriestonormalize = df.loc[~nas, col]\n",
    "            nonnancount = np.count_nonzero(~np.isnan(seriestonormalize))\n",
    "            indices = seriestonormalize.index.values\n",
    "            \n",
    "            if nonnancount > 0:\n",
    "                zscores = zscore(seriestonormalize, nan_policy = 'omit')\n",
    "            else:\n",
    "                zscores = [np.nan] * len(indices)\n",
    "                \n",
    "            for idx, z in zip(indices, zscores):\n",
    "                date = df.loc[idx, 'latestcomp']\n",
    "                if date == yr:\n",
    "                    zklddata.loc[idx, col] = z"
   ]
  },
  {
   "cell_type": "markdown",
   "metadata": {},
   "source": [
    "## Test first hypothesis: frequently purchased volumes have more resonance/anticipation\n",
    "\n",
    "The first hypothesis we test involves a correlation between two numeric variables: the anticipation (or resonance) score calculated for a volume and the number of copies of that volume attested in HathiTrust. The underlying theory here is that having a lot of copies in a library is a sign that a book was \"ahead of its time,\" either in the causal sense that it sold a lot of copies and therefore had an *influence* on the future, or in the reverse-causal sense that it became (retrospectively) attractive to librarians because literary history happened to move in its direction. Our experiment doesn't currently allow us to distinguish those causal mechanisms.\n",
    "\n",
    "To test this hypothesis we need a column from metadata that records the number of copies attested in Hathi libraries.\n",
    "\n",
    "(To see where this is calculated, you'll need to consult the [```noveltmmeta```](https://github.com/tedunderwood/noveltmmeta) repo.)"
   ]
  },
  {
   "cell_type": "code",
   "execution_count": 13,
   "metadata": {},
   "outputs": [],
   "source": [
    "zklddata = zklddata.join(meta.allcopiesofwork, how = 'inner')\n",
    "zcosdata = zcosdata.join(meta.allcopiesofwork, how = 'inner')"
   ]
  },
  {
   "cell_type": "markdown",
   "metadata": {},
   "source": [
    "### First test reprinting hypothesis for KLD data\n",
    "\n",
    "Now we loop across the \"resonance\" columns to calculate correlation with number of attested volumes.\n",
    "\n",
    "Since reprinting is sort of a feast-or-famine thing--and high numbers of attested volumes might increase out of proportion to the resonance score--we also try correlation with log(num_vols), which indeed is slightly stronger."
   ]
  },
  {
   "cell_type": "code",
   "execution_count": 14,
   "metadata": {},
   "outputs": [
    {
     "name": "stdout",
     "output_type": "stream",
     "text": [
      "resonance_1.0_10 0.08728919746648668 7.215488840012418e-63\n",
      "log-transformed:  resonance_1.0_10 0.09530068959251048 1.2317250485910705e-74\n",
      "\n",
      "resonance_1.0_25 0.08441329007260154 5.096101444975824e-52\n",
      "log-transformed:  resonance_1.0_25 0.10088682829669138 1.2460851158212266e-73\n",
      "\n",
      "resonance_1.0_40 0.07993584501409841 1.1528321568896112e-38\n",
      "log-transformed:  resonance_1.0_40 0.0995640840050285 4.136257582308606e-59\n",
      "\n",
      "resonance_0.2_10 0.10524455571512012 1.0688293288462121e-90\n",
      "log-transformed:  resonance_0.2_10 0.1081091840319104 1.263064868489692e-95\n",
      "\n",
      "resonance_0.2_25 0.0983437071210339 4.847838580061924e-70\n",
      "log-transformed:  resonance_0.2_25 0.1074098904794799 2.8951403191967555e-83\n",
      "\n",
      "resonance_0.2_40 0.0977114014609437 5.484801926139876e-57\n",
      "log-transformed:  resonance_0.2_40 0.11067176080486792 1.1029149754733553e-72\n",
      "\n",
      "resonance_0.05_10 0.11059881991222634 5.12197690748345e-100\n",
      "log-transformed:  resonance_0.05_10 0.10966060871215587 2.3796698708407397e-98\n",
      "\n",
      "resonance_0.05_25 0.11422297370338053 5.536282434390997e-94\n",
      "log-transformed:  resonance_0.05_25 0.11744791311623634 2.722499345157404e-99\n",
      "\n",
      "resonance_0.05_40 0.11457545103500182 8.420931532578607e-78\n",
      "log-transformed:  resonance_0.05_40 0.12069460658956668 3.461776879518572e-86\n",
      "\n",
      "resonance_0.025_10 0.10187156956994185 4.5528842401607967e-85\n",
      "log-transformed:  resonance_0.025_10 0.10180919735594694 5.762735002754412e-85\n",
      "\n",
      "resonance_0.025_25 0.1132869514558498 1.8014850542398233e-92\n",
      "log-transformed:  resonance_0.025_25 0.11801563567556708 3.0538223427329226e-100\n",
      "\n",
      "resonance_0.025_40 0.11519782706462474 1.238184132393491e-78\n",
      "log-transformed:  resonance_0.025_40 0.12423780774556209 3.0143718762161243e-91\n",
      "\n"
     ]
    }
   ],
   "source": [
    "columns = [x for x in zklddata.columns.tolist() if x.startswith('resonance')]\n",
    "\n",
    "for col in columns:\n",
    "    nas = np.isnan(zklddata[col]) | np.isnan(zklddata['allcopiesofwork'])\n",
    "    r, p = pearsonr(zklddata.loc[~nas, col], zklddata.loc[~nas, 'allcopiesofwork'])\n",
    "    print(col, r, p)\n",
    "    r, p = pearsonr(zklddata.loc[~nas, col], np.log(zklddata.loc[~nas, 'allcopiesofwork'] + 0.64))\n",
    "    print(\"log-transformed: \", col, r, p)\n",
    "    print()"
   ]
  },
  {
   "cell_type": "markdown",
   "metadata": {},
   "source": [
    "We calculated resonance for 100% of the corpus, as well as the 20%, 5% and 2.5% of volumes closest to the volume being evaluated.\n",
    "\n",
    "We also measured across 10-, 25-, and 40-year windows.\n",
    "\n",
    "**Notice, however, that the differences between different measurement strategies are on the whole rather modest!** There's a gap of a little more than .02 in the strength of correlation, and all of the tests sail way, way under *p* < .05. The differences between measurement strategies may be greater for individual vols, but when you're looking at broad correlations or differences of means between groups, the measurement strategy is rarely determinative.\n",
    "\n",
    "### Now test reprinting hypothesis for cosines"
   ]
  },
  {
   "cell_type": "code",
   "execution_count": 15,
   "metadata": {},
   "outputs": [
    {
     "name": "stdout",
     "output_type": "stream",
     "text": [
      "resonance_1.0_10 0.06709482733592166 8.196622815642496e-38\n",
      "log-transformed:  resonance_1.0_10 0.07470698893466719 1.7407655993823467e-46\n",
      "\n",
      "resonance_1.0_25 0.07488757682412964 2.749824267044361e-41\n",
      "log-transformed:  resonance_1.0_25 0.089599669113016 2.0970210199481114e-58\n",
      "\n",
      "resonance_1.0_40 0.0750168203933484 3.034865989188687e-34\n",
      "log-transformed:  resonance_1.0_40 0.09393725069466383 8.677462861708137e-53\n",
      "\n",
      "resonance_0.2_10 0.08077950660533276 4.502056618201435e-54\n",
      "log-transformed:  resonance_0.2_10 0.08920704244683847 1.3682594742099138e-65\n",
      "\n",
      "resonance_0.2_25 0.08376437355976456 3.014651699434066e-51\n",
      "log-transformed:  resonance_0.2_25 0.09885536284788415 9.348337907917226e-71\n",
      "\n",
      "resonance_0.2_40 0.08377395306823843 2.615737487177438e-42\n",
      "log-transformed:  resonance_0.2_40 0.100463025359223 3.734037311965372e-60\n",
      "\n",
      "resonance_0.05_10 0.08510528969854922 7.680229943793652e-60\n",
      "log-transformed:  resonance_0.05_10 0.09140352291298101 8.815119349382746e-69\n",
      "\n",
      "resonance_0.05_25 0.09114073212058982 2.2400121103801427e-60\n",
      "log-transformed:  resonance_0.05_25 0.10298752463293034 1.1480585966307467e-76\n",
      "\n",
      "resonance_0.05_40 0.08976099488815478 2.4575438519004357e-48\n",
      "log-transformed:  resonance_0.05_40 0.1034590889813056 1.0532245338560463e-63\n",
      "\n",
      "resonance_0.025_10 0.085554415605205 1.8584644216693244e-60\n",
      "log-transformed:  resonance_0.025_10 0.09046049541003082 2.1125870882931354e-67\n",
      "\n",
      "resonance_0.025_25 0.09557147727104329 3.1131974213938175e-66\n",
      "log-transformed:  resonance_0.025_25 0.1050289852345829 1.1196822935791435e-79\n",
      "\n",
      "resonance_0.025_40 0.09377699746779974 1.2971741047383545e-52\n",
      "log-transformed:  resonance_0.025_40 0.10556485175726014 2.91295978779827e-66\n",
      "\n"
     ]
    }
   ],
   "source": [
    "for col in columns:\n",
    "    nas = np.isnan(zcosdata[col]) | np.isnan(zcosdata['allcopiesofwork'])\n",
    "    r, p = pearsonr(zcosdata.loc[~nas, col], zcosdata.loc[~nas, 'allcopiesofwork'])\n",
    "    print(col, r, p)\n",
    "    r, p = pearsonr(zcosdata.loc[~nas, col], np.log(zcosdata.loc[~nas, 'allcopiesofwork'] + 0.64))\n",
    "    print(\"log-transformed: \", col, r, p)\n",
    "    print()"
   ]
  },
  {
   "cell_type": "markdown",
   "metadata": {},
   "source": [
    "The correlations are about .02 lower, across the board. Again notice that **it doesn't make a huge difference whether you use cosine distance or KL divergence to test this.** KLD is definitely preferable, for reasons that are probably stated correctly in Barron et al. But the general strategy of subtracting forward-difference from backward-difference is the key innovation in that article. \n",
    "\n",
    "### Testing the first hypothesis without normalization\n",
    "\n",
    "Notice also what makes a bigger difference than KLD/cos: normalizing the data to correct for edge effects in topic modeling."
   ]
  },
  {
   "cell_type": "code",
   "execution_count": 16,
   "metadata": {},
   "outputs": [
    {
     "name": "stdout",
     "output_type": "stream",
     "text": [
      "resonance_1.0_10 0.04834811122565821 2.0968809631470307e-20\n",
      "log-transformed:  resonance_1.0_10 0.023091191166847325 9.901629775302134e-06\n",
      "\n",
      "resonance_1.0_25 0.025822315683363316 3.5712850347872804e-06\n",
      "log-transformed:  resonance_1.0_25 0.013255779737391749 0.0173592420339194\n",
      "\n",
      "resonance_1.0_40 0.025123494220364594 4.476993764925497e-05\n",
      "log-transformed:  resonance_1.0_40 0.01760817637336868 0.004232893465470963\n",
      "\n",
      "resonance_0.2_10 0.11355514935724816 2.2993226836268e-105\n",
      "log-transformed:  resonance_0.2_10 0.08886380975132954 4.243474442567562e-65\n",
      "\n",
      "resonance_0.2_25 0.05256783341877011 3.712185157866457e-21\n",
      "log-transformed:  resonance_0.2_25 0.03304437832035578 2.9959505985579938e-09\n",
      "\n",
      "resonance_0.2_40 0.03398270140009869 3.365013676219131e-08\n",
      "log-transformed:  resonance_0.2_40 0.016127004620531918 0.00880252624247758\n",
      "\n",
      "resonance_0.05_10 0.13224645111238742 1.5814306356708203e-142\n",
      "log-transformed:  resonance_0.05_10 0.10910732690639938 2.253393648943615e-97\n",
      "\n",
      "resonance_0.05_25 0.08285475867099987 3.558768592143476e-50\n",
      "log-transformed:  resonance_0.05_25 0.059318769616998654 1.655478455313489e-26\n",
      "\n",
      "resonance_0.05_40 0.0534478643523775 3.702388560327166e-18\n",
      "log-transformed:  resonance_0.05_40 0.02648276392881803 1.690587142402709e-05\n",
      "\n",
      "resonance_0.025_10 0.12193994513713188 2.561288422831234e-121\n",
      "log-transformed:  resonance_0.025_10 0.1038492527603331 2.4000517696943513e-88\n",
      "\n",
      "resonance_0.025_25 0.07512224620380412 1.5501439925656954e-41\n",
      "log-transformed:  resonance_0.025_25 0.055496053093740574 2.123449229832946e-23\n",
      "\n",
      "resonance_0.025_40 0.04327922122786885 2.021318268069003e-12\n",
      "log-transformed:  resonance_0.025_40 0.019620888759610107 0.0014362409443431329\n",
      "\n"
     ]
    }
   ],
   "source": [
    "klddata = klddata.join(meta.allcopiesofwork, how = 'inner')\n",
    "\n",
    "for col in columns:\n",
    "    nas = np.isnan(klddata[col]) | np.isnan(klddata['allcopiesofwork'])\n",
    "    r, p = pearsonr(klddata.loc[~nas, col], klddata.loc[~nas, 'allcopiesofwork'])\n",
    "    print(col, r, p)\n",
    "    r, p = pearsonr(klddata.loc[~nas, col], np.log(klddata.loc[~nas, 'allcopiesofwork'] + 0.64))\n",
    "    print(\"log-transformed: \", col, r, p)\n",
    "    print()"
   ]
  },
  {
   "cell_type": "markdown",
   "metadata": {},
   "source": [
    "That's a much weaker signal. It still confirms the hypothesis. But normalizing the data makes the correlation substantially stronger--usually more than doubling it. In particular it has a big effect on measurements that use a long temporal window and/or all the volumes. Those seem to be heavily distorted by nationality and/or edge effects."
   ]
  },
  {
   "cell_type": "markdown",
   "metadata": {},
   "source": [
    "## Other hypotheses\n",
    "\n",
    "Most of the hypotheses that remain can be understood as binary comparisons between the means of two samples, and tested using a t-test. To make this systematic and reduce code repetition, we'll define a function that can be used to test a hypothesis about a given category--which we pass as an argument to the function.\n",
    "\n",
    "In each case, we've developed a very cautious test, to avoid worries about confounding variables. For each hypothesis set of volumes we have randomly selected a contrast set (matched as closely as practical to the hypothesis set in genre, nationality, and date). The [matching strategy](https://www.ncbi.nlm.nih.gov/pmc/articles/PMC2943670/) is a way of addressing confounding variables without some of the slipperiness of a complex regression.\n",
    "\n",
    "Then we run a t test on resonance for each of these categories. \n",
    "\n",
    "The test we are relying on as actually confirming the hypothesis is a pre-registered one: we measure resonance at the 25-year window, using all the volumes. This is the column ```resonance_1.0_25.``` (Actually, we pre-registered a plan to test 10, 20, and 50-year windows, whereas here we have 10, 25 and 40 year windows, but the difference between 20- and 25-year windows is not determinative at all.) For the sake of guiding future research, we also run a version of this test using only the 5% of volumes closest to the work in a given year."
   ]
  },
  {
   "cell_type": "code",
   "execution_count": 17,
   "metadata": {},
   "outputs": [],
   "source": [
    "def testahypothesis(hypothesis_cat, data, meta):\n",
    "    contrast_cat = hypothesis_cat + 'contrast'\n",
    "    \n",
    "    hypodocs = meta.index[meta[hypothesis_cat] == 1].tolist()\n",
    "    contradocs = meta.index[meta[contrast_cat] == 1].tolist()\n",
    "    \n",
    "    testoverlap = set(hypodocs).intersection(set(contradocs))\n",
    "    print(len(testoverlap))\n",
    "    \n",
    "    columns = ['resonance_1.0_25', 'resonance_0.05_25']\n",
    "    \n",
    "    for col in columns:\n",
    "        hypothesis_data = data.loc[hypodocs, col]\n",
    "        hypothesis_data = hypothesis_data[~np.isnan(hypothesis_data)]\n",
    "        \n",
    "        contrast_data = data.loc[contradocs, col]\n",
    "        contrast_data = contrast_data[~np.isnan(contrast_data)]\n",
    "        \n",
    "        t, p = ttest_ind(hypothesis_data, contrast_data)\n",
    "        print(col, \"t-test\", t, p)\n",
    "        a = hypothesis_data\n",
    "        b = contrast_data\n",
    "        cohens_d = (mean(a) - mean(b)) / (sqrt((stdev(a) ** 2 + stdev(b) ** 2) / 2))\n",
    "        print(col, \"Cohen's d\", cohens_d)\n",
    "        print() "
   ]
  },
  {
   "cell_type": "markdown",
   "metadata": {},
   "source": [
    "### Testing hypothesis using KLD measurements\n",
    "\n",
    "We have ten hypothesis categories to check: bestsellers in three chronological periods (these labels begin ```best```); volumes reviewed in elite venues 1850-1950, or the most-reviewed volumes 1965-1990; a list of the most-discussed author-title combinations in the JSTOR corpus; US authors anthologized in Heath; US authors anthologized in Norton or Norton Short Fiction; and non-US authors anthologized in the *Norton Anthology of English Literature.*\n",
    "\n",
    "Finally, we preregistered a list of 20 books that we expected to be influential or ahead of their time."
   ]
  },
  {
   "cell_type": "code",
   "execution_count": 18,
   "metadata": {},
   "outputs": [
    {
     "name": "stdout",
     "output_type": "stream",
     "text": [
      "best1821_1900\n",
      "1\n",
      "resonance_1.0_25 t-test 4.728228445527444 3.65220964201985e-06\n",
      "resonance_1.0_25 Cohen's d 0.5733819206752837\n",
      "\n",
      "resonance_0.05_25 t-test 5.459700631524944 1.081163170769938e-07\n",
      "resonance_0.05_25 Cohen's d 0.6620859525890821\n",
      "\n",
      "\n",
      "best1900_1950\n",
      "0\n",
      "resonance_1.0_25 t-test 2.684897540560066 0.007687903350588126\n",
      "resonance_1.0_25 Cohen's d 0.31976664371048014\n",
      "\n",
      "resonance_0.05_25 t-test 2.1143308753730046 0.035370867857592074\n",
      "resonance_0.05_25 Cohen's d 0.2518131427728281\n",
      "\n",
      "\n",
      "best1950_1990\n",
      "0\n",
      "resonance_1.0_25 t-test -1.227309009512024 0.22091398442888913\n",
      "resonance_1.0_25 Cohen's d -0.15807951902442088\n",
      "\n",
      "resonance_0.05_25 t-test -1.8249982605659993 0.06924950717539169\n",
      "resonance_0.05_25 Cohen's d -0.23497939371407023\n",
      "\n",
      "\n",
      "reviewed1850_1950\n",
      "0\n",
      "resonance_1.0_25 t-test 8.112970035262245 1.2661947495462621e-15\n",
      "resonance_1.0_25 Cohen's d 0.48171084616545207\n",
      "\n",
      "resonance_0.05_25 t-test 8.71727776809012 9.874472549286122e-18\n",
      "resonance_0.05_25 Cohen's d 0.5168601717583481\n",
      "\n",
      "\n",
      "heath\n",
      "0\n",
      "resonance_1.0_25 t-test 0.5729283879531895 0.5682236923317783\n",
      "resonance_1.0_25 Cohen's d 0.12348009272915601\n",
      "\n",
      "resonance_0.05_25 t-test -0.17145652445745094 0.8642771802819541\n",
      "resonance_0.05_25 Cohen's d -0.03690030081119217\n",
      "\n",
      "\n",
      "mostdiscussed\n",
      "0\n",
      "resonance_1.0_25 t-test 1.5758647629212292 0.12112197785718982\n",
      "resonance_1.0_25 Cohen's d 0.42889606364322164\n",
      "\n",
      "resonance_0.05_25 t-test 2.7118443629391327 0.00904793775282696\n",
      "resonance_0.05_25 Cohen's d 0.7380705501159762\n",
      "\n",
      "\n",
      "usnorton\n",
      "0\n",
      "resonance_1.0_25 t-test 0.33720091522357826 0.7366322176966928\n",
      "resonance_1.0_25 Cohen's d 0.06489434639177362\n",
      "\n",
      "resonance_0.05_25 t-test -0.1964483342884424 0.844635412396912\n",
      "resonance_0.05_25 Cohen's d -0.03780649956109531\n",
      "\n",
      "\n",
      "nonusnorton\n",
      "0\n",
      "resonance_1.0_25 t-test 2.2170792232921483 0.02905468571005567\n",
      "resonance_1.0_25 Cohen's d 0.45532228285737303\n",
      "\n",
      "resonance_0.05_25 t-test 2.726800678151675 0.007643952023549938\n",
      "resonance_0.05_25 Cohen's d 0.5611191403922763\n",
      "\n",
      "\n",
      "preregistered\n",
      "0\n",
      "resonance_1.0_25 t-test 3.5165866921182998 0.0012019650475790908\n",
      "resonance_1.0_25 Cohen's d 1.1409313814499153\n",
      "\n",
      "resonance_0.05_25 t-test 4.236648090627981 0.00015027037334592466\n",
      "resonance_0.05_25 Cohen's d 1.3745501481852054\n",
      "\n",
      "\n",
      "reviewed1965_1990\n",
      "0\n",
      "resonance_1.0_25 t-test 2.122079135586434 0.03554271812457462\n",
      "resonance_1.0_25 Cohen's d 0.3514383874497575\n",
      "\n",
      "resonance_0.05_25 t-test 0.8211501373582003 0.4129181311944121\n",
      "resonance_0.05_25 Cohen's d 0.13585136401686135\n",
      "\n",
      "\n"
     ]
    }
   ],
   "source": [
    "cols2check = ['best1821_1900',\n",
    "       'best1900_1950', 'best1950_1990', 'reviewed1850_1950', 'heath', \n",
    "        'mostdiscussed', 'usnorton', 'nonusnorton', 'preregistered',\n",
    "       'reviewed1965_1990']\n",
    "\n",
    "for col in cols2check:\n",
    "    print(col)\n",
    "    testahypothesis(col, zklddata, meta)\n",
    "    print()"
   ]
  },
  {
   "cell_type": "markdown",
   "metadata": {},
   "source": [
    "#### analysis\n",
    "\n",
    "There are a number of clearly significant confirmations: well-reviewed books both 1850-1950 and 1965-1990. Our preregistered 20 vols, also the non-US Norton vols. Bestsellers until 1950. (After 1950, interestingly, the effect of being bestseller is negative.)\n",
    "\n",
    "Heath, usnorton, and mostdiscussed are not significant effects. For all of those groups, n is pretty small. On the other hand, nonusnorton and preregistered are significant with a sample size that is no larger, so the negative result here seems meaningful. Academic canonicity is a somewhat less reliable sign of precocity than being well-reviewed, or being a bestseller up to 1950.\n",
    "\n",
    "The declining significance of bestsellerdom as time passes is pretty clear.\n",
    "\n",
    "There's also one error in there: the \"1\" instead of a \"0\" in best1821_1900 suggests that we have a tiny overlap between the hypothesis and contrast set. That shouldn't happen. I will set about fixing.\n",
    "\n",
    "### Testing binary hypotheses using cosine distances\n",
    "\n",
    "Now let's see how much difference it makes if we use cosine distances instead of KL divergences.\n"
   ]
  },
  {
   "cell_type": "code",
   "execution_count": 19,
   "metadata": {},
   "outputs": [
    {
     "name": "stdout",
     "output_type": "stream",
     "text": [
      "best1821_1900\n",
      "1\n",
      "resonance_1.0_25 t-test 4.894647697375073 1.6963582661828981e-06\n",
      "resonance_1.0_25 Cohen's d 0.5935632193077556\n",
      "\n",
      "resonance_0.05_25 t-test 4.30857911999433 2.3033102530687738e-05\n",
      "resonance_0.05_25 Cohen's d 0.5224919649431591\n",
      "\n",
      "\n",
      "best1900_1950\n",
      "0\n",
      "resonance_1.0_25 t-test 2.3410346652946297 0.019932106074257244\n",
      "resonance_1.0_25 Cohen's d 0.2788131712374385\n",
      "\n",
      "resonance_0.05_25 t-test 1.763207019067235 0.07895631739793006\n",
      "resonance_0.05_25 Cohen's d 0.20999490004236038\n",
      "\n",
      "\n",
      "best1950_1990\n",
      "0\n",
      "resonance_1.0_25 t-test -1.7003277242367345 0.09037012587394383\n",
      "resonance_1.0_25 Cohen's d -0.21897056652846222\n",
      "\n",
      "resonance_0.05_25 t-test -1.1594983984105531 0.24741016661201073\n",
      "resonance_0.05_25 Cohen's d -0.14928473228184286\n",
      "\n",
      "\n",
      "reviewed1850_1950\n",
      "0\n",
      "resonance_1.0_25 t-test 8.66876871479035 1.4740017877087207e-17\n",
      "resonance_1.0_25 Cohen's d 0.5143872498973918\n",
      "\n",
      "resonance_0.05_25 t-test 8.442433945553981 9.3178953094924e-17\n",
      "resonance_0.05_25 Cohen's d 0.5009677215425673\n",
      "\n",
      "\n",
      "heath\n",
      "0\n",
      "resonance_1.0_25 t-test 0.9661646544497429 0.336735258138082\n",
      "resonance_1.0_25 Cohen's d 0.20838759084637742\n",
      "\n",
      "resonance_0.05_25 t-test 0.6426903094012367 0.5221754724665545\n",
      "resonance_0.05_25 Cohen's d 0.1385321558264372\n",
      "\n",
      "\n",
      "mostdiscussed\n",
      "0\n",
      "resonance_1.0_25 t-test 1.80120239378128 0.07747064732971883\n",
      "resonance_1.0_25 Cohen's d 0.4902251986937503\n",
      "\n",
      "resonance_0.05_25 t-test 2.5808073134360754 0.012718260334351845\n",
      "resonance_0.05_25 Cohen's d 0.7024067824846083\n",
      "\n",
      "\n",
      "usnorton\n",
      "0\n",
      "resonance_1.0_25 t-test 0.21295632047366217 0.8317700514106994\n",
      "resonance_1.0_25 Cohen's d 0.040983462983700446\n",
      "\n",
      "resonance_0.05_25 t-test 0.1550228166515986 0.8770981366970854\n",
      "resonance_0.05_25 Cohen's d 0.029834154974778215\n",
      "\n",
      "\n",
      "nonusnorton\n",
      "0\n",
      "resonance_1.0_25 t-test 2.3628780297404033 0.02021664005566025\n",
      "resonance_1.0_25 Cohen's d 0.4848727829602496\n",
      "\n",
      "resonance_0.05_25 t-test 2.3609875729883276 0.02031396578275761\n",
      "resonance_0.05_25 Cohen's d 0.4843310091819741\n",
      "\n",
      "\n",
      "preregistered\n",
      "0\n",
      "resonance_1.0_25 t-test 3.201555270239253 0.0028552696919977717\n",
      "resonance_1.0_25 Cohen's d 1.0387216915337885\n",
      "\n",
      "resonance_0.05_25 t-test 3.912823511814946 0.0003885185198255599\n",
      "resonance_0.05_25 Cohen's d 1.2694875814409634\n",
      "\n",
      "\n",
      "reviewed1965_1990\n",
      "0\n",
      "resonance_1.0_25 t-test 2.392482899704717 0.01802471189544939\n",
      "resonance_1.0_25 Cohen's d 0.39571842140669616\n",
      "\n",
      "resonance_0.05_25 t-test 1.584839330563383 0.1151964955215957\n",
      "resonance_0.05_25 Cohen's d 0.2616334875650625\n",
      "\n",
      "\n"
     ]
    }
   ],
   "source": [
    "cols2check = ['best1821_1900',\n",
    "       'best1900_1950', 'best1950_1990', 'reviewed1850_1950', 'heath', \n",
    "        'mostdiscussed', 'usnorton', 'nonusnorton', 'preregistered',\n",
    "       'reviewed1965_1990']\n",
    "\n",
    "for col in cols2check:\n",
    "    print(col)\n",
    "    testahypothesis(col, zcosdata, meta)\n",
    "    print()"
   ]
  },
  {
   "cell_type": "markdown",
   "metadata": {},
   "source": [
    "As far as I can see there is no major difference; the hypotheses confirmed with KLD are also confirmed with cosine distance. There is also no consistent pattern in effect sizes."
   ]
  },
  {
   "cell_type": "markdown",
   "metadata": {},
   "source": [
    "### Testing hypotheses using non-normalized data\n",
    "\n",
    "does this make a difference?"
   ]
  },
  {
   "cell_type": "code",
   "execution_count": 20,
   "metadata": {},
   "outputs": [
    {
     "name": "stdout",
     "output_type": "stream",
     "text": [
      "best1821_1900\n",
      "1\n",
      "resonance_1.0_25 t-test 4.182075022171092 3.9082615701701506e-05\n",
      "resonance_1.0_25 Cohen's d 0.507151089725551\n",
      "\n",
      "resonance_0.05_25 t-test 4.879865872551955 1.817428398324364e-06\n",
      "resonance_0.05_25 Cohen's d 0.5917706597464294\n",
      "\n",
      "\n",
      "best1900_1950\n",
      "0\n",
      "resonance_1.0_25 t-test 2.513992800166754 0.0124984220008915\n",
      "resonance_1.0_25 Cohen's d 0.29941218533573694\n",
      "\n",
      "resonance_0.05_25 t-test 1.9780242952747935 0.04890614473343739\n",
      "resonance_0.05_25 Cohen's d 0.2355792653249139\n",
      "\n",
      "\n",
      "best1950_1990\n",
      "0\n",
      "resonance_1.0_25 t-test -1.0548372414774256 0.2925649318850847\n",
      "resonance_1.0_25 Cohen's d -0.1359274217851787\n",
      "\n",
      "resonance_0.05_25 t-test -1.7965925209078857 0.07366302129819756\n",
      "resonance_0.05_25 Cohen's d -0.2313211297690837\n",
      "\n",
      "\n",
      "reviewed1850_1950\n",
      "0\n",
      "resonance_1.0_25 t-test 6.078234982082009 1.6538365084700576e-09\n",
      "resonance_1.0_25 Cohen's d 0.3609528297449262\n",
      "\n",
      "resonance_0.05_25 t-test 7.289421643756135 5.798815325875458e-13\n",
      "resonance_0.05_25 Cohen's d 0.43162253237097886\n",
      "\n",
      "\n",
      "heath\n",
      "0\n",
      "resonance_1.0_25 t-test 0.697160189665687 0.48762757733645967\n",
      "resonance_1.0_25 Cohen's d 0.15019955591315395\n",
      "\n",
      "resonance_0.05_25 t-test -0.4815998364543825 0.6313425643948118\n",
      "resonance_0.05_25 Cohen's d -0.10358240201877814\n",
      "\n",
      "\n",
      "mostdiscussed\n",
      "0\n",
      "resonance_1.0_25 t-test 1.242959169873501 0.2194583588486102\n",
      "resonance_1.0_25 Cohen's d 0.3382906374781595\n",
      "\n",
      "resonance_0.05_25 t-test 2.21528308622931 0.031144407916093984\n",
      "resonance_0.05_25 Cohen's d 0.6029236885644174\n",
      "\n",
      "\n",
      "usnorton\n",
      "0\n",
      "resonance_1.0_25 t-test 0.2847127364169316 0.7764197248976894\n",
      "resonance_1.0_25 Cohen's d 0.054792991670676666\n",
      "\n",
      "resonance_0.05_25 t-test -0.27656793669578955 0.7826504395540321\n",
      "resonance_0.05_25 Cohen's d -0.05322552423351109\n",
      "\n",
      "\n",
      "nonusnorton\n",
      "0\n",
      "resonance_1.0_25 t-test 2.2730607490919534 0.025324727077765164\n",
      "resonance_1.0_25 Cohen's d 0.46703484851296323\n",
      "\n",
      "resonance_0.05_25 t-test 2.775902798864129 0.006655806196931587\n",
      "resonance_0.05_25 Cohen's d 0.571484087699025\n",
      "\n",
      "\n",
      "preregistered\n",
      "0\n",
      "resonance_1.0_25 t-test 2.700302424577903 0.0104901774852431\n",
      "resonance_1.0_25 Cohen's d 0.8760937935957426\n",
      "\n",
      "resonance_0.05_25 t-test 3.291213325360756 0.0022395288432388027\n",
      "resonance_0.05_25 Cohen's d 1.067810605769049\n",
      "\n",
      "\n",
      "reviewed1965_1990\n",
      "0\n",
      "resonance_1.0_25 t-test 2.4754180826977374 0.014467573582316517\n",
      "resonance_1.0_25 Cohen's d 0.40960004416286233\n",
      "\n",
      "resonance_0.05_25 t-test 1.1581353255146967 0.2487260073136839\n",
      "resonance_0.05_25 Cohen's d 0.1916615513993298\n",
      "\n",
      "\n"
     ]
    }
   ],
   "source": [
    "cols2check = ['best1821_1900',\n",
    "       'best1900_1950', 'best1950_1990', 'reviewed1850_1950', 'heath', \n",
    "        'mostdiscussed', 'usnorton', 'nonusnorton', 'preregistered',\n",
    "       'reviewed1965_1990']\n",
    "\n",
    "for col in cols2check:\n",
    "    print(col)\n",
    "    testahypothesis(col, klddata, meta)\n",
    "    print()"
   ]
  },
  {
   "cell_type": "markdown",
   "metadata": {},
   "source": [
    "I don't see cases where a hypothesis confirmed with normalized data is not confirmed with the raw data. But the effect sizes are generally weaker if we don't normalize."
   ]
  },
  {
   "cell_type": "markdown",
   "metadata": {},
   "source": [
    "## Specific preregistered volumes\n",
    "\n",
    "When we consciously aimed at things we expected to be \"like the future,\" our aim was true. Statistically significant even at n = 20, and effect sizes are huge.\n",
    "\n",
    "Which volumes in particular create this effect? Note that these are z scores, so the mean for each column (in the whole collection is 0 and sd is 1).\n"
   ]
  },
  {
   "cell_type": "code",
   "execution_count": 23,
   "metadata": {},
   "outputs": [
    {
     "data": {
      "text/html": [
       "<div>\n",
       "<style scoped>\n",
       "    .dataframe tbody tr th:only-of-type {\n",
       "        vertical-align: middle;\n",
       "    }\n",
       "\n",
       "    .dataframe tbody tr th {\n",
       "        vertical-align: top;\n",
       "    }\n",
       "\n",
       "    .dataframe thead th {\n",
       "        text-align: right;\n",
       "    }\n",
       "</style>\n",
       "<table border=\"1\" class=\"dataframe\">\n",
       "  <thead>\n",
       "    <tr style=\"text-align: right;\">\n",
       "      <th></th>\n",
       "      <th>resonance_1.0_25</th>\n",
       "      <th>resonance_0.05_40</th>\n",
       "      <th>resonance_1.0_10</th>\n",
       "      <th>latestcomp</th>\n",
       "      <th>author</th>\n",
       "    </tr>\n",
       "    <tr>\n",
       "      <th>docid</th>\n",
       "      <th></th>\n",
       "      <th></th>\n",
       "      <th></th>\n",
       "      <th></th>\n",
       "      <th></th>\n",
       "    </tr>\n",
       "  </thead>\n",
       "  <tbody>\n",
       "    <tr>\n",
       "      <th>nyp.33433074943634</th>\n",
       "      <td>NaN</td>\n",
       "      <td>NaN</td>\n",
       "      <td>0.568580</td>\n",
       "      <td>1813</td>\n",
       "      <td>Austen, Jane</td>\n",
       "    </tr>\n",
       "    <tr>\n",
       "      <th>mdp.39015062084390</th>\n",
       "      <td>2.141427</td>\n",
       "      <td>1.469642</td>\n",
       "      <td>1.698105</td>\n",
       "      <td>1955</td>\n",
       "      <td>Nabokov, Vladimir</td>\n",
       "    </tr>\n",
       "    <tr>\n",
       "      <th>uc2.ark+=13960=t3cz3334b</th>\n",
       "      <td>1.497907</td>\n",
       "      <td>1.576004</td>\n",
       "      <td>0.735204</td>\n",
       "      <td>1884</td>\n",
       "      <td>Twain, Mark</td>\n",
       "    </tr>\n",
       "    <tr>\n",
       "      <th>uva.x000380956</th>\n",
       "      <td>-0.370519</td>\n",
       "      <td>0.211187</td>\n",
       "      <td>-0.377158</td>\n",
       "      <td>1865</td>\n",
       "      <td>Verne, Jules</td>\n",
       "    </tr>\n",
       "    <tr>\n",
       "      <th>nyp.33433076030760</th>\n",
       "      <td>0.283792</td>\n",
       "      <td>0.469276</td>\n",
       "      <td>0.192853</td>\n",
       "      <td>1844</td>\n",
       "      <td>Poe, Edgar Allan</td>\n",
       "    </tr>\n",
       "    <tr>\n",
       "      <th>inu.39000003707283</th>\n",
       "      <td>1.326140</td>\n",
       "      <td>1.500688</td>\n",
       "      <td>0.923641</td>\n",
       "      <td>1892</td>\n",
       "      <td>Doyle, Arthur Conan</td>\n",
       "    </tr>\n",
       "    <tr>\n",
       "      <th>uva.x000464259</th>\n",
       "      <td>0.077498</td>\n",
       "      <td>0.243171</td>\n",
       "      <td>0.276871</td>\n",
       "      <td>1850</td>\n",
       "      <td>Hawthorne, Nathaniel</td>\n",
       "    </tr>\n",
       "    <tr>\n",
       "      <th>mdp.39015000695182</th>\n",
       "      <td>1.899186</td>\n",
       "      <td>NaN</td>\n",
       "      <td>1.325339</td>\n",
       "      <td>1972</td>\n",
       "      <td>Atwood, Margaret</td>\n",
       "    </tr>\n",
       "    <tr>\n",
       "      <th>uc2.ark+=13960=t1hh6d619</th>\n",
       "      <td>1.094664</td>\n",
       "      <td>1.529024</td>\n",
       "      <td>0.689373</td>\n",
       "      <td>1900</td>\n",
       "      <td>Dreiser, Theodore</td>\n",
       "    </tr>\n",
       "    <tr>\n",
       "      <th>uc1.32106002103940</th>\n",
       "      <td>1.406360</td>\n",
       "      <td>1.560343</td>\n",
       "      <td>0.794301</td>\n",
       "      <td>1952</td>\n",
       "      <td>Ellison, Ralph</td>\n",
       "    </tr>\n",
       "    <tr>\n",
       "      <th>mdp.39015066409924</th>\n",
       "      <td>1.038430</td>\n",
       "      <td>1.419004</td>\n",
       "      <td>1.223019</td>\n",
       "      <td>1940</td>\n",
       "      <td>Wright, Richard</td>\n",
       "    </tr>\n",
       "    <tr>\n",
       "      <th>mdp.39015066065254</th>\n",
       "      <td>0.899109</td>\n",
       "      <td>NaN</td>\n",
       "      <td>0.632648</td>\n",
       "      <td>1973</td>\n",
       "      <td>Pynchon, Thomas</td>\n",
       "    </tr>\n",
       "    <tr>\n",
       "      <th>dul1.ark+=13960=t98637h6g</th>\n",
       "      <td>2.851193</td>\n",
       "      <td>2.418334</td>\n",
       "      <td>1.485716</td>\n",
       "      <td>1895</td>\n",
       "      <td>Wells, H. G. (Herbert George)</td>\n",
       "    </tr>\n",
       "    <tr>\n",
       "      <th>inu.30000007102522</th>\n",
       "      <td>1.497735</td>\n",
       "      <td>1.441246</td>\n",
       "      <td>0.868940</td>\n",
       "      <td>1925</td>\n",
       "      <td>Fitzgerald, F. Scott</td>\n",
       "    </tr>\n",
       "    <tr>\n",
       "      <th>nyp.33433074890454</th>\n",
       "      <td>-0.104394</td>\n",
       "      <td>0.180393</td>\n",
       "      <td>-0.043819</td>\n",
       "      <td>1851</td>\n",
       "      <td>Melville, Herman</td>\n",
       "    </tr>\n",
       "    <tr>\n",
       "      <th>uc1.b4713109</th>\n",
       "      <td>1.391817</td>\n",
       "      <td>0.961180</td>\n",
       "      <td>1.334026</td>\n",
       "      <td>1847</td>\n",
       "      <td>Brontë, Charlotte</td>\n",
       "    </tr>\n",
       "    <tr>\n",
       "      <th>mdp.39015021862308</th>\n",
       "      <td>0.527093</td>\n",
       "      <td>NaN</td>\n",
       "      <td>0.437024</td>\n",
       "      <td>1977</td>\n",
       "      <td>Morrison, Toni</td>\n",
       "    </tr>\n",
       "    <tr>\n",
       "      <th>mdp.39015031600409</th>\n",
       "      <td>2.313861</td>\n",
       "      <td>2.127114</td>\n",
       "      <td>1.179059</td>\n",
       "      <td>1945</td>\n",
       "      <td>Chandler, Raymond</td>\n",
       "    </tr>\n",
       "    <tr>\n",
       "      <th>nyp.33433081852711</th>\n",
       "      <td>-0.471735</td>\n",
       "      <td>-0.158815</td>\n",
       "      <td>-0.494849</td>\n",
       "      <td>1882</td>\n",
       "      <td>James, Henry</td>\n",
       "    </tr>\n",
       "    <tr>\n",
       "      <th>mdp.39015004063601</th>\n",
       "      <td>1.171081</td>\n",
       "      <td>1.519079</td>\n",
       "      <td>1.828535</td>\n",
       "      <td>1939</td>\n",
       "      <td>Steinbeck, John</td>\n",
       "    </tr>\n",
       "  </tbody>\n",
       "</table>\n",
       "</div>"
      ],
      "text/plain": [
       "                           resonance_1.0_25  resonance_0.05_40  \\\n",
       "docid                                                            \n",
       "nyp.33433074943634                      NaN                NaN   \n",
       "mdp.39015062084390                 2.141427           1.469642   \n",
       "uc2.ark+=13960=t3cz3334b           1.497907           1.576004   \n",
       "uva.x000380956                    -0.370519           0.211187   \n",
       "nyp.33433076030760                 0.283792           0.469276   \n",
       "inu.39000003707283                 1.326140           1.500688   \n",
       "uva.x000464259                     0.077498           0.243171   \n",
       "mdp.39015000695182                 1.899186                NaN   \n",
       "uc2.ark+=13960=t1hh6d619           1.094664           1.529024   \n",
       "uc1.32106002103940                 1.406360           1.560343   \n",
       "mdp.39015066409924                 1.038430           1.419004   \n",
       "mdp.39015066065254                 0.899109                NaN   \n",
       "dul1.ark+=13960=t98637h6g          2.851193           2.418334   \n",
       "inu.30000007102522                 1.497735           1.441246   \n",
       "nyp.33433074890454                -0.104394           0.180393   \n",
       "uc1.b4713109                       1.391817           0.961180   \n",
       "mdp.39015021862308                 0.527093                NaN   \n",
       "mdp.39015031600409                 2.313861           2.127114   \n",
       "nyp.33433081852711                -0.471735          -0.158815   \n",
       "mdp.39015004063601                 1.171081           1.519079   \n",
       "\n",
       "                           resonance_1.0_10  latestcomp  \\\n",
       "docid                                                     \n",
       "nyp.33433074943634                 0.568580        1813   \n",
       "mdp.39015062084390                 1.698105        1955   \n",
       "uc2.ark+=13960=t3cz3334b           0.735204        1884   \n",
       "uva.x000380956                    -0.377158        1865   \n",
       "nyp.33433076030760                 0.192853        1844   \n",
       "inu.39000003707283                 0.923641        1892   \n",
       "uva.x000464259                     0.276871        1850   \n",
       "mdp.39015000695182                 1.325339        1972   \n",
       "uc2.ark+=13960=t1hh6d619           0.689373        1900   \n",
       "uc1.32106002103940                 0.794301        1952   \n",
       "mdp.39015066409924                 1.223019        1940   \n",
       "mdp.39015066065254                 0.632648        1973   \n",
       "dul1.ark+=13960=t98637h6g          1.485716        1895   \n",
       "inu.30000007102522                 0.868940        1925   \n",
       "nyp.33433074890454                -0.043819        1851   \n",
       "uc1.b4713109                       1.334026        1847   \n",
       "mdp.39015021862308                 0.437024        1977   \n",
       "mdp.39015031600409                 1.179059        1945   \n",
       "nyp.33433081852711                -0.494849        1882   \n",
       "mdp.39015004063601                 1.828535        1939   \n",
       "\n",
       "                                                  author  \n",
       "docid                                                     \n",
       "nyp.33433074943634                          Austen, Jane  \n",
       "mdp.39015062084390                     Nabokov, Vladimir  \n",
       "uc2.ark+=13960=t3cz3334b                     Twain, Mark  \n",
       "uva.x000380956                              Verne, Jules  \n",
       "nyp.33433076030760                      Poe, Edgar Allan  \n",
       "inu.39000003707283                   Doyle, Arthur Conan  \n",
       "uva.x000464259                      Hawthorne, Nathaniel  \n",
       "mdp.39015000695182                      Atwood, Margaret  \n",
       "uc2.ark+=13960=t1hh6d619               Dreiser, Theodore  \n",
       "uc1.32106002103940                        Ellison, Ralph  \n",
       "mdp.39015066409924                       Wright, Richard  \n",
       "mdp.39015066065254                       Pynchon, Thomas  \n",
       "dul1.ark+=13960=t98637h6g  Wells, H. G. (Herbert George)  \n",
       "inu.30000007102522                  Fitzgerald, F. Scott  \n",
       "nyp.33433074890454                      Melville, Herman  \n",
       "uc1.b4713109                           Brontë, Charlotte  \n",
       "mdp.39015021862308                        Morrison, Toni  \n",
       "mdp.39015031600409                     Chandler, Raymond  \n",
       "nyp.33433081852711                          James, Henry  \n",
       "mdp.39015004063601                       Steinbeck, John  "
      ]
     },
     "execution_count": 23,
     "metadata": {},
     "output_type": "execute_result"
    }
   ],
   "source": [
    "prereg = meta.index[meta['preregistered'] == 1].tolist()\n",
    "special = zklddata.loc[prereg, ['resonance_1.0_25', 'resonance_0.05_40', 'resonance_1.0_10', 'latestcomp']]\n",
    "special = special.join(meta.author, how = 'inner')\n",
    "special"
   ]
  },
  {
   "cell_type": "markdown",
   "metadata": {},
   "source": [
    "Vladimir Nabokov, Margaret Atwood, HG Wells, and Raymond Chandler are the champions of this round."
   ]
  },
  {
   "cell_type": "markdown",
   "metadata": {},
   "source": [
    "## Interaction with age\n",
    "\n",
    "The author's age at time of composition / publication is a very powerful factor in this dataset. It's worth considering how it interacts with other categories.\n",
    "\n",
    "Here we plot the author's age (at time of publication) on the x axis, the precocity of the work on y axis, and separate prominently reviewed authors (in blue) from randomly selected ones (in red)."
   ]
  },
  {
   "cell_type": "code",
   "execution_count": 27,
   "metadata": {},
   "outputs": [],
   "source": [
    "# join age to the data \n",
    "\n",
    "zklddata = zklddata.join(meta.age, how = 'inner')\n",
    "\n",
    "reviewed_docs = meta.index[meta.reviewed1850_1950 == 1].tolist()\n",
    "unreviewed_docs = meta.index[meta.reviewed1850_1950contrast == 1].tolist()\n",
    "\n",
    "reviewed_df = zklddata.loc[reviewed_docs, ['resonance_1.0_25', 'age']]\n",
    "unreviewed_df = zklddata.loc[unreviewed_docs, ['resonance_1.0_25', 'age']]\n",
    "\n",
    "plt.rcParams[\"figure.figsize\"] = [10,8]"
   ]
  },
  {
   "cell_type": "code",
   "execution_count": 28,
   "metadata": {},
   "outputs": [
    {
     "data": {
      "image/png": "[encoded data removed]",
      "text/plain": [
       "<Figure size 720x576 with 1 Axes>"
      ]
     },
     "metadata": {
      "needs_background": "light"
     },
     "output_type": "display_data"
    }
   ],
   "source": [
    "x = reviewed_df.age\n",
    "y = reviewed_df['resonance_1.0_25']\n",
    "plt.scatter(x, y, c = 'b')\n",
    "x = x[~np.isnan(x) & ~np.isnan(y)]\n",
    "y = y[~np.isnan(y) & ~np.isnan(x)]\n",
    "z = np.polyfit(x, y, 1)\n",
    "p = np.poly1d(z)\n",
    "plt.plot(x,p(x),\"b--\")\n",
    "\n",
    "x = unreviewed_df.age\n",
    "y = unreviewed_df['resonance_1.0_25']\n",
    "plt.scatter(x, y, c = 'r', alpha = 0.6)\n",
    "x = x[~np.isnan(x) & ~np.isnan(y)]\n",
    "y = y[~np.isnan(y) & ~np.isnan(x)]\n",
    "z = np.polyfit(x, y, 1)\n",
    "p = np.poly1d(z)\n",
    "plt.plot(x,p(x),\"r--\")\n",
    "\n",
    "plt.show()"
   ]
  },
  {
   "cell_type": "code",
   "execution_count": 98,
   "metadata": {},
   "outputs": [],
   "source": [
    "x = list(reviewed_df.age)\n",
    "x.extend(unreviewed_df.age)\n",
    "y = list(reviewed_df['resonance_1.0_25'])\n",
    "y.extend(unreviewed_df['resonance_1.0_25'])\n",
    "revstatus = [1] * len(reviewed_df)\n",
    "revstatus.extend([0] * len(unreviewed_df))\n",
    "assert len(x) == len(y)\n",
    "assert len(revstatus) == len(x)\n",
    "outframe = pd.DataFrame({'age': x, 'precocity': y, 'reviewstatus': revstatus})\n",
    "outframe.to_csv('precocity_of_reviewed_fiction.tsv', sep = '\\t', index = False)"
   ]
  },
  {
   "cell_type": "markdown",
   "metadata": {},
   "source": [
    "Both factors matter. Reviewed authors have more precocity than unreviewed ones, at every age. But notice that any thirty-year-old author (even a randomly selected one) is likely to resemble the future more than any sixty-five-year-old one (even if famous)."
   ]
  },
  {
   "cell_type": "code",
   "execution_count": 60,
   "metadata": {},
   "outputs": [],
   "source": [
    "reviewed_docs = meta.index[meta.nonusnorton == 1].tolist()"
   ]
  },
  {
   "cell_type": "code",
   "execution_count": 61,
   "metadata": {},
   "outputs": [
    {
     "data": {
      "text/plain": [
       "55"
      ]
     },
     "execution_count": 61,
     "metadata": {},
     "output_type": "execute_result"
    }
   ],
   "source": [
    "len(reviewed_docs)"
   ]
  },
  {
   "cell_type": "code",
   "execution_count": 55,
   "metadata": {},
   "outputs": [],
   "source": [
    "def bootstrapahypothesis(hypothesis_cat, data, meta):\n",
    "    contrast_cat = hypothesis_cat + 'contrast'\n",
    "    \n",
    "    hypodocs = meta.index[meta[hypothesis_cat] == 1].tolist()\n",
    "    contradocs = meta.index[meta[contrast_cat] == 1].tolist()\n",
    "    \n",
    "    results = []\n",
    "    \n",
    "    hypothesis_data = data.loc[hypodocs, 'resonance_1.0_25']\n",
    "    hypothesis_data = hypothesis_data[~np.isnan(hypothesis_data)]\n",
    "\n",
    "    contrast_data = data.loc[contradocs, 'resonance_1.0_25']\n",
    "    contrast_data = contrast_data[~np.isnan(contrast_data)]\n",
    "    \n",
    "    for i in range(1000):\n",
    "        \n",
    "        a = hypothesis_data.sample(n = len(hypothesis_data), replace = True)\n",
    "        b = contrast_data.sample(n = len(contrast_data), replace = True)\n",
    "        cohens_d = (mean(a) - mean(b)) / (sqrt((stdev(a) ** 2 + stdev(b) ** 2) / 2))\n",
    "        \n",
    "        results.append(cohens_d)\n",
    "        \n",
    "    results.sort()\n",
    "    \n",
    "    return results[25], results[500], results[975], results"
   ]
  },
  {
   "cell_type": "code",
   "execution_count": 45,
   "metadata": {},
   "outputs": [
    {
     "data": {
      "text/plain": [
       "(0.5562048516850714, 1.1659589230953948, 1.9013848402445093)"
      ]
     },
     "execution_count": 45,
     "metadata": {},
     "output_type": "execute_result"
    }
   ],
   "source": [
    "bootstrapahypothesis('preregistered', zklddata, meta)"
   ]
  },
  {
   "cell_type": "code",
   "execution_count": 46,
   "metadata": {},
   "outputs": [
    {
     "data": {
      "text/plain": [
       "(0.4199013093435827, 1.069906617684502, 1.8467177203528147)"
      ]
     },
     "execution_count": 46,
     "metadata": {},
     "output_type": "execute_result"
    }
   ],
   "source": [
    "bootstrapahypothesis('preregistered', zcosdata, meta)"
   ]
  },
  {
   "cell_type": "code",
   "execution_count": 47,
   "metadata": {},
   "outputs": [
    {
     "data": {
      "text/plain": [
       "(0.2929119468577668, 0.9002889429856898, 1.623641308796837)"
      ]
     },
     "execution_count": 47,
     "metadata": {},
     "output_type": "execute_result"
    }
   ],
   "source": [
    "bootstrapahypothesis('preregistered', klddata, meta)"
   ]
  },
  {
   "cell_type": "code",
   "execution_count": 48,
   "metadata": {},
   "outputs": [
    {
     "data": {
      "text/plain": [
       "(0.36764729721267503, 0.48138127819630927, 0.5946181129877018)"
      ]
     },
     "execution_count": 48,
     "metadata": {},
     "output_type": "execute_result"
    }
   ],
   "source": [
    "bootstrapahypothesis('reviewed1850_1950', zklddata, meta)"
   ]
  },
  {
   "cell_type": "code",
   "execution_count": 50,
   "metadata": {},
   "outputs": [
    {
     "data": {
      "text/plain": [
       "(0.24584332482267554, 0.36224474757022246, 0.47608760821420987)"
      ]
     },
     "execution_count": 50,
     "metadata": {},
     "output_type": "execute_result"
    }
   ],
   "source": [
    "bootstrapahypothesis('reviewed1850_1950', klddata, meta)"
   ]
  },
  {
   "cell_type": "code",
   "execution_count": 51,
   "metadata": {},
   "outputs": [
    {
     "data": {
      "text/plain": [
       "(0.3991966394073932, 0.5140605608584555, 0.6339382777358752)"
      ]
     },
     "execution_count": 51,
     "metadata": {},
     "output_type": "execute_result"
    }
   ],
   "source": [
    "bootstrapahypothesis('reviewed1850_1950', zcosdata, meta)"
   ]
  },
  {
   "cell_type": "code",
   "execution_count": 82,
   "metadata": {},
   "outputs": [
    {
     "name": "stdout",
     "output_type": "stream",
     "text": [
      "best1900_1950 kld\n",
      "best1900_1950 cosine\n",
      "reviewed1850_1950 kld\n",
      "reviewed1850_1950 cosine\n"
     ]
    }
   ],
   "source": [
    "vizdata = []\n",
    "labels = ['kld', 'cosine', 'unnormalized']\n",
    "datasets = [zklddata, zcosdata, cosdata]\n",
    "\n",
    "forboxplots = []\n",
    "forvizlabels = []\n",
    "\n",
    "for hypothesis in ['best1900_1950', 'reviewed1850_1950']:\n",
    "    for idx in [0, 1]:\n",
    "        data = datasets[idx]\n",
    "        label = labels[idx]\n",
    "        bottom, middle, top, wholevector = bootstrapahypothesis(hypothesis, data, meta)\n",
    "        \n",
    "        row = dict()\n",
    "        row['dataset'] = label\n",
    "        row['hypothesis'] = hypothesis   \n",
    "        row['bottom'] = bottom\n",
    "        row['top'] = top\n",
    "        row['middle'] = middle\n",
    "        \n",
    "        vizdata.append(row)\n",
    "        forboxplots.append(wholevector)\n",
    "        \n",
    "        print(hypothesis, label)\n",
    "        forvizlabels.append(hypothesis + \"_\" + label)\n",
    "        "
   ]
  },
  {
   "cell_type": "code",
   "execution_count": 83,
   "metadata": {},
   "outputs": [
    {
     "data": {
      "image/png": "[encoded data removed]",
      "text/plain": [
       "<Figure size 720x576 with 1 Axes>"
      ]
     },
     "metadata": {
      "needs_background": "light"
     },
     "output_type": "display_data"
    }
   ],
   "source": [
    "plt.rcParams.update({'font.size': 14})\n",
    "\n",
    "forvizlabels = ['Bestsellers 1900-1950,\\nKL divergence','Bestsellers 1900-1950,\\ncosine distance',     \n",
    "                'Prominently reviewed,\\nKL divergence', 'Prominently reviewed,\\ncosine distance'              \n",
    "]\n",
    "\n",
    "fig, ax = plt.subplots()\n",
    "ax.set_title('Bootstrapped effect sizes\\n')\n",
    "facecolor = ['b', 'g', 'b', 'g']\n",
    "boxes = plt.boxplot(forboxplots, vert=False)\n",
    "for idx, box in enumerate(boxes['boxes']):\n",
    "    # change outline color\n",
    "    box.set(color = facecolor[idx], linewidth=3)\n",
    "ax.set_yticklabels(forvizlabels)\n",
    "\n",
    "plt.plot()\n",
    "fig.savefig('bootstrap.png', bbox_inches = 'tight')"
   ]
  },
  {
   "cell_type": "code",
   "execution_count": 85,
   "metadata": {},
   "outputs": [
    {
     "data": {
      "text/html": [
       "<div>\n",
       "<style scoped>\n",
       "    .dataframe tbody tr th:only-of-type {\n",
       "        vertical-align: middle;\n",
       "    }\n",
       "\n",
       "    .dataframe tbody tr th {\n",
       "        vertical-align: top;\n",
       "    }\n",
       "\n",
       "    .dataframe thead th {\n",
       "        text-align: right;\n",
       "    }\n",
       "</style>\n",
       "<table border=\"1\" class=\"dataframe\">\n",
       "  <thead>\n",
       "    <tr style=\"text-align: right;\">\n",
       "      <th></th>\n",
       "      <th>dataset</th>\n",
       "      <th>hypothesis</th>\n",
       "      <th>bottom</th>\n",
       "      <th>top</th>\n",
       "      <th>middle</th>\n",
       "    </tr>\n",
       "  </thead>\n",
       "  <tbody>\n",
       "    <tr>\n",
       "      <th>0</th>\n",
       "      <td>kld</td>\n",
       "      <td>best1900_1950</td>\n",
       "      <td>0.080793</td>\n",
       "      <td>0.546616</td>\n",
       "      <td>0.319492</td>\n",
       "    </tr>\n",
       "    <tr>\n",
       "      <th>1</th>\n",
       "      <td>cosine</td>\n",
       "      <td>best1900_1950</td>\n",
       "      <td>0.047965</td>\n",
       "      <td>0.519637</td>\n",
       "      <td>0.277143</td>\n",
       "    </tr>\n",
       "    <tr>\n",
       "      <th>2</th>\n",
       "      <td>kld</td>\n",
       "      <td>reviewed1850_1950</td>\n",
       "      <td>0.370781</td>\n",
       "      <td>0.594014</td>\n",
       "      <td>0.482935</td>\n",
       "    </tr>\n",
       "    <tr>\n",
       "      <th>3</th>\n",
       "      <td>cosine</td>\n",
       "      <td>reviewed1850_1950</td>\n",
       "      <td>0.403500</td>\n",
       "      <td>0.630778</td>\n",
       "      <td>0.515669</td>\n",
       "    </tr>\n",
       "  </tbody>\n",
       "</table>\n",
       "</div>"
      ],
      "text/plain": [
       "  dataset         hypothesis    bottom       top    middle\n",
       "0     kld      best1900_1950  0.080793  0.546616  0.319492\n",
       "1  cosine      best1900_1950  0.047965  0.519637  0.277143\n",
       "2     kld  reviewed1850_1950  0.370781  0.594014  0.482935\n",
       "3  cosine  reviewed1850_1950  0.403500  0.630778  0.515669"
      ]
     },
     "execution_count": 85,
     "metadata": {},
     "output_type": "execute_result"
    }
   ],
   "source": [
    "vizdf = pd.DataFrame.from_records(vizdata)\n",
    "vizdf"
   ]
  },
  {
   "cell_type": "code",
   "execution_count": 86,
   "metadata": {},
   "outputs": [],
   "source": [
    "vizdf.to_csv('viz_for_effect_size.tsv', sep = '\\t', index = False)"
   ]
  },
  {
   "cell_type": "code",
   "execution_count": 96,
   "metadata": {},
   "outputs": [
    {
     "data": {
      "text/plain": [
       "<matplotlib.collections.PathCollection at 0x7fcb595bfe10>"
      ]
     },
     "execution_count": 96,
     "metadata": {},
     "output_type": "execute_result"
    },
    {
     "data": {
      "image/png": "[encoded data removed]",
      "text/plain": [
       "<Figure size 720x576 with 1 Axes>"
      ]
     },
     "metadata": {
      "needs_background": "light"
     },
     "output_type": "display_data"
    }
   ],
   "source": [
    "reviewed_docs = meta.index[meta.reviewed1850_1950 == 1].tolist()\n",
    "h_data = zklddata.loc[reviewed_docs, : ]\n",
    "plt.scatter(h_data['resonance_1.0_25'], h_data['novelty_1.0_25'])"
   ]
  },
  {
   "cell_type": "code",
   "execution_count": null,
   "metadata": {},
   "outputs": [],
   "source": []
  }
 ],
 "metadata": {
  "kernelspec": {
   "display_name": "Python 3",
   "language": "python",
   "name": "python3"
  },
  "language_info": {
   "codemirror_mode": {
    "name": "ipython",
    "version": 3
   },
   "file_extension": ".py",
   "mimetype": "text/x-python",
   "name": "python",
   "nbconvert_exporter": "python",
   "pygments_lexer": "ipython3",
   "version": "3.7.6"
  }
 },
 "nbformat": 4,
 "nbformat_minor": 2
}
